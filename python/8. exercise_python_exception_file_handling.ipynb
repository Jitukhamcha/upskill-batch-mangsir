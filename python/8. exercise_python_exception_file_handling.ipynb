{
 "cells": [
  {
   "cell_type": "markdown",
   "metadata": {},
   "source": [
    "# Python Programming Assignment: Exceptional handling\n",
    "\n",
    "### Task 1: Write a function to take two numbers as input and perform division. Implement exception handling to catch a ZeroDivisionError and display a user-friendly message."
   ]
  },
  {
   "cell_type": "code",
   "execution_count": 1,
   "id": "d782a505",
   "metadata": {},
   "outputs": [
    {
     "name": "stdout",
     "output_type": "stream",
     "text": [
      "It is not divisible\n"
     ]
    }
   ],
   "source": [
    "def div(a,b):\n",
    "    try:\n",
    "        x = a/b\n",
    "    except:\n",
    "        print(\"It is not divisible\")\n",
    "    \n",
    "div(65,0)"
   ]
  },
  {
   "cell_type": "markdown",
   "id": "85b7cc26",
   "metadata": {},
   "source": [
    "### Task 2: Write a function to take two number and perform addition operation. Implement exception handling to catch a TypeError and display a user-friendly message. if both number are of same type, it should return their sum as result and incase of type mismatche it should handle exception.\n",
    "#### valid condition = int + int, float + int, string + string\n",
    "\n",
    "#### invalid condition = int + string, float + string\n"
   ]
  },
  {
   "cell_type": "code",
   "execution_count": 29,
   "id": "5ef6531a",
   "metadata": {},
   "outputs": [
    {
     "ename": "SyntaxError",
     "evalue": "unterminated f-string literal (detected at line 13) (375779115.py, line 13)",
     "output_type": "error",
     "traceback": [
      "\u001b[1;36m  Cell \u001b[1;32mIn[29], line 13\u001b[1;36m\u001b[0m\n\u001b[1;33m    return f\"Error: {str(e)}. Supported combinations: int + int, float + int,\u001b[0m\n\u001b[1;37m           ^\u001b[0m\n\u001b[1;31mSyntaxError\u001b[0m\u001b[1;31m:\u001b[0m unterminated f-string literal (detected at line 13)\n"
     ]
    }
   ],
   "source": [
    "def sum(a,b):\n",
    "    try:\n",
    "        if isinstance(a, str) and isinstance(b,str):\n",
    "            return a + b\n",
    "         \n",
    "        elif isinstance(a, (int,float)) and isinstance(b, (int, float)):\n",
    "            return a + b  \n",
    "            \n",
    "        else:\n",
    "            print(\"Invalid combination:It cannot be performed\")\n",
    "\n",
    "    except TypeError as e:\n",
    "        return f\"Error: {str(e)}. Supported combinations: int + int, float + int,\n",
    "\n",
    "sum(13,17)"
   ]
  },
  {
   "cell_type": "code",
   "execution_count": 31,
   "id": "4482de63",
   "metadata": {},
   "outputs": [
    {
     "data": {
      "text/plain": [
       "'applebanana'"
      ]
     },
     "execution_count": 31,
     "metadata": {},
     "output_type": "execute_result"
    }
   ],
   "source": [
    "def addition(a,b):\n",
    "    try:\n",
    "        result = a + b\n",
    "    \n",
    "    except:\n",
    "        return \"Different data types cannot be added\"\n",
    "    return result\n",
    "\n",
    "addition(\"apple\", \"banana\")\n"
   ]
  },
  {
   "cell_type": "markdown",
   "id": "f0832a71",
   "metadata": {},
   "source": [
    "# Python Programming Assignment: File handling\n"
   ]
  },
  {
   "cell_type": "markdown",
   "id": "d082ef80",
   "metadata": {},
   "source": [
    "### Task 3: Write a Python program to create a file called test.txt, write some text into it, and then read the contents of the file and display it."
   ]
  },
  {
   "cell_type": "code",
   "execution_count": 35,
   "id": "9923c013",
   "metadata": {},
   "outputs": [
    {
     "name": "stdout",
     "output_type": "stream",
     "text": [
      "This is a file created only for data science class for test. \n",
      "Data Science is being held at Upskills Nepal institiute.\n",
      "This is a short course and not a degree program.\n",
      "Class is in Baneshwor.\n",
      "\n"
     ]
    }
   ],
   "source": [
    "file = open('test.txt', 'a' )\n",
    "f = open('test.txt', 'r')\n",
    "print(f.read())"
   ]
  },
  {
   "cell_type": "markdown",
   "id": "043f8657",
   "metadata": {},
   "source": [
    "### Task 4: Create a program that opens a text file, reads its contents, and counts the number of words in the file."
   ]
  },
  {
   "cell_type": "code",
   "execution_count": 36,
   "id": "d11c86df",
   "metadata": {},
   "outputs": [
    {
     "name": "stdout",
     "output_type": "stream",
     "text": [
      "70\n"
     ]
    }
   ],
   "source": [
    "file = open('Counting_words.txt','a')\n",
    "f = open('counting_words.txt','r')\n",
    "\n",
    "num_words = 0\n",
    "\n",
    "for x in f:\n",
    "    y= x.split()\n",
    "    num_words += len(y)\n",
    "\n",
    "print(num_words)"
   ]
  },
  {
   "cell_type": "markdown",
   "id": "28d671ac",
   "metadata": {},
   "source": [
    "### Task 5: Write a program to open an existing file and append new content to it. Then, read and print the entire file to verify the changes."
   ]
  },
  {
   "cell_type": "code",
   "execution_count": 38,
   "id": "3935c427",
   "metadata": {},
   "outputs": [
    {
     "name": "stdout",
     "output_type": "stream",
     "text": [
      "Data science is the study of data to extract meaningful insights for business. It is a multidisciplinary approach that combines principles and practices from the fields of mathematics, statistics, artificial intelligence, and computer engineering to analyze large amounts of data.Adding new line about data science for assignment \n",
      "Adding new line about data science for assignmentAdding new line about data science for assignment. \n",
      "Adding new line about data science for assignment. \n",
      "Adding new line about data science for assignment. \n",
      "\n"
     ]
    }
   ],
   "source": [
    "file = open('Counting_words.txt','a')\n",
    "file.write(\"Adding new line about data science for assignment. \\n\")\n",
    "file.close\n",
    "f = open('Counting_words.txt','r')\n",
    "print(f.read())"
   ]
  }
 ],
 "metadata": {
  "kernelspec": {
   "display_name": "Python 3",
   "language": "python",
   "name": "python3"
  },
  "language_info": {
   "codemirror_mode": {
    "name": "ipython",
    "version": 3
   },
   "file_extension": ".py",
   "mimetype": "text/x-python",
   "name": "python",
   "nbconvert_exporter": "python",
   "pygments_lexer": "ipython3",
   "version": "3.13.0"
  }
 },
 "nbformat": 4,
 "nbformat_minor": 5
}
