{
 "cells": [
  {
   "cell_type": "markdown",
   "id": "6b77c7ac",
   "metadata": {},
   "source": [
    "# Python Programming Assignment: Dictionary\n"
   ]
  },
  {
   "cell_type": "markdown",
   "id": "043f8657",
   "metadata": {},
   "source": [
    "## Task 1: Employee Performance Evaluation\n",
    "You are given a dictionary where the keys represent employee names, and the values represent their performance scores (out of 100). Write a Python script to perform the following tasks:\n",
    "\n",
    "### Tasks\n",
    "\n",
    "1. **Print all employee names and their scores. Like \"Alice scored 85\"**\n",
    "2. **Find and print the name(s) of the employee(s) with the highest score.**\n",
    "3. **Print the names of employees who scored above the average.**\n",
    "4. **Create a new dictionary that categorizes employees as \"Pass\" (score >= 80) or \"Fail\" (score < 80). Print the new dictionary.**\n"
   ]
  },
  {
   "cell_type": "code",
   "execution_count": null,
   "id": "7dbf1921",
   "metadata": {},
   "outputs": [],
   "source": [
    "employee_scores = {\n",
    "    \"Alice\": 85,\n",
    "    \"Bob\": 78,\n",
    "    \"Charlie\": 92,\n",
    "    \"Diana\": 88,\n",
    "    \"Eve\": 76\n",
    "}"
   ]
  },
  {
   "cell_type": "code",
   "execution_count": null,
   "id": "e96b01c8",
   "metadata": {},
   "outputs": [
    {
     "name": "stdout",
     "output_type": "stream",
     "text": [
      "Alice scored 85\n",
      "Bob scored 78\n",
      "Charlie scored 92\n",
      "Diana scored 88\n",
      "Eve scored 76\n",
      "Employees with the highest score:\n",
      "Charlie\n"
     ]
    },
    {
     "data": {
      "text/plain": [
       "{'Alice': 'Pass',\n",
       " 'Bob': 'Fail',\n",
       " 'Charlie': 'Pass',\n",
       " 'Diana': 'Pass',\n",
       " 'Eve': 'Fail'}"
      ]
     },
     "execution_count": 11,
     "metadata": {},
     "output_type": "execute_result"
    }
   ],
   "source": [
    "employee_scores = {\n",
    "    \"Alice\": 85,\n",
    "    \"Bob\": 78,\n",
    "    \"Charlie\": 92,\n",
    "    \"Diana\": 88,\n",
    "    \"Eve\": 76\n",
    "}\n",
    "\n",
    "#1.\n",
    "for name, scores in employee_scores.items():\n",
    "    print(f\"{name} scored {scores}\")\n",
    "\n",
    "\n",
    "#2.\n",
    "# find max score\n",
    "max_score = max(employee_scores.values())\n",
    "\n",
    "#find employee with max score\n",
    "highest_scores = [name for name,score in employee_scores.items() if score == max_score]\n",
    "\n",
    "#print name of the highest scores:\n",
    "print(\"Employees with the highest score:\")\n",
    "for name in highest_scores:\n",
    "    print(name)"
   ]
  },
  {
   "cell_type": "code",
   "execution_count": 34,
   "id": "e5c6b504",
   "metadata": {},
   "outputs": [
    {
     "name": "stdout",
     "output_type": "stream",
     "text": [
      "['Alice', 'Charlie', 'Diana']\n"
     ]
    }
   ],
   "source": [
    "#3 Above average\n",
    "employee_scores = {\n",
    "    \"Alice\": 85,\n",
    "    \"Bob\": 78,\n",
    "    \"Charlie\": 92,\n",
    "    \"Diana\": 88,\n",
    "    \"Eve\": 76\n",
    "}\n",
    "#Calulate average score:\n",
    "average_score = sum(employee_scores.values())/len(employee_scores)\n",
    "\n",
    "#Employees who scored above the average\n",
    "above_average = [name for name,scores in employee_scores.items() if scores > average_score]\n",
    "\n",
    "print(above_average)"
   ]
  },
  {
   "cell_type": "code",
   "execution_count": 35,
   "id": "70635483",
   "metadata": {},
   "outputs": [
    {
     "data": {
      "text/plain": [
       "{'Alice': 'Pass',\n",
       " 'Bob': 'Fail',\n",
       " 'Charlie': 'Pass',\n",
       " 'Diana': 'Pass',\n",
       " 'Eve': 'Fail'}"
      ]
     },
     "execution_count": 35,
     "metadata": {},
     "output_type": "execute_result"
    }
   ],
   "source": [
    "#4\n",
    "{name:\"Pass\" if score>=80 else \"Fail\" for name, score in employee_scores.items()}"
   ]
  },
  {
   "cell_type": "markdown",
   "id": "3457dd3b",
   "metadata": {},
   "source": [
    "## Task 2: Student Grades Processing\n",
    "You are given a list of student grades. Write Python code using list comprehension to perform the following tasks:\n",
    "\n",
    "### Tasks\n",
    "1. **Create a list of grades increased by 5 points.** \n",
    "\n",
    "Output: [50, 83, 93, 97, 72, 60, 94, 81, 95, 55]\n",
    " \n",
    "2. **Create a list of grades that are passing (≥ 60).**\n",
    "\n",
    "Output: [78, 88, 92, 67, 89, 76, 90]\n",
    "\n",
    "3. **Create a list of grades converted to \"Pass\" or \"Fail\" based on a passing mark of 60.**\n",
    "\n",
    "Output: ['Fail', 'Pass', 'Pass', 'Pass', 'Pass', 'Fail', 'Pass', 'Pass', 'Pass', 'Fail']\n",
    "\n",
    "4. **Find the highest grade.**\n",
    "\n",
    "Output: Highest grade: 92\n",
    "\n",
    "5. **Create a list of tuples where each tuple contains the original grade and the grade category: \"Excellent\" (≥ 90), \"Good\" (70–89), or \"Average\" (< 70).**\n",
    "\n",
    "Output: [    (45, 'Average'),    (78, 'Good'),    (88, 'Good'),    (92, 'Excellent'),    (67, 'Average'),    (55, 'Average'),    (89, 'Good'),    (76, 'Good'),    (90, 'Excellent'),    (50, 'Average')]\n"
   ]
  },
  {
   "cell_type": "code",
   "execution_count": null,
   "id": "6692bed0",
   "metadata": {},
   "outputs": [],
   "source": [
    "grades = [45, 78, 88, 92, 67, 55, 89, 76, 90, 50]"
   ]
  },
  {
   "cell_type": "code",
   "execution_count": null,
   "id": "5074a40d",
   "metadata": {},
   "outputs": [
    {
     "name": "stdout",
     "output_type": "stream",
     "text": [
      "[50, 83, 93, 97, 72, 60, 94, 81, 95, 55]\n"
     ]
    }
   ],
   "source": [
    "#1Create a list of grades increased by 5 points.\n",
    "grades = [45, 78, 88, 92, 67, 55, 89, 76, 90, 50]\n",
    "new_grades = [grades+5 for grades in grades]\n",
    "print(new_grades)"
   ]
  },
  {
   "cell_type": "code",
   "execution_count": 13,
   "id": "8f19d563",
   "metadata": {},
   "outputs": [
    {
     "name": "stdout",
     "output_type": "stream",
     "text": [
      "[78, 88, 92, 67, 89, 76, 90]\n"
     ]
    }
   ],
   "source": [
    "#2Create a list of grades that are passing (≥ 60).\n",
    "grades = [45, 78, 88, 92, 67, 55, 89, 76, 90, 50]\n",
    "result = [grades for grades in grades if grades >= 60]\n",
    "print(result)"
   ]
  },
  {
   "cell_type": "code",
   "execution_count": 26,
   "id": "b3d45f0c",
   "metadata": {},
   "outputs": [
    {
     "name": "stdout",
     "output_type": "stream",
     "text": [
      "['Fail', 'Pass', 'Pass', 'Pass', 'Pass', 'Fail', 'Pass', 'Pass', 'Pass', 'Fail']\n"
     ]
    }
   ],
   "source": [
    "#3 Create a list of grades converted to \"Pass\" or \"Fail\" based on a passing mark of 60.\n",
    "grades = [45, 78, 88, 92, 67, 55, 89, 76, 90, 50]\n",
    "result = [\"Pass\" if grades >= 60 else \"Fail\" for grades in grades]\n",
    "print(result)"
   ]
  },
  {
   "cell_type": "code",
   "execution_count": 23,
   "id": "68a08b35",
   "metadata": {},
   "outputs": [
    {
     "name": "stdout",
     "output_type": "stream",
     "text": [
      "92\n"
     ]
    }
   ],
   "source": [
    "#4 Find the highest grade.\n",
    "grades = [45, 78, 88, 92, 67, 55, 89, 76, 90, 50]\n",
    "highest_grades = sorted(grades)\n",
    "print(highest_grades[-1])"
   ]
  },
  {
   "cell_type": "code",
   "execution_count": 28,
   "id": "590cff57",
   "metadata": {},
   "outputs": [
    {
     "name": "stdout",
     "output_type": "stream",
     "text": [
      "[(45, 'Average'), (78, 'Good'), (88, 'Good'), (92, 'Excellent'), (67, 'Average'), (55, 'Average'), (89, 'Good'), (76, 'Good'), (90, 'Excellent'), (50, 'Average')]\n"
     ]
    }
   ],
   "source": [
    "#5 Create a list of tuples where each tuple contains the original grade and the grade category: \"Excellent\" (≥ 90), \"Good\" (70–89), or \"Average\" (< 70).\n",
    "grades = [45, 78, 88, 92, 67, 55, 89, 76, 90, 50]\n",
    "output = [(grades, \"Excellent\" if grades >= 90 else \"Good\" if 70 <= grades else \"Average\") for grades in grades]\n",
    "print(output)"
   ]
  },
  {
   "cell_type": "code",
   "execution_count": null,
   "id": "40a078ed",
   "metadata": {},
   "outputs": [],
   "source": []
  }
 ],
 "metadata": {
  "kernelspec": {
   "display_name": "Python 3",
   "language": "python",
   "name": "python3"
  },
  "language_info": {
   "codemirror_mode": {
    "name": "ipython",
    "version": 3
   },
   "file_extension": ".py",
   "mimetype": "text/x-python",
   "name": "python",
   "nbconvert_exporter": "python",
   "pygments_lexer": "ipython3",
   "version": "3.13.0"
  }
 },
 "nbformat": 4,
 "nbformat_minor": 5
}
