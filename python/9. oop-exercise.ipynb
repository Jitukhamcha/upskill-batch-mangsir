{
 "cells": [
  {
   "cell_type": "markdown",
   "metadata": {},
   "source": [
    "# Python Programming Assignment: OOP\n",
    "### Task 1: Write a generic class program concept having three attributes and two methods assuming name of your choices "
   ]
  },
  {
   "cell_type": "code",
   "execution_count": 5,
   "id": "d782a505",
   "metadata": {},
   "outputs": [
    {
     "name": "stdout",
     "output_type": "stream",
     "text": [
      "Harry 20\n",
      "Harry 20 kathmandu\n"
     ]
    }
   ],
   "source": [
    "class Classname:\n",
    "    def __init__(self, name, age):\n",
    "        self.name = name\n",
    "        self.age = age\n",
    "\n",
    "    def function1(self):\n",
    "        self.fullname = self.name + ' ' + self.age\n",
    "        return self.fullname\n",
    "\n",
    "    def function2(self, address):\n",
    "        return self.fullname + ' ' + address\n",
    "\n",
    "object1 = Classname(\"Harry\", \"20\")\n",
    "print(object1.function1())\n",
    "print(object1.function2(\"kathmandu\"))\n",
    "\n",
    "    "
   ]
  },
  {
   "cell_type": "markdown",
   "id": "85b7cc26",
   "metadata": {},
   "source": [
    "### Task 2: Write a Python program to create a class representing a Rectangle. Include methods to calculate its area and perimeter."
   ]
  },
  {
   "cell_type": "code",
   "execution_count": 37,
   "id": "ecf4fd05",
   "metadata": {},
   "outputs": [
    {
     "name": "stdout",
     "output_type": "stream",
     "text": [
      "Area of rectangle: 200\n",
      "Perimeter of rectangle: 60\n"
     ]
    }
   ],
   "source": [
    "class Rectangle:\n",
    "    def __init__(self, length, width):\n",
    "        self.length = length\n",
    "        self.width = width\n",
    "\n",
    "    def area(self):\n",
    "        self.a = self.length * self.width\n",
    "        return self.a\n",
    "    \n",
    "    def perimter(self):\n",
    "        self.p= 2 * (self.length + self.width)\n",
    "        return self.p \n",
    "    \n",
    "object1 = Rectangle(20,10)\n",
    "print(f\"Area of rectangle: {object1.area()}\")\n",
    "print(f\"Perimeter of rectangle: {object1.perimter()}\")"
   ]
  },
  {
   "cell_type": "markdown",
   "id": "f0832a71",
   "metadata": {},
   "source": [
    "# Python Programming Assignment: File handling\n"
   ]
  },
  {
   "cell_type": "markdown",
   "id": "d082ef80",
   "metadata": {},
   "source": [
    "### Task 3: Write a Python program to create a person class. Include attributes like name, country and birth year. Implement a method to determine the person's age."
   ]
  },
  {
   "cell_type": "code",
   "execution_count": 41,
   "id": "9923c013",
   "metadata": {},
   "outputs": [
    {
     "name": "stdout",
     "output_type": "stream",
     "text": [
      "Name: <bound method Person.yourname of <__main__.Person object at 0x0000019087C981A0>>\n",
      "Country: <bound method Person.yourcountry of <__main__.Person object at 0x0000019087C981A0>>\n",
      "Birth Year: <bound method Person.year_of_birth of <__main__.Person object at 0x0000019087C981A0>>\n",
      "Age: <bound method Person.calculate_age of <__main__.Person object at 0x0000019087C981A0>>\n"
     ]
    }
   ],
   "source": [
    "class Person:\n",
    "    def __init__(self, name, country, birthyear):\n",
    "        self.name = name\n",
    "        self.country = country\n",
    "        self.birthyear = birthyear\n",
    "\n",
    "    def yourname(self):\n",
    "        self.yourname = self.name\n",
    "        return self.yourname\n",
    "    \n",
    "    def yourcountry(self):\n",
    "        self.yourcountry = self.country\n",
    "        return self.country\n",
    "    \n",
    "    def year_of_birth(self):\n",
    "        self.year_of_birth = self.birthyear\n",
    "        return self.year_of_birth\n",
    "    \n",
    "    def calculate_age(self):\n",
    "        current_year = datetime.now().year\n",
    "        current_age = current_year - self.year_of_birth\n",
    "        return current_age\n",
    "    \n",
    "obj1 = Person(\"Monica\",\"USA\",1980)\n",
    "print(f\"Name: {obj1.yourname}\")\n",
    "print(f\"Country: {obj1.yourcountry}\")\n",
    "print(f\"Birth Year: {obj1.year_of_birth}\")\n",
    "print(f\"Age: {obj1.calculate_age}\") \n",
    "        "
   ]
  },
  {
   "cell_type": "code",
   "execution_count": 45,
   "id": "b1171c3b",
   "metadata": {},
   "outputs": [
    {
     "name": "stdout",
     "output_type": "stream",
     "text": [
      "Name: Monica\n",
      "Country: USA\n",
      "Birth Year: 1980\n",
      "Age: <bound method Person.calculate_age of <__main__.Person object at 0x0000019087C98AD0>>\n"
     ]
    }
   ],
   "source": [
    "import datetime\n",
    "\n",
    "class Person:\n",
    "    def __init__(self, name, country, birthyear):\n",
    "        self.name = name\n",
    "        self.country = country\n",
    "        self.birthyear = birthyear\n",
    "    \n",
    "    def calculate_age(self):\n",
    "        current_year = datetime.now().year\n",
    "        current_age = current_year - self.birthyear\n",
    "        return current_age\n",
    "    \n",
    "obj1 = Person(\"Monica\",\"USA\",1980)\n",
    "print(f\"Name: {obj1.name}\")\n",
    "print(f\"Country: {obj1.country}\")\n",
    "print(f\"Birth Year: {obj1.birthyear}\")\n",
    "print(f\"Age: {obj1.calculate_age}\") "
   ]
  },
  {
   "cell_type": "markdown",
   "id": "043f8657",
   "metadata": {},
   "source": [
    "### Task 4: Design a simple Python program to manage bank accounts using OOP principles. The program should allow users to create accounts, deposit money, withdraw money, and check the balance.\n",
    "\n"
   ]
  },
  {
   "cell_type": "code",
   "execution_count": 30,
   "id": "d11c86df",
   "metadata": {},
   "outputs": [],
   "source": [
    "class Bankaccounts:\n",
    "    def __init__(self,name, balance):\n",
    "        self.name = name\n",
    "        self.balance = balance\n",
    "\n",
    "    def create_accounts(self):\n",
    "        self.owner = self.name\n",
    "        return self.owner\n",
    "    \n",
    "    def deposit_money(self,deposit):\n",
    "        self.balance += deposit\n",
    "        return self.balance\n",
    "    \n",
    "    def withdraw_money(self,amount):\n",
    "        if amount <= self.balance:\n",
    "            self.balance -= amount\n",
    "            return self.balance\n",
    "        else:\n",
    "            print(\"Balance insufficient\")\n",
    "            \n",
    "    def check_balance(self):\n",
    "        return self.balance\n",
    "    \n"
   ]
  },
  {
   "cell_type": "code",
   "execution_count": 31,
   "id": "3935c427",
   "metadata": {},
   "outputs": [
    {
     "name": "stdout",
     "output_type": "stream",
     "text": [
      "Owner name: John\n",
      "Amount deposited:1500\n",
      "Amount withdrawn: 1300\n",
      "Balance: 1300\n"
     ]
    }
   ],
   "source": [
    "obj1 = Bankaccounts(\"John\",1000)\n",
    "print(f\"Owner name: {obj1.create_accounts()}\")\n",
    "print(f\"Amount deposited:{obj1.deposit_money(500)}\")\n",
    "print(f\"Amount withdrawn: {obj1.withdraw_money(200)}\")\n",
    "print(f\"Balance: {obj1.check_balance()}\")\n"
   ]
  }
 ],
 "metadata": {
  "kernelspec": {
   "display_name": "Python 3",
   "language": "python",
   "name": "python3"
  },
  "language_info": {
   "codemirror_mode": {
    "name": "ipython",
    "version": 3
   },
   "file_extension": ".py",
   "mimetype": "text/x-python",
   "name": "python",
   "nbconvert_exporter": "python",
   "pygments_lexer": "ipython3",
   "version": "3.13.0"
  }
 },
 "nbformat": 4,
 "nbformat_minor": 5
}
