{
 "cells": [
  {
   "cell_type": "markdown",
   "metadata": {},
   "source": [
    "# Python Programming Assignment: Tuple\n",
    "\n",
    "### Task 1: Write a program to copy elements 44 and 55 from the following tuple into a new tuple."
   ]
  },
  {
   "cell_type": "code",
   "execution_count": null,
   "id": "6d9c7451",
   "metadata": {},
   "outputs": [],
   "source": [
    "tuple1 = (11, 22, 33, 44, 55, 66)\n"
   ]
  },
  {
   "cell_type": "code",
   "execution_count": 13,
   "id": "8d909c16",
   "metadata": {},
   "outputs": [
    {
     "name": "stdout",
     "output_type": "stream",
     "text": [
      "(44, 55)\n"
     ]
    }
   ],
   "source": [
    "tuple1 = (11, 22, 33, 44, 55, 66)\n",
    "tuple2 = []\n",
    "tuple1 = list(tuple1)\n",
    "\n",
    "for i in tuple1:\n",
    "    if i == 44:\n",
    "        tuple2.append(i)\n",
    "    if i == 55:\n",
    "        tuple2.append(i)\n",
    "print(tuple(tuple2))"
   ]
  },
  {
   "cell_type": "markdown",
   "id": "85b7cc26",
   "metadata": {},
   "source": [
    "### Task 2: Modify the tuple\n",
    "\n",
    "Given is a nested tuple. Write a program to modify the first item (22) of a list inside a following tuple to 222\n"
   ]
  },
  {
   "cell_type": "code",
   "execution_count": null,
   "id": "810175b7",
   "metadata": {},
   "outputs": [],
   "source": [
    "tuple1 = (11, [22, 33], 44, 55)\n"
   ]
  },
  {
   "cell_type": "code",
   "execution_count": 14,
   "id": "56999e42",
   "metadata": {},
   "outputs": [
    {
     "name": "stdout",
     "output_type": "stream",
     "text": [
      "[11, [222, 33], 44, 55]\n"
     ]
    }
   ],
   "source": [
    "tuple1 = (11, [22, 33], 44, 55)\n",
    "tuple1 = list(tuple1)\n",
    "tuple1[1][0] = 222\n",
    "print(tuple1)"
   ]
  },
  {
   "cell_type": "markdown",
   "id": "24d6cc75",
   "metadata": {},
   "source": [
    "# Python Programming Assignment: Set\n"
   ]
  },
  {
   "cell_type": "markdown",
   "id": "f0832a71",
   "metadata": {},
   "source": [
    "### Task 3: Add a list of elements to a set\n",
    "Given a Python list, Write a program to add all its elements into a given set.\n"
   ]
  },
  {
   "cell_type": "code",
   "execution_count": null,
   "id": "a5c51824",
   "metadata": {},
   "outputs": [],
   "source": [
    "sample_set = {\"Yellow\", \"Orange\", \"Black\"}\n",
    "sample_list = [\"Blue\", \"Green\", \"Red\"]"
   ]
  },
  {
   "cell_type": "code",
   "execution_count": 19,
   "id": "3ffea71c",
   "metadata": {},
   "outputs": [
    {
     "name": "stdout",
     "output_type": "stream",
     "text": [
      "{'Green', 'Red', 'Blue', 'Orange', 'Black', 'Yellow'}\n"
     ]
    }
   ],
   "source": [
    "sample_set = {\"Yellow\", \"Orange\", \"Black\"}\n",
    "sample_list = [\"Blue\", \"Green\", \"Red\"]\n",
    "sample_set.update(sample_list)\n",
    "print(sample_set)"
   ]
  },
  {
   "cell_type": "markdown",
   "id": "4733f6a7",
   "metadata": {},
   "source": []
  },
  {
   "cell_type": "markdown",
   "id": "d082ef80",
   "metadata": {},
   "source": [
    "\n",
    "### Task 4: Return a new set of identical items and unique items from two sets"
   ]
  },
  {
   "cell_type": "code",
   "execution_count": null,
   "id": "cef4a4a8",
   "metadata": {},
   "outputs": [],
   "source": [
    "set1 = {10, 20, 30, 40, 50}\n",
    "set2 = {30, 40, 50, 60, 70}"
   ]
  },
  {
   "cell_type": "code",
   "execution_count": 20,
   "id": "e9bb398d",
   "metadata": {},
   "outputs": [
    {
     "name": "stdout",
     "output_type": "stream",
     "text": [
      "{70, 40, 10, 50, 20, 60, 30}\n"
     ]
    }
   ],
   "source": [
    "set1 = {10, 20, 30, 40, 50}\n",
    "set2 = {30, 40, 50, 60, 70}\n",
    "set1.update(set2)\n",
    "print(set1)"
   ]
  },
  {
   "cell_type": "markdown",
   "id": "482ac01e",
   "metadata": {},
   "source": []
  },
  {
   "cell_type": "markdown",
   "id": "6b77c7ac",
   "metadata": {},
   "source": [
    "# Python Programming Assignment: Dictionary\n"
   ]
  },
  {
   "cell_type": "markdown",
   "id": "043f8657",
   "metadata": {},
   "source": [
    "### Task 5: Convert two lists into a dictionary\n",
    "Below are the two lists. Write a Python program to convert them into a dictionary in a way that item from list1 is the key and item from list2 is the value"
   ]
  },
  {
   "cell_type": "code",
   "execution_count": null,
   "id": "7dbf1921",
   "metadata": {},
   "outputs": [],
   "source": [
    "keys = ['Ten', 'Twenty', 'Thirty']\n",
    "values = [10, 20, 30]"
   ]
  },
  {
   "cell_type": "code",
   "execution_count": 24,
   "id": "2f32002f",
   "metadata": {},
   "outputs": [
    {
     "name": "stdout",
     "output_type": "stream",
     "text": [
      "{'Ten': '10', 'Twenty': '20', 'Thirty': '30'}\n"
     ]
    }
   ],
   "source": [
    "keys = ['Ten', 'Twenty', 'Thirty']\n",
    "values = [10, 20, 30]\n",
    "x = {\n",
    "    \"Ten\": \"10\",\n",
    "    \"Twenty\" : \"20\",\n",
    "    \"Thirty\" : \"30\"\n",
    "}\n",
    "print(x)\n"
   ]
  },
  {
   "cell_type": "markdown",
   "id": "28d671ac",
   "metadata": {},
   "source": [
    "### Task 6:Create a dictionary by extracting the keys from a given dictionary\n",
    "Write a Python program to create a new dictionary by extracting the mentioned keys from the below dictionary.\n",
    "\n",
    "Given dictionary:\n",
    "\n",
    "sample_dict = {\n",
    "    \"name\": \"Kelly\",\n",
    "    \"age\": 25,\n",
    "    \"salary\": 8000,\n",
    "    \"city\": \"New york\"}\n",
    "\n",
    "# Keys to extract\n",
    "keys = [\"name\", \"salary\"]\n",
    "\n",
    "# expected output\n",
    "{'name': 'Kelly', 'salary': 8000}\n"
   ]
  },
  {
   "cell_type": "code",
   "execution_count": 47,
   "id": "aa0e9333",
   "metadata": {},
   "outputs": [
    {
     "name": "stdout",
     "output_type": "stream",
     "text": [
      "name\n",
      "salary\n",
      "{'name': 'Kelly', 'salary': 8000}\n"
     ]
    }
   ],
   "source": [
    "sample_dict = {\n",
    "    \"name\": \"Kelly\",\n",
    "    \"age\": 25,\n",
    "    \"salary\": 8000,\n",
    "    \"city\": \"New york\"}\n",
    "keys = [\"name\", \"salary\"]\n",
    "new={}\n",
    "for x in keys:\n",
    "    print(x)\n",
    "    new.update({x:sample_dict[x]})\n",
    "print(new)"
   ]
  },
  {
   "cell_type": "markdown",
   "id": "703f2046",
   "metadata": {},
   "source": [
    "### Task 6: Check if a value exists in a dictionary\n",
    "Write a Python program to check if value 200 exists in the following dictionary.\n",
    "\n"
   ]
  },
  {
   "cell_type": "code",
   "execution_count": 26,
   "id": "bea2061e",
   "metadata": {},
   "outputs": [],
   "source": [
    "sample_dict = {'a': 100, 'b': 200, 'c': 300}\n"
   ]
  },
  {
   "cell_type": "code",
   "execution_count": 36,
   "id": "cf48040f",
   "metadata": {},
   "outputs": [
    {
     "name": "stdout",
     "output_type": "stream",
     "text": [
      "Yes\n"
     ]
    }
   ],
   "source": [
    "sample_dict = {'a': 100, 'b': 200, 'c': 300}\n",
    "if 200 in sample_dict.values():\n",
    "    print(\"Yes\")"
   ]
  },
  {
   "cell_type": "markdown",
   "id": "3457dd3b",
   "metadata": {},
   "source": [
    "### Task 7: Change value of a key in a nested dictionary\n",
    "Write a Python program to change Brad’s salary to 8500 in the following dictionary."
   ]
  },
  {
   "cell_type": "code",
   "execution_count": 27,
   "id": "6692bed0",
   "metadata": {},
   "outputs": [],
   "source": [
    "\n",
    "sample_dict = {\n",
    "    'emp1': {'name': 'Jhon', 'salary': 7500},\n",
    "    'emp2': {'name': 'Emma', 'salary': 8000},\n",
    "    'emp3': {'name': 'Brad', 'salary': 500}\n",
    "}"
   ]
  },
  {
   "cell_type": "code",
   "execution_count": 41,
   "id": "dfb5d2a6",
   "metadata": {},
   "outputs": [
    {
     "name": "stdout",
     "output_type": "stream",
     "text": [
      "{'emp1': {'name': 'Jhon', 'salary': 7500}, 'emp2': {'name': 'Emma', 'salary': 8000}, 'emp3': {'name': 'Brad', 'salary': '8500'}}\n"
     ]
    }
   ],
   "source": [
    "\n",
    "sample_dict = {\n",
    "    'emp1': {'name': 'Jhon', 'salary': 7500},\n",
    "    'emp2': {'name': 'Emma', 'salary': 8000},\n",
    "    'emp3': {'name': 'Brad', 'salary': 500}\n",
    "}\n",
    "sample_dict['emp3']['salary'] = '8500'\n",
    "print(sample_dict)"
   ]
  },
  {
   "cell_type": "code",
   "execution_count": null,
   "id": "b1ac84e6",
   "metadata": {},
   "outputs": [],
   "source": []
  }
 ],
 "metadata": {
  "kernelspec": {
   "display_name": "Python 3",
   "language": "python",
   "name": "python3"
  },
  "language_info": {
   "codemirror_mode": {
    "name": "ipython",
    "version": 3
   },
   "file_extension": ".py",
   "mimetype": "text/x-python",
   "name": "python",
   "nbconvert_exporter": "python",
   "pygments_lexer": "ipython3",
   "version": "3.13.0"
  }
 },
 "nbformat": 4,
 "nbformat_minor": 5
}
