{
 "cells": [
  {
   "cell_type": "markdown",
   "metadata": {},
   "source": [
    "# Python Programming Assignment: List\n",
    "### Task 1: Given a list of numbers. write a program to turn every item of a list into its square.\n",
    "\n",
    "\n",
    "numbers = [1, 2, 3, 4, 5, 6, 7]\n"
   ]
  },
  {
   "cell_type": "code",
   "execution_count": 37,
   "id": "0988cef4",
   "metadata": {},
   "outputs": [
    {
     "name": "stdout",
     "output_type": "stream",
     "text": [
      "[1, 4, 9, 16, 25, 36, 49]\n"
     ]
    }
   ],
   "source": [
    "numbers = [1,2,3,4,5,6,7]\n",
    "a = []\n",
    "for x in numbers:\n",
    "    y= x**2\n",
    "    a.append(y)\n",
    "print(a)"
   ]
  },
  {
   "cell_type": "code",
   "execution_count": 40,
   "id": "7d90cce8",
   "metadata": {},
   "outputs": [
    {
     "name": "stdout",
     "output_type": "stream",
     "text": [
      "49\n"
     ]
    }
   ],
   "source": [
    "# OR\n",
    "numbers = [1,2,3,4,5,6,7]\n",
    "for x in numbers:\n",
    "    y= x**2\n",
    "print(y)"
   ]
  },
  {
   "cell_type": "code",
   "execution_count": null,
   "id": "94b5a479",
   "metadata": {},
   "outputs": [
    {
     "name": "stdout",
     "output_type": "stream",
     "text": [
      "{1: 1}\n"
     ]
    }
   ],
   "source": [
    "# USing dictionary\n",
    "numbers = [1,2,3,4,5,6,7]\n",
    "a = {}\n",
    "for x in numbers:\n",
    "  a.update({i : i**2})\n",
    "print(a)"
   ]
  },
  {
   "cell_type": "markdown",
   "id": "85b7cc26",
   "metadata": {},
   "source": [
    "### Task 2: Add new item to list after a specified item\n",
    "\n",
    "Write a program to add item 7000 after 6000 in the following Python List\n",
    "\n",
    "list1 = [10, 20, 300, 400, 5000, 6000, 500, 30, 40]\n"
   ]
  },
  {
   "cell_type": "code",
   "execution_count": 43,
   "id": "9ae9e249",
   "metadata": {},
   "outputs": [
    {
     "name": "stdout",
     "output_type": "stream",
     "text": [
      "5\n",
      "[10, 20, 300, 400, 5000, 6000, 7000, 500, 30, 40]\n"
     ]
    }
   ],
   "source": [
    "list1 = [10, 20, 300, 400, 5000, 6000, 500, 30, 40]\n",
    "reference_value = 6000\n",
    "value_to_insert = 7000\n",
    "\n",
    "index = list1.index(reference_value)\n",
    "print(index)\n",
    "\n",
    "list1.insert(index+1, value_to_insert)\n",
    "print(list1)\n"
   ]
  },
  {
   "cell_type": "markdown",
   "id": "f0832a71",
   "metadata": {},
   "source": [
    "### Task 3: Add new item to list after a specified item\n",
    "\n",
    "Write a program to add item 7000 after 6000 in the following Python List\n",
    "\n",
    "list1 = [10, 20, [300, 400, [5000, 6000], 500], 30, 40]\n"
   ]
  },
  {
   "cell_type": "code",
   "execution_count": 55,
   "id": "a5c51824",
   "metadata": {},
   "outputs": [
    {
     "data": {
      "text/plain": [
       "[10, 20, [300, 400, [5000, 6000, 7000], 500], 30, 40]"
      ]
     },
     "execution_count": 55,
     "metadata": {},
     "output_type": "execute_result"
    }
   ],
   "source": [
    "list1 = [10, 20, [300, 400, [5000, 6000], 500], 30, 40]\n",
    "\n",
    "list1[2][2].insert(2,7000)\n",
    "list1\n",
    "\n",
    "\n",
    "\n",
    "#list2=((list1))\n",
    "#list2.insert(6,7000)\n",
    "#print(list2)"
   ]
  },
  {
   "cell_type": "code",
   "execution_count": 58,
   "id": "65a0f5d2",
   "metadata": {},
   "outputs": [
    {
     "ename": "TypeError",
     "evalue": "list[2] is not a generic class",
     "output_type": "error",
     "traceback": [
      "\u001b[1;31m---------------------------------------------------------------------------\u001b[0m",
      "\u001b[1;31mTypeError\u001b[0m                                 Traceback (most recent call last)",
      "Cell \u001b[1;32mIn[58], line 4\u001b[0m\n\u001b[0;32m      1\u001b[0m list1 \u001b[38;5;241m=\u001b[39m [\u001b[38;5;241m10\u001b[39m, \u001b[38;5;241m20\u001b[39m, [\u001b[38;5;241m300\u001b[39m, \u001b[38;5;241m400\u001b[39m, [\u001b[38;5;241m5000\u001b[39m, \u001b[38;5;241m6000\u001b[39m], \u001b[38;5;241m500\u001b[39m], \u001b[38;5;241m30\u001b[39m, \u001b[38;5;241m40\u001b[39m]\n\u001b[0;32m      3\u001b[0m index \u001b[38;5;241m=\u001b[39m list1[\u001b[38;5;241m2\u001b[39m][\u001b[38;5;241m2\u001b[39m]\u001b[38;5;241m.\u001b[39mindex(\u001b[38;5;241m6000\u001b[39m)\n\u001b[1;32m----> 4\u001b[0m \u001b[38;5;28;43mlist\u001b[39;49m\u001b[43m[\u001b[49m\u001b[38;5;241;43m2\u001b[39;49m\u001b[43m]\u001b[49m\u001b[43m[\u001b[49m\u001b[38;5;241;43m2\u001b[39;49m\u001b[43m]\u001b[49m\u001b[38;5;241m.\u001b[39minsert(index\u001b[38;5;241m+\u001b[39m\u001b[38;5;241m1\u001b[39m, \u001b[38;5;124m'\u001b[39m\u001b[38;5;124m7000\u001b[39m\u001b[38;5;124m'\u001b[39m)\n\u001b[0;32m      5\u001b[0m list1\n",
      "\u001b[1;31mTypeError\u001b[0m: list[2] is not a generic class"
     ]
    }
   ],
   "source": [
    "list1 = [10, 20, [300, 400, [5000, 6000], 500], 30, 40]\n",
    "\n",
    "index = list1[2][2].index(6000)\n",
    "list[2][2].insert(index+1, '7000')\n",
    "list1"
   ]
  },
  {
   "cell_type": "markdown",
   "id": "d082ef80",
   "metadata": {},
   "source": [
    "\n",
    "### Task 4: Replace list’s item with new value if found\n",
    "You have given a Python list. Write a program to find value 20 in the list, and if it is present, replace it with 200. Only update the first occurrence of an item.\n",
    "\n",
    "list_1 = [5, 10, 15, 20, 25, 50, 20]"
   ]
  },
  {
   "cell_type": "code",
   "execution_count": 17,
   "id": "cef4a4a8",
   "metadata": {},
   "outputs": [
    {
     "name": "stdout",
     "output_type": "stream",
     "text": [
      "[5, 10, 15, '200', 25, 50, 20]\n"
     ]
    }
   ],
   "source": [
    "list_1 = [5, 10, 15, 20, 25, 50, 20]\n",
    "if 20 in list_1:\n",
    "    a = list_1.index(20)\n",
    "    list_1[a] = \"200\"\n",
    "print(list_1)\n",
    "    \n"
   ]
  },
  {
   "cell_type": "code",
   "execution_count": null,
   "id": "a1f13558",
   "metadata": {},
   "outputs": [
    {
     "data": {
      "text/plain": [
       "[5, 10, 15, 25, 50]"
      ]
     },
     "execution_count": 60,
     "metadata": {},
     "output_type": "execute_result"
    }
   ],
   "source": [
    "# to remove 20\n",
    "list_1 = [5, 10, 15, 20, 25, 50, 20]\n",
    "if 20 in list_1:\n",
    "    list_1.remove(20)\n",
    "    list_1.remove(20)\n",
    "\n",
    "list_1"
   ]
  },
  {
   "cell_type": "code",
   "execution_count": null,
   "id": "411b61cd",
   "metadata": {},
   "outputs": [
    {
     "data": {
      "text/plain": [
       "[5, 10, 15, 25, 50]"
      ]
     },
     "execution_count": 61,
     "metadata": {},
     "output_type": "execute_result"
    }
   ],
   "source": [
    "# to remove 20 at once\n",
    "list_1 = [5, 10, 15, 20, 25, 50, 20]\n",
    "for i in list_1:\n",
    "    if i ==20:\n",
    "        list_1.remove(20)\n",
    "\n",
    "list_1"
   ]
  },
  {
   "cell_type": "markdown",
   "id": "043f8657",
   "metadata": {},
   "source": [
    "### Task 5: Calculate sum of all numbers from 1 to a given number\n",
    "Write a Python program to accept a number from a user and calculate the sum of all numbers from 1 to a given number\n",
    "\n",
    "For example, if the user entered 10, the output should be 55 (1+2+3+4+5+6+7+8+9+10)\n"
   ]
  },
  {
   "cell_type": "code",
   "execution_count": 63,
   "id": "7dbf1921",
   "metadata": {},
   "outputs": [
    {
     "name": "stdout",
     "output_type": "stream",
     "text": [
      "x 1\n",
      "sum : 20\n",
      "x 2\n",
      "sum : 40\n",
      "x 3\n",
      "sum : 60\n",
      "x 4\n",
      "sum : 80\n",
      "x 5\n",
      "sum : 100\n",
      "x 6\n",
      "sum : 120\n",
      "x 7\n",
      "sum : 140\n",
      "x 8\n",
      "sum : 160\n",
      "x 9\n",
      "sum : 180\n",
      "x 10\n",
      "sum : 200\n",
      "200\n"
     ]
    }
   ],
   "source": [
    "x = int(input(\"Enter any number\"))\n",
    "sum = 0\n",
    "for x in range(1,x+1):\n",
    "    print(\"x\", x)\n",
    "    sum = sum + i\n",
    "    print(\"sum :\", sum)\n",
    "print(sum)"
   ]
  },
  {
   "cell_type": "markdown",
   "id": "28d671ac",
   "metadata": {},
   "source": [
    "### Task 6: print positive numbers in a list\n",
    "Given a list of numbers, write a Python program to count positive and negative numbers in a List. \n",
    "\n",
    "list1 = [12, -7, 5, 64, -14]"
   ]
  },
  {
   "cell_type": "code",
   "execution_count": 70,
   "id": "aa0e9333",
   "metadata": {},
   "outputs": [
    {
     "name": "stdout",
     "output_type": "stream",
     "text": [
      "4 2\n"
     ]
    }
   ],
   "source": [
    "list1 = [12, -7, 5, 64, -14, 0]\n",
    "counter_positive = 0\n",
    "counter_negative = 0\n",
    "for i in list1:\n",
    "    if  i >= 0:\n",
    "        counter_positive = counter_positive + 1\n",
    "    else:\n",
    "        counter_negative = counter_negative +1\n",
    "    \n",
    "print(counter_positive, counter_negative)"
   ]
  },
  {
   "cell_type": "markdown",
   "id": "703f2046",
   "metadata": {},
   "source": [
    "### Task 6: Get the Difference\n",
    "\n",
    "Write a program to find the range (difference between the largest and smallest element) of the list.\n",
    "\n",
    "lst = [5, 10, 15, 200, 25, 50, 20]\n",
    "\n",
    "Output: 195"
   ]
  },
  {
   "cell_type": "code",
   "execution_count": 71,
   "id": "bea2061e",
   "metadata": {},
   "outputs": [
    {
     "name": "stdout",
     "output_type": "stream",
     "text": [
      "[5, 10, 15, 20, 25, 50, 200]\n",
      "195\n"
     ]
    }
   ],
   "source": [
    "lst = [5, 10, 15, 200, 25, 50, 20]\n",
    "a = sorted(lst)\n",
    "print(a)\n",
    "b = a[-1] - a[0]\n",
    "print(b)"
   ]
  },
  {
   "cell_type": "code",
   "execution_count": null,
   "id": "1405cfcc",
   "metadata": {},
   "outputs": [],
   "source": []
  }
 ],
 "metadata": {
  "kernelspec": {
   "display_name": "Python 3",
   "language": "python",
   "name": "python3"
  },
  "language_info": {
   "codemirror_mode": {
    "name": "ipython",
    "version": 3
   },
   "file_extension": ".py",
   "mimetype": "text/x-python",
   "name": "python",
   "nbconvert_exporter": "python",
   "pygments_lexer": "ipython3",
   "version": "3.13.0"
  }
 },
 "nbformat": 4,
 "nbformat_minor": 5
}
