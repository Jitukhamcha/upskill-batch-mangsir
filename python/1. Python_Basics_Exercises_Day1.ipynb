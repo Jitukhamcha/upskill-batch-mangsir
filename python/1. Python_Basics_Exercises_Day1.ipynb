{
 "cells": [
  {
   "cell_type": "markdown",
   "id": "2b6c8f91",
   "metadata": {},
   "source": [
    "# Python Basics Exercises"
   ]
  },
  {
   "cell_type": "markdown",
   "id": "79c0d437",
   "metadata": {},
   "source": [
    "## Exercise 1: Variable Naming\n",
    "- **Task**: Create variables using Camel Case, Pascal Case, and Snake Case naming conventions to store your favorite fruit and print them.\n",
    "\n",
    "**Example**:\n",
    "```python\n",
    "favoriteFruitCamelCase = \"Apple\"\n",
    "FavoriteFruitPascalCase = \"Banana\"\n",
    "favorite_fruit_snake_case = \"Cherry\"\n",
    "\n",
    "print(favoriteFruitCamelCase)\n",
    "print(FavoriteFruitPascalCase)\n",
    "print(favorite_fruit_snake_case)\n",
    "```"
   ]
  },
  {
   "cell_type": "code",
   "execution_count": 17,
   "id": "f8e83017",
   "metadata": {},
   "outputs": [
    {
     "name": "stdout",
     "output_type": "stream",
     "text": [
      "Apple\n",
      "Banana\n",
      "Chhery\n"
     ]
    }
   ],
   "source": [
    "favouriteFruitCamelCase = \"Apple\"\n",
    "FavouriteFruitPascalCase = \"Banana\"\n",
    "favourite_fruit_snake_case = \"Chhery\"\n",
    "\n",
    "print(favouriteFruitCamelCase)\n",
    "print(FavouriteFruitPascalCase)\n",
    "print(favourite_fruit_snake_case)\n"
   ]
  },
  {
   "cell_type": "markdown",
   "id": "f08afc8e",
   "metadata": {},
   "source": [
    "## Exercise 2: Variable Assignment\n",
    "- **Task**: Assign the values \"Red\", 3, and \"Car\" to variables `x`, `y`, and `z` in a single line, and then print each variable."
   ]
  },
  {
   "cell_type": "code",
   "execution_count": 1,
   "id": "f63fa748",
   "metadata": {},
   "outputs": [
    {
     "name": "stdout",
     "output_type": "stream",
     "text": [
      "Red\n",
      "3\n",
      "Car\n"
     ]
    }
   ],
   "source": [
    "x, y, z = \"Red\", \"3\", \"Car\"\n",
    "print(x)\n",
    "print(y)\n",
    "print(z)"
   ]
  },
  {
   "cell_type": "markdown",
   "id": "e3ccfb87",
   "metadata": {},
   "source": [
    "## Exercise 3: Changing Variable Types\n",
    "- **Task**: Create a variable `number` with an integer value, then change it to a string, and finally to a float. Print the data type at each step using `type()`."
   ]
  },
  {
   "cell_type": "code",
   "execution_count": 15,
   "id": "323cbce6",
   "metadata": {},
   "outputs": [
    {
     "name": "stdout",
     "output_type": "stream",
     "text": [
      "2 <class 'int'>\n",
      "2 <class 'str'>\n",
      "2.0 <class 'float'>\n"
     ]
    }
   ],
   "source": [
    "x = 2\n",
    "y = str(x)\n",
    "z = float(x)\n",
    "print(x, type (x))\n",
    "print(y, type (y))\n",
    "print (z, type (z))\n",
    "\n"
   ]
  },
  {
   "cell_type": "markdown",
   "id": "4bc1fb11",
   "metadata": {},
   "source": [
    "## Exercise 4: Multiple Variables\n",
    "- **Task**: Assign the same value \"Python\" to three variables: `a`, `b`, and `c`. Then, print each variable."
   ]
  },
  {
   "cell_type": "code",
   "execution_count": 5,
   "id": "01bf5bc5",
   "metadata": {},
   "outputs": [
    {
     "name": "stdout",
     "output_type": "stream",
     "text": [
      "Python\n",
      "Python\n",
      "Python\n"
     ]
    }
   ],
   "source": [
    "a = b = c = \"Python\"\n",
    "print(a)\n",
    "print(b)\n",
    "print(c)\n",
    "\n"
   ]
  },
  {
   "cell_type": "markdown",
   "id": "c25a6527",
   "metadata": {},
   "source": [
    "## Exercise 5: Unpacking a Collection\n",
    "- **Task**: Unpack the following list into three variables and print them: `fruits = [\"Mango\", \"Grapes\", \"Peach\"]`."
   ]
  },
  {
   "cell_type": "code",
   "execution_count": 6,
   "id": "e4299270",
   "metadata": {},
   "outputs": [
    {
     "name": "stdout",
     "output_type": "stream",
     "text": [
      "Mango\n",
      "Grapes\n",
      "Peach\n"
     ]
    }
   ],
   "source": [
    "fruits = [\"Mango\", \"Grapes\", \"Peach\"]\n",
    "x, y, z = fruits\n",
    "print(x)\n",
    "print(y)\n",
    "print(z)\n",
    "\n"
   ]
  },
  {
   "cell_type": "markdown",
   "id": "75af8381",
   "metadata": {},
   "source": [
    "## Exercise 6: String Concatenation\n",
    "- **Task**: Create three string variables: `part1 = \"Python\"`, `part2 = \" is\"`, and `part3 = \" fun!\"`. Concatenate them and print the result."
   ]
  },
  {
   "cell_type": "code",
   "execution_count": 9,
   "id": "362cfe9b",
   "metadata": {},
   "outputs": [
    {
     "name": "stdout",
     "output_type": "stream",
     "text": [
      "Python is !fun\n"
     ]
    }
   ],
   "source": [
    "x = \"Python\"\n",
    "y = \" is\"\n",
    "z = \" !fun\"\n",
    "print(x + y + z)\n",
    "\n"
   ]
  },
  {
   "cell_type": "markdown",
   "id": "bd695f4b",
   "metadata": {},
   "source": [
    "# Data Type Exercises"
   ]
  },
  {
   "cell_type": "markdown",
   "id": "fbf34497",
   "metadata": {},
   "source": [
    "## Exercise 7: Checking Data Types\n",
    "- **Task**: Create variables with different data types: `string`, `integer`, `float`, and `boolean`. Use `type()` to print the type of each variable."
   ]
  },
  {
   "cell_type": "code",
   "execution_count": 18,
   "id": "c5258fdc",
   "metadata": {},
   "outputs": [
    {
     "name": "stdout",
     "output_type": "stream",
     "text": [
      "<class 'str'>\n",
      "<class 'int'>\n",
      "<class 'float'>\n",
      "<class 'bool'>\n"
     ]
    }
   ],
   "source": [
    "x = \"2\"\n",
    "y = 4\n",
    "z = 10.33\n",
    "a = 10>9\n",
    "print(type(x))\n",
    "print(type(y))\n",
    "print(type(z))\n",
    "print(type(a))"
   ]
  },
  {
   "cell_type": "markdown",
   "id": "32326c73",
   "metadata": {},
   "source": [
    "## Exercise 8: Numeric Types\n",
    "- **Task**: Create an integer `a`, a float `b`, and a complex number `c`. Print the data type of each."
   ]
  },
  {
   "cell_type": "code",
   "execution_count": 12,
   "id": "4bdedeb4",
   "metadata": {},
   "outputs": [
    {
     "name": "stdout",
     "output_type": "stream",
     "text": [
      "<class 'int'>\n",
      "<class 'float'>\n",
      "<class 'complex'>\n"
     ]
    }
   ],
   "source": [
    "a = 33\n",
    "b = 50.22\n",
    "c = 2j\n",
    "print(type(a))\n",
    "print(type(b))\n",
    "print(type(c))"
   ]
  },
  {
   "cell_type": "markdown",
   "id": "f3f9e400",
   "metadata": {},
   "source": [
    "## Exercise 9: Type Conversion\n",
    "- **Task**: Convert the integer `10` to a float, the float `8.5` to an integer. Print the converted values and their types."
   ]
  },
  {
   "cell_type": "code",
   "execution_count": 13,
   "id": "7a62e628",
   "metadata": {},
   "outputs": [
    {
     "name": "stdout",
     "output_type": "stream",
     "text": [
      "10.0 <class 'float'>\n",
      "8 <class 'int'>\n"
     ]
    }
   ],
   "source": [
    "x = float(10)\n",
    "y = int(8.5)\n",
    "print(x, type(x))\n",
    "print(y, type(y))\n",
    "\n"
   ]
  },
  {
   "cell_type": "code",
   "execution_count": null,
   "id": "a1469939",
   "metadata": {},
   "outputs": [],
   "source": []
  }
 ],
 "metadata": {
  "kernelspec": {
   "display_name": "Python 3",
   "language": "python",
   "name": "python3"
  },
  "language_info": {
   "codemirror_mode": {
    "name": "ipython",
    "version": 3
   },
   "file_extension": ".py",
   "mimetype": "text/x-python",
   "name": "python",
   "nbconvert_exporter": "python",
   "pygments_lexer": "ipython3",
   "version": "3.13.0"
  }
 },
 "nbformat": 4,
 "nbformat_minor": 5
}
