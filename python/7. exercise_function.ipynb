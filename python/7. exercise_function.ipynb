{
 "cells": [
  {
   "cell_type": "markdown",
   "metadata": {},
   "source": [
    "# Python Programming Assignment: Function\n",
    "\n",
    "### Task 1: Write a function simple_calculator(num1, num2, operation) that takes two numbers and a string specifying an operation ('add', 'subtract', 'multiply', 'divide') and returns the result of the operation.\n",
    "\n"
   ]
  },
  {
   "cell_type": "code",
   "execution_count": 33,
   "metadata": {},
   "outputs": [
    {
     "data": {
      "text/plain": [
       "'invalid operator: multipl'"
      ]
     },
     "execution_count": 33,
     "metadata": {},
     "output_type": "execute_result"
    }
   ],
   "source": [
    "def simple_calculator(num1, num2, operation):\n",
    "    \n",
    "    if operation == \"add\":\n",
    "        total = num1 + num2\n",
    "    elif operation == \"subtract\":\n",
    "        total = num1 - num2\n",
    "    elif operation == \"multiply\":\n",
    "        total = num1*num2\n",
    "    elif operation == \"divide\":\n",
    "        total = num1/num2\n",
    "    else:\n",
    "        total = f\"invalid operator: {operation}\" \n",
    "    return total \n",
    "\n",
    "simple_calculator(20, 10, \"multipl\")\n",
    "\n"
   ]
  },
  {
   "cell_type": "markdown",
   "id": "85b7cc26",
   "metadata": {},
   "source": [
    "### Task 2:Write a function print_multiplication_table(n) that takes a number n and prints its multiplication table from 1 to 10.\n",
    "\n"
   ]
  },
  {
   "cell_type": "code",
   "execution_count": 4,
   "id": "56999e42",
   "metadata": {},
   "outputs": [
    {
     "name": "stdout",
     "output_type": "stream",
     "text": [
      "5 x 1 = 5\n",
      "5 x 2 = 10\n",
      "5 x 3 = 15\n",
      "5 x 4 = 20\n",
      "5 x 5 = 25\n",
      "5 x 6 = 30\n",
      "5 x 7 = 35\n",
      "5 x 8 = 40\n",
      "5 x 9 = 45\n",
      "5 x 10 = 50\n"
     ]
    }
   ],
   "source": [
    "def print_multiplication_table(n):\n",
    "    for i in range (1,11):\n",
    "        print(f\"{n} x {i} = {i*n}\")\n",
    "    \n",
    "\n",
    "print_multiplication_table(5)"
   ]
  },
  {
   "cell_type": "markdown",
   "id": "f0832a71",
   "metadata": {},
   "source": [
    "### Task 3: Write a function is_palindrome(word) that checks if a word is a palindrome (reads the same backward as forward). Return True or False.\n"
   ]
  },
  {
   "cell_type": "code",
   "execution_count": 46,
   "id": "0111dc34",
   "metadata": {},
   "outputs": [
    {
     "name": "stdout",
     "output_type": "stream",
     "text": [
      "ok\n",
      "ko\n",
      "false\n"
     ]
    }
   ],
   "source": [
    "def is_palindrome(word):\n",
    "    print(word)\n",
    "    z = word[: :-1]\n",
    "    print(z)\n",
    "    if z == word:\n",
    "        print(\"true\")\n",
    "    else:\n",
    "        print(\"false\")\n",
    "\n",
    "\n",
    "is_palindrome(\"ok\")"
   ]
  },
  {
   "cell_type": "markdown",
   "id": "d082ef80",
   "metadata": {},
   "source": [
    "### Task 4: Write a function find_largest(num1, num2, num3) that takes three numbers as arguments and returns the largest number."
   ]
  },
  {
   "cell_type": "code",
   "execution_count": 14,
   "id": "d52df29d",
   "metadata": {},
   "outputs": [
    {
     "name": "stdout",
     "output_type": "stream",
     "text": [
      "Num2 is greatest\n"
     ]
    }
   ],
   "source": [
    "def find_largest(num1, num2, num3):\n",
    "    if num1 > num2 and num1 > num3:\n",
    "        z = \"Num1 is greatest\"\n",
    "    elif num2 > num1 and num2 > num3:\n",
    "        z = \"Num2 is greatest\"\n",
    "    else:\n",
    "        z = \"Num3 is greatest\"\n",
    "\n",
    "    return z\n",
    "\n",
    "print(find_largest(56, 71, 23))\n",
    "\n"
   ]
  },
  {
   "cell_type": "markdown",
   "id": "043f8657",
   "metadata": {},
   "source": [
    "### Task 5: Write a function convert_seconds(seconds) that takes a number of seconds and converts it into hours, minutes, and seconds."
   ]
  },
  {
   "cell_type": "code",
   "execution_count": 23,
   "id": "102bafd6",
   "metadata": {},
   "outputs": [
    {
     "data": {
      "text/plain": [
       "(1, 1, 10)"
      ]
     },
     "execution_count": 23,
     "metadata": {},
     "output_type": "execute_result"
    }
   ],
   "source": [
    "def convert_seconds(seconds):\n",
    "    hours = seconds//3600\n",
    "    remaining_sec = seconds%3600\n",
    "    minute = remaining_sec//60\n",
    "    remaining_sec_2 = remaining_sec%60\n",
    "    return hours, minute, remaining_sec_2\n",
    "    \n",
    "\n",
    "convert_seconds(3670)\n"
   ]
  },
  {
   "cell_type": "markdown",
   "id": "28d671ac",
   "metadata": {},
   "source": [
    "### Task 6:Write a function remove_duplicates(items) that takes a list and returns a new list with all duplicate elements removed."
   ]
  },
  {
   "cell_type": "code",
   "execution_count": 37,
   "id": "0b21fe1c",
   "metadata": {},
   "outputs": [
    {
     "name": "stdout",
     "output_type": "stream",
     "text": [
      "[1, 2, 3, 1, 2, 1]\n"
     ]
    },
    {
     "data": {
      "text/plain": [
       "[1, 2, 3]"
      ]
     },
     "execution_count": 37,
     "metadata": {},
     "output_type": "execute_result"
    }
   ],
   "source": [
    "def remove_duplicates(items):\n",
    "\n",
    "    print(items)\n",
    "    a = set(list1)\n",
    "    z = list(a)\n",
    "    return z\n",
    "\n",
    "list1 = [1,2,3,1,2,1]\n",
    "remove_duplicates(list1)"
   ]
  },
  {
   "cell_type": "markdown",
   "id": "703f2046",
   "metadata": {},
   "source": [
    "### Task 6: Write a function calculate_total(cart_items) that takes a dictionary where keys are item names and values are prices, then calculates the total price.\n"
   ]
  },
  {
   "cell_type": "code",
   "execution_count": null,
   "id": "bea2061e",
   "metadata": {},
   "outputs": [
    {
     "name": "stdout",
     "output_type": "stream",
     "text": [
      "{'apple': 100, 'mango': 200, 'orange': 300}\n"
     ]
    },
    {
     "data": {
      "text/plain": [
       "600"
      ]
     },
     "execution_count": 51,
     "metadata": {},
     "output_type": "execute_result"
    }
   ],
   "source": [
    "def calculate_total(cart_items):\n",
    "    print(cart_items)\n",
    "    result = 0\n",
    "    for x in cart_items:\n",
    "        result = result + cart_items[x]\n",
    "    return result\n",
    "\n",
    "    \n",
    "fruits = {'apple': 100, 'mango': 200, 'orange': 300}\n",
    "calculate_total(fruits)\n"
   ]
  },
  {
   "cell_type": "code",
   "execution_count": null,
   "id": "67e7e639",
   "metadata": {},
   "outputs": [
    {
     "name": "stdout",
     "output_type": "stream",
     "text": [
      "600\n"
     ]
    }
   ],
   "source": [
    "def calculate_total(cart_items):\n",
    "    print(sum(cart_items.values()))\n",
    "\n",
    "    \n",
    "fruits = {'apple': 100, 'mango': 200, 'orange': 300}\n",
    "calculate_total(fruits)"
   ]
  },
  {
   "cell_type": "code",
   "execution_count": 58,
   "id": "a9375a78",
   "metadata": {},
   "outputs": [
    {
     "data": {
      "text/plain": [
       "600"
      ]
     },
     "execution_count": 58,
     "metadata": {},
     "output_type": "execute_result"
    }
   ],
   "source": [
    "def calculate_total(cart_items):\n",
    "    total = 0\n",
    "    for key,values in cart_items.items():\n",
    "        total += values\n",
    "    return total\n",
    "\n",
    "fruits = {'apple': 100, 'mango': 200, 'orange': 300}\n",
    "calculate_total(fruits)\n"
   ]
  },
  {
   "cell_type": "code",
   "execution_count": 61,
   "id": "23c019a8",
   "metadata": {},
   "outputs": [
    {
     "name": "stdout",
     "output_type": "stream",
     "text": [
      "0 apple 100\n",
      "1 mango 200\n",
      "2 orange 300\n",
      "600\n"
     ]
    }
   ],
   "source": [
    "t = 0\n",
    "for index, key in enumerate(fruits):\n",
    "    print(index, key, fruits[key])\n",
    "    value = fruits[key]\n",
    "    t += value\n",
    "print(t)"
   ]
  },
  {
   "cell_type": "code",
   "execution_count": null,
   "id": "9c3b6ccc",
   "metadata": {},
   "outputs": [],
   "source": []
  }
 ],
 "metadata": {
  "kernelspec": {
   "display_name": "Python 3",
   "language": "python",
   "name": "python3"
  },
  "language_info": {
   "codemirror_mode": {
    "name": "ipython",
    "version": 3
   },
   "file_extension": ".py",
   "mimetype": "text/x-python",
   "name": "python",
   "nbconvert_exporter": "python",
   "pygments_lexer": "ipython3",
   "version": "3.13.0"
  }
 },
 "nbformat": 4,
 "nbformat_minor": 5
}
