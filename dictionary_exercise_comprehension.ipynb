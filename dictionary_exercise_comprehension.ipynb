{
 "cells": [
  {
   "cell_type": "markdown",
   "id": "6b77c7ac",
   "metadata": {},
   "source": [
    "# Python Programming Assignment: Dictionary\n"
   ]
  },
  {
   "cell_type": "markdown",
   "id": "043f8657",
   "metadata": {},
   "source": [
    "## Task 1: Employee Performance Evaluation\n",
    "You are given a dictionary where the keys represent employee names, and the values represent their performance scores (out of 100). Write a Python script to perform the following tasks:\n",
    "\n",
    "### Tasks\n",
    "\n",
    "1. **Print all employee names and their scores. Like \"Alice scored 85\"**\n",
    "2. **Find and print the name(s) of the employee(s) with the highest score.**\n",
    "3. **Print the names of employees who scored above the average.**\n",
    "4. **Create a new dictionary that categorizes employees as \"Pass\" (score >= 80) or \"Fail\" (score < 80). Print the new dictionary.**\n"
   ]
  },
  {
   "cell_type": "code",
   "execution_count": null,
   "id": "7dbf1921",
   "metadata": {},
   "outputs": [],
   "source": [
    "employee_scores = {\n",
    "    \"Alice\": 85,\n",
    "    \"Bob\": 78,\n",
    "    \"Charlie\": 92,\n",
    "    \"Diana\": 88,\n",
    "    \"Eve\": 76\n",
    "}"
   ]
  },
  {
   "cell_type": "markdown",
   "id": "3457dd3b",
   "metadata": {},
   "source": [
    "## Task 2: Student Grades Processing\n",
    "You are given a list of student grades. Write Python code using list comprehension to perform the following tasks:\n",
    "\n",
    "### Tasks\n",
    "1. **Create a list of grades increased by 5 points.** \n",
    "\n",
    "Output: [50, 83, 93, 97, 72, 60, 94, 81, 95, 55]\n",
    " \n",
    "2. **Create a list of grades that are passing (≥ 60).**\n",
    "\n",
    "Output: [78, 88, 92, 67, 89, 76, 90]\n",
    "\n",
    "3. **Create a list of grades converted to \"Pass\" or \"Fail\" based on a passing mark of 60.**\n",
    "\n",
    "Output: ['Fail', 'Pass', 'Pass', 'Pass', 'Pass', 'Fail', 'Pass', 'Pass', 'Pass', 'Fail']\n",
    "\n",
    "4. **Find the highest grade.**\n",
    "\n",
    "Output: Highest grade: 92\n",
    "\n",
    "5. **Create a list of tuples where each tuple contains the original grade and the grade category: \"Excellent\" (≥ 90), \"Good\" (70–89), or \"Average\" (< 70).**\n",
    "\n",
    "Output: [    (45, 'Average'),    (78, 'Good'),    (88, 'Good'),    (92, 'Excellent'),    (67, 'Average'),    (55, 'Average'),    (89, 'Good'),    (76, 'Good'),    (90, 'Excellent'),    (50, 'Average')]\n"
   ]
  },
  {
   "cell_type": "code",
   "execution_count": null,
   "id": "6692bed0",
   "metadata": {},
   "outputs": [],
   "source": [
    "grades = [45, 78, 88, 92, 67, 55, 89, 76, 90, 50]"
   ]
  },
  {
   "cell_type": "code",
   "execution_count": 2,
   "id": "5074a40d",
   "metadata": {},
   "outputs": [
    {
     "name": "stdout",
     "output_type": "stream",
     "text": [
      "no sign\n"
     ]
    }
   ],
   "source": [
    "a= input(\"enter your sign\")\n",
    "if a==\"red\":\n",
    "    print(\"stop\")\n",
    "elif a==\"green\":\n",
    "    print(\"go\")\n",
    "elif a==\"yellow\":\n",
    "    print(\"ready\")\n",
    "else:\n",
    "    print(\"no sign\")"
   ]
  },
  {
   "cell_type": "code",
   "execution_count": 1,
   "id": "51f68526",
   "metadata": {},
   "outputs": [
    {
     "name": "stdout",
     "output_type": "stream",
     "text": [
      "grade c\n"
     ]
    }
   ],
   "source": [
    "marks= int(input(\"enter your marks\"))\n",
    "if marks>=90:\n",
    "    print(\"grade a\")\n",
    "elif marks>90 or marks>=80:\n",
    "    print(\"grade b\")\n",
    "elif marks>80 or marks>=70:\n",
    "    print(\"grade c\")\n",
    "else:\n",
    "    print(\"grade d\")\n",
    "\n"
   ]
  },
  {
   "cell_type": "code",
   "execution_count": null,
   "id": "40c8d7b7",
   "metadata": {},
   "outputs": [],
   "source": []
  }
 ],
 "metadata": {
  "kernelspec": {
   "display_name": "base",
   "language": "python",
   "name": "python3"
  },
  "language_info": {
   "codemirror_mode": {
    "name": "ipython",
    "version": 3
   },
   "file_extension": ".py",
   "mimetype": "text/x-python",
   "name": "python",
   "nbconvert_exporter": "python",
   "pygments_lexer": "ipython3",
   "version": "3.12.7"
  }
 },
 "nbformat": 4,
 "nbformat_minor": 5
}
