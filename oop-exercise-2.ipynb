{
 "cells": [
  {
   "cell_type": "markdown",
   "id": "ac8ab648",
   "metadata": {},
   "source": [
    "# Python exercise"
   ]
  },
  {
   "cell_type": "markdown",
   "id": "62b1aaf7",
   "metadata": {},
   "source": [
    "### Task 1: Create a function called Rectange which takes length and width and operation as a parameter. In opeation you can pass either 'area' or 'perimeter', based on the condition return the result as area or perimeter.\n",
    "\n",
    "def Rectange(length, width, operation):\n",
    "\n",
    "    # code here "
   ]
  },
  {
   "cell_type": "code",
   "execution_count": 3,
   "id": "0a56b969",
   "metadata": {},
   "outputs": [
    {
     "data": {
      "text/plain": [
       "14"
      ]
     },
     "execution_count": 3,
     "metadata": {},
     "output_type": "execute_result"
    }
   ],
   "source": [
    "def Rectangle(length,width,operation):\n",
    "    if operation == \"multiply\":\n",
    "        area = length * width\n",
    "        return area\n",
    "    elif operation == \"add\":\n",
    "        perimeter = 2*( length + width )\n",
    "        return perimeter\n",
    "\n",
    "Rectangle(2,4, \"multiply\")\n",
    "Rectangle(3,4,\"add\")\n"
   ]
  },
  {
   "cell_type": "markdown",
   "id": "bcdf841e",
   "metadata": {},
   "source": [
    "# Python Programming Assignment: OOP\n",
    "### Task 1: Write a Python program to create a calculator class. Include methods for basic arithmetic operations i.e addition, substraction, mulitplication, divison. Also handle exception case for division by zero.\n",
    "\n"
   ]
  },
  {
   "cell_type": "code",
   "execution_count": 10,
   "id": "d782a505",
   "metadata": {},
   "outputs": [
    {
     "data": {
      "text/plain": [
       "'not divisible'"
      ]
     },
     "execution_count": 10,
     "metadata": {},
     "output_type": "execute_result"
    }
   ],
   "source": [
    "class Calculator:\n",
    "    def __init__(self,num1,num2):\n",
    "        self.num1 = num1\n",
    "        self.num2 = num2 \n",
    "\n",
    "    def addition(self):\n",
    "        self.result1 = self.num1 + self.num2 \n",
    "        return self.result1\n",
    "    \n",
    "    def substraction(self, num3):\n",
    "        self.result2 = self.result1 - num3\n",
    "        return self.result2\n",
    "    \n",
    "    def multiplication(self, num4):\n",
    "        self.result3 = self.result2 * num4 \n",
    "        return self.result3\n",
    "    \n",
    "    def division(self):\n",
    "        try:\n",
    "            self.result = self.num1 / self.num2\n",
    "            return result\n",
    "        except:\n",
    "            return \"not divisible\"\n",
    " \n",
    "b2 = Calculator(23, 0)\n",
    "b2.addition()\n",
    "b2.substraction(10)\n",
    "b2.multiplication(12)\n",
    "b2.division()    "
   ]
  },
  {
   "cell_type": "code",
   "execution_count": null,
   "id": "82f6d519",
   "metadata": {},
   "outputs": [],
   "source": []
  }
 ],
 "metadata": {
  "kernelspec": {
   "display_name": "base",
   "language": "python",
   "name": "python3"
  },
  "language_info": {
   "codemirror_mode": {
    "name": "ipython",
    "version": 3
   },
   "file_extension": ".py",
   "mimetype": "text/x-python",
   "name": "python",
   "nbconvert_exporter": "python",
   "pygments_lexer": "ipython3",
   "version": "3.12.7"
  }
 },
 "nbformat": 4,
 "nbformat_minor": 5
}
