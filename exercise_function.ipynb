{
 "cells": [
  {
   "cell_type": "markdown",
   "metadata": {},
   "source": [
    "# Python Programming Assignment: Function\n",
    "\n",
    "### Task 1: Write a function simple_calculator(num1, num2, operation) that takes two numbers and a string specifying an operation ('add', 'subtract', 'multiply', 'divide') and returns the result of the operation.\n",
    "\n"
   ]
  },
  {
   "cell_type": "code",
   "execution_count": 9,
   "metadata": {},
   "outputs": [
    {
     "name": "stdout",
     "output_type": "stream",
     "text": [
      "2 565 multiply\n",
      "1130\n"
     ]
    }
   ],
   "source": [
    "def simple_calculator(num1,num2,operator):\n",
    "    print(num1,num2,operator)\n",
    "    if operator== \"add\":\n",
    "        result = num1+num2\n",
    "    elif operator==\"subtract\":\n",
    "        result= num1-num2\n",
    "    elif operator==\"multiply\":\n",
    "        result=num1*num2\n",
    "    else:\n",
    "        result = num1/num2\n",
    "    return result\n",
    "print(simple_calculator(2,565,\"multiply\"))\n"
   ]
  },
  {
   "cell_type": "markdown",
   "id": "85b7cc26",
   "metadata": {},
   "source": [
    "### Task 2:Write a function print_multiplication_table(n) that takes a number n and prints its multiplication table from 1 to 10.\n",
    "\n"
   ]
  },
  {
   "cell_type": "code",
   "execution_count": 20,
   "id": "56999e42",
   "metadata": {},
   "outputs": [
    {
     "name": "stdout",
     "output_type": "stream",
     "text": [
      "[6, 12, 18, 24, 30, 36, 42, 48, 54, 60]\n"
     ]
    }
   ],
   "source": [
    "a= int(input(\"enter your number\"))\n",
    "def print_func(a):\n",
    "  table = []\n",
    "  for i in range(1,11):\n",
    "    mul =a*i\n",
    "    table.append(mul)\n",
    "  return table\n",
    "print(print_func(a))\n"
   ]
  },
  {
   "cell_type": "markdown",
   "id": "f0832a71",
   "metadata": {},
   "source": [
    "### Task 3: Write a function is_palindrome(word) that checks if a word is a palindrome (reads the same backward as forward). Return True or False.\n"
   ]
  },
  {
   "cell_type": "code",
   "execution_count": 32,
   "id": "0111dc34",
   "metadata": {},
   "outputs": [
    {
     "name": "stdout",
     "output_type": "stream",
     "text": [
      "True\n"
     ]
    }
   ],
   "source": [
    "def function_palindrome(word):\n",
    "    z=word[::-1]\n",
    "    if z== word:\n",
    "        print(\"True\")\n",
    "    else:\n",
    "        print(\"False\")\n",
    "\n",
    "function_palindrome(\"mom\")"
   ]
  },
  {
   "cell_type": "code",
   "execution_count": 25,
   "id": "e62f3508",
   "metadata": {},
   "outputs": [],
   "source": [
    "a =\"apple\""
   ]
  },
  {
   "cell_type": "code",
   "execution_count": 31,
   "id": "c9da2b94",
   "metadata": {},
   "outputs": [
    {
     "data": {
      "text/plain": [
       "'elppa'"
      ]
     },
     "execution_count": 31,
     "metadata": {},
     "output_type": "execute_result"
    }
   ],
   "source": [
    "a[::-1]"
   ]
  },
  {
   "cell_type": "markdown",
   "id": "d082ef80",
   "metadata": {},
   "source": [
    "### Task 4: Write a function find_largest(num1, num2, num3) that takes three numbers as arguments and returns the largest number."
   ]
  },
  {
   "cell_type": "code",
   "execution_count": null,
   "id": "d52df29d",
   "metadata": {},
   "outputs": [
    {
     "name": "stdout",
     "output_type": "stream",
     "text": [
      "num3 is the largest number\n"
     ]
    }
   ],
   "source": [
    "\n",
    "def find_largest (num1,num2,num3):\n",
    "    if num1>num2 and num1>num3:\n",
    "        z=\"num1 is the largest number\"\n",
    "    elif num2>=num3 and num2>=num1:\n",
    "        z=\"num2 is the largest number\"\n",
    "    else:\n",
    "        z=\"num3 is the largest number\"\n",
    "    return z\n",
    "\n",
    "print(find_largest(23,33,44))"
   ]
  },
  {
   "cell_type": "markdown",
   "id": "043f8657",
   "metadata": {},
   "source": [
    "### Task 5: Write a function convert_seconds(seconds) that takes a number of seconds and converts it into hours, minutes, and seconds."
   ]
  },
  {
   "cell_type": "code",
   "execution_count": 33,
   "id": "013ad064",
   "metadata": {},
   "outputs": [
    {
     "data": {
      "text/plain": [
       "(1, 1, 10)"
      ]
     },
     "execution_count": 33,
     "metadata": {},
     "output_type": "execute_result"
    }
   ],
   "source": [
    "def convert_seconds(seconds):\n",
    "    hours=seconds//3600\n",
    "    remaining_sec=seconds%3600\n",
    "    minute=remaining_sec//60\n",
    "    remaining_sec_2=remaining_sec%60\n",
    "    return hours, minute,remaining_sec_2\n",
    "\n",
    "convert_seconds(3670)"
   ]
  },
  {
   "cell_type": "markdown",
   "id": "28d671ac",
   "metadata": {},
   "source": [
    "### Task 6:Write a function remove_duplicates(items) that takes a list and returns a new list with all duplicate elements removed."
   ]
  },
  {
   "cell_type": "code",
   "execution_count": 37,
   "id": "0b21fe1c",
   "metadata": {},
   "outputs": [
    {
     "name": "stdout",
     "output_type": "stream",
     "text": [
      "[1, 2, 3, 4, 5, 8]\n"
     ]
    }
   ],
   "source": [
    "a=[1,2,3,3,4,5,5,8]\n",
    "def remove_duplicate(items):\n",
    "    b=set(a)\n",
    "    \n",
    "    return b\n",
    "n=remove_duplicate(a)\n",
    "c=list(n)\n",
    "print(c)"
   ]
  },
  {
   "cell_type": "markdown",
   "id": "703f2046",
   "metadata": {},
   "source": [
    "### Task 6: Write a function calculate_total(cart_items) that takes a dictionary where keys are item names and values are prices, then calculates the total price.\n"
   ]
  },
  {
   "cell_type": "code",
   "execution_count": 45,
   "id": "bea2061e",
   "metadata": {},
   "outputs": [
    {
     "name": "stdout",
     "output_type": "stream",
     "text": [
      "600\n"
     ]
    }
   ],
   "source": [
    "fruits = {'apple': 100, 'mango': 200, 'orange': 300}\n",
    "sum(fruits.values())\n",
    "\n",
    "# total = 0\n",
    "# for k,v in fruits.items():\n",
    "#     total+=v\n",
    "# print(total)\n",
    "def calculate_total(c):\n",
    "    total = 0\n",
    "    for k,v in c.items():\n",
    "        total+=v\n",
    "    return total\n",
    "print(calculate_total(fruits))"
   ]
  },
  {
   "cell_type": "code",
   "execution_count": null,
   "id": "8b947200",
   "metadata": {},
   "outputs": [],
   "source": []
  }
 ],
 "metadata": {
  "kernelspec": {
   "display_name": "base",
   "language": "python",
   "name": "python3"
  },
  "language_info": {
   "codemirror_mode": {
    "name": "ipython",
    "version": 3
   },
   "file_extension": ".py",
   "mimetype": "text/x-python",
   "name": "python",
   "nbconvert_exporter": "python",
   "pygments_lexer": "ipython3",
   "version": "3.12.7"
  }
 },
 "nbformat": 4,
 "nbformat_minor": 5
}
