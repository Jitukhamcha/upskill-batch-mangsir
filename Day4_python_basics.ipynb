{
 "cells": [
  {
   "cell_type": "markdown",
   "id": "e2afc757-0bfb-4d64-bc76-9e4199344cf4",
   "metadata": {},
   "source": [
    "<h3>Python Functions</h3> <br>\n",
    "\n",
    "* A function is a block of code which only runs when it is called.\n",
    "\n",
    "* You can pass data, known as parameters, into a function.\n",
    "\n",
    "* A function can return data as a result."
   ]
  },
  {
   "cell_type": "code",
   "execution_count": 32,
   "id": "1d4c3e57-41bc-4036-b47a-cc804a89aa35",
   "metadata": {},
   "outputs": [],
   "source": [
    "def my_function():\n",
    "  print(\"Hello from a function\")"
   ]
  },
  {
   "cell_type": "code",
   "execution_count": 33,
   "id": "d5aabdac",
   "metadata": {},
   "outputs": [
    {
     "name": "stdout",
     "output_type": "stream",
     "text": [
      "Hello from a function\n",
      "return from my_function None\n"
     ]
    }
   ],
   "source": [
    "print(\"return from my_function\", my_function())"
   ]
  },
  {
   "cell_type": "code",
   "execution_count": 51,
   "id": "ec9b761c",
   "metadata": {},
   "outputs": [],
   "source": [
    "def func1(parameter1):\n",
    "    print(\"Hello from a function\")\n",
    "    print(parameter1)\n",
    "    \n",
    "    return parameter1"
   ]
  },
  {
   "cell_type": "code",
   "execution_count": 52,
   "id": "8c0e1588",
   "metadata": {},
   "outputs": [
    {
     "name": "stdout",
     "output_type": "stream",
     "text": [
      "Hello from a function\n",
      "10\n",
      "result: 10\n"
     ]
    }
   ],
   "source": [
    "print(\"result:\", func1(10))"
   ]
  },
  {
   "cell_type": "code",
   "execution_count": 50,
   "id": "eae239e2",
   "metadata": {},
   "outputs": [
    {
     "name": "stdout",
     "output_type": "stream",
     "text": [
      "Hello from a function\n",
      "10\n",
      "result: 10\n"
     ]
    }
   ],
   "source": [
    "print(\"result:\", func1(10))"
   ]
  },
  {
   "cell_type": "code",
   "execution_count": 56,
   "id": "c13b714a-56ff-4560-8ea2-3c9b31e85b7e",
   "metadata": {},
   "outputs": [
    {
     "data": {
      "text/plain": [
       "6"
      ]
     },
     "execution_count": 56,
     "metadata": {},
     "output_type": "execute_result"
    }
   ],
   "source": [
    "# example 2\n",
    "def add_function(a,b):   # a and b are called parameter #A parameter is the variable listed inside the parentheses in the function definition. \n",
    "    z = a+b\n",
    "    # print(z)\n",
    "    return z\n",
    "    \n",
    "add_function(2, 4) # 2 & 4 are called argument # An argument is the value that is sent to the function when it is called."
   ]
  },
  {
   "cell_type": "code",
   "execution_count": 58,
   "id": "5b66efa9",
   "metadata": {},
   "outputs": [
    {
     "data": {
      "text/plain": [
       "1233"
      ]
     },
     "execution_count": 58,
     "metadata": {},
     "output_type": "execute_result"
    }
   ],
   "source": [
    "add_function(1000, 233)"
   ]
  },
  {
   "cell_type": "code",
   "execution_count": 88,
   "id": "ae54be91",
   "metadata": {},
   "outputs": [],
   "source": [
    "def check_even(number):\n",
    "    if number % 2 == 0:\n",
    "        return True\n",
    "    else:\n",
    "        return False"
   ]
  },
  {
   "cell_type": "code",
   "execution_count": null,
   "id": "f17e9e38",
   "metadata": {},
   "outputs": [
    {
     "name": "stdout",
     "output_type": "stream",
     "text": [
      "10 is Even \n"
     ]
    }
   ],
   "source": [
    "num = 10\n",
    "result = check_even(num)\n",
    "# print(result)\n",
    "if result == True:\n",
    "    print(f\"{num} is Even \")\n",
    "else:\n",
    "    print(f\"{num} is odd\")"
   ]
  },
  {
   "cell_type": "code",
   "execution_count": null,
   "id": "88a71362",
   "metadata": {},
   "outputs": [],
   "source": []
  },
  {
   "cell_type": "code",
   "execution_count": 107,
   "id": "61f8a974",
   "metadata": {},
   "outputs": [
    {
     "name": "stdout",
     "output_type": "stream",
     "text": [
      "[6, 12, 12, 56] [13, 7, 5, 7, 7, 5]\n"
     ]
    }
   ],
   "source": [
    "def seggerate_number(a):\n",
    "    ## code to return two list, one is even list and other is odd     \n",
    "    even_list = []\n",
    "    odd_list = []\n",
    "    for x in a:\n",
    "        if x % 2 == 0:\n",
    "            even_list.append(x)\n",
    "        else:\n",
    "            odd_list.append(x)\n",
    "    return even_list, odd_list\n",
    "\n",
    "mylist = [13,6,7,12,5,7,12,56,7,5]\n",
    "elist, olist = seggerate_number(mylist)\n",
    "print(elist, olist)"
   ]
  },
  {
   "cell_type": "code",
   "execution_count": null,
   "id": "62d50355",
   "metadata": {},
   "outputs": [],
   "source": [
    "# pass two parameter one is text itself and next one is int 0,1,2, \n",
    "# {O mean capital, 1 means small, 2 means title}\n",
    "\n",
    "def casing(text1):\n",
    "    b = text1.upper()\n",
    "    return b"
   ]
  },
  {
   "cell_type": "code",
   "execution_count": null,
   "id": "ac52e483",
   "metadata": {},
   "outputs": [
    {
     "data": {
      "text/plain": [
       "'APPLE'"
      ]
     },
     "execution_count": 109,
     "metadata": {},
     "output_type": "execute_result"
    }
   ],
   "source": [
    "casing(\"apple\",0)"
   ]
  },
  {
   "cell_type": "code",
   "execution_count": 14,
   "id": "b7a117e3",
   "metadata": {},
   "outputs": [],
   "source": [
    "# write a function with first name and last name, return the full name \n",
    "def get_full_name(firstName, lastName):\n",
    "    fullName = firstName + \" \" + lastName\n",
    "    return fullName"
   ]
  },
  {
   "cell_type": "code",
   "execution_count": 18,
   "id": "5641805d",
   "metadata": {},
   "outputs": [
    {
     "name": "stdout",
     "output_type": "stream",
     "text": [
      "jit khamcha\n"
     ]
    }
   ],
   "source": [
    "some_variable = get_full_name(\"jit\", \"khamcha\")\n",
    "print(some_variable)"
   ]
  },
  {
   "cell_type": "markdown",
   "id": "4f796cf4-c8a6-4941-94c5-2d3e685636d9",
   "metadata": {},
   "source": [
    "<b>If you do not know how many arguments that will be passed into your function, add a * before the parameter name in the function definition."
   ]
  },
  {
   "cell_type": "code",
   "execution_count": 40,
   "id": "389ce6f1",
   "metadata": {},
   "outputs": [
    {
     "name": "stdout",
     "output_type": "stream",
     "text": [
      " jit bahadur khamcha\n"
     ]
    }
   ],
   "source": [
    "def name(*v):\n",
    "    result = ''\n",
    "    for i in v:\n",
    "        result = result + \" \" + i \n",
    "    return result\n",
    "\n",
    "print(name(\"jit\", \"bahadur\", 'khamcha'))"
   ]
  },
  {
   "cell_type": "code",
   "execution_count": 36,
   "id": "a4e2e2bd-3588-4809-8f1a-f3d3643b2a74",
   "metadata": {},
   "outputs": [
    {
     "name": "stdout",
     "output_type": "stream",
     "text": [
      "The youngest child is Emil\n"
     ]
    }
   ],
   "source": [
    "def my_function(*kids):\n",
    "  print(\"The youngest child is \" + kids[0])\n",
    "  \n",
    "my_function(\"Emil\", \"Tobias\", \"Linus\")"
   ]
  },
  {
   "cell_type": "markdown",
   "id": "ec1e6210-ad10-4573-ac9e-c24b0cc75fc7",
   "metadata": {},
   "source": [
    "<b>Default Parameter Value</b><br>\n",
    "If we call the function without argument, it uses the default value"
   ]
  },
  {
   "cell_type": "code",
   "execution_count": 49,
   "id": "d1af5549-6eea-4ee1-a05f-257f46c711c7",
   "metadata": {},
   "outputs": [
    {
     "data": {
      "text/plain": [
       "5"
      ]
     },
     "execution_count": 49,
     "metadata": {},
     "output_type": "execute_result"
    }
   ],
   "source": [
    "\n",
    "def my_function(a, b=4):\n",
    "  sum = a+b\n",
    "  return sum\n",
    "\n",
    "my_function(1)"
   ]
  },
  {
   "cell_type": "code",
   "execution_count": null,
   "id": "6f982eac-3e6c-48c9-9240-f9776412812f",
   "metadata": {},
   "outputs": [
    {
     "data": {
      "text/plain": [
       "['c', 'd', 'e']"
      ]
     },
     "execution_count": 54,
     "metadata": {},
     "output_type": "execute_result"
    }
   ],
   "source": [
    "def my_function(food):\n",
    "  keys = []\n",
    "  for x in food:\n",
    "    print(x)\n",
    "    keys.append(x)\n",
    "  return keys\n",
    "\n",
    "fruits = {'c':\"apple\", 'd':\"banana\", 'e':\"cherry\"}\n",
    "\n",
    "my_function(fruits)\n"
   ]
  },
  {
   "cell_type": "markdown",
   "id": "bc6d2b13-1f43-4180-acf9-a212091171a2",
   "metadata": {},
   "source": [
    "<b>The pass Statement</b> <br>\n",
    "function definitions cannot be empty, but if you for some reason have a function definition with no content, put in the <b><u>pass</u></b> statement to avoid getting an error."
   ]
  },
  {
   "cell_type": "code",
   "execution_count": null,
   "id": "c86bbc7c-9ec6-455e-88f5-dbe482a6fb91",
   "metadata": {},
   "outputs": [],
   "source": [
    "def myfunction():\n",
    "  pass\n"
   ]
  },
  {
   "cell_type": "code",
   "execution_count": null,
   "id": "9fdce493",
   "metadata": {},
   "outputs": [],
   "source": []
  },
  {
   "cell_type": "code",
   "execution_count": null,
   "id": "bd741246",
   "metadata": {},
   "outputs": [],
   "source": []
  },
  {
   "cell_type": "markdown",
   "id": "21507664-a11a-4632-a927-6ae91659aae9",
   "metadata": {},
   "source": []
  },
  {
   "cell_type": "code",
   "execution_count": 8,
   "id": "deff6536-3bab-4cb8-8542-ec261583115b",
   "metadata": {},
   "outputs": [],
   "source": [
    "# list(range(4, 30, 2))"
   ]
  },
  {
   "cell_type": "markdown",
   "id": "bde867c9-d3a1-46c6-a238-1bff805d8886",
   "metadata": {},
   "source": [
    "wrie a function to Find the largest item from a given list <br>\n",
    "x = [4, 6, 8, 24, 12, 2]"
   ]
  },
  {
   "cell_type": "code",
   "execution_count": 55,
   "id": "db878c3c",
   "metadata": {},
   "outputs": [],
   "source": [
    "def find_largest(list1):\n",
    "    sorted_list = sorted(list1)\n",
    "    largest = sorted_list[-1]\n",
    "    return largest"
   ]
  },
  {
   "cell_type": "code",
   "execution_count": 56,
   "id": "16c77aff",
   "metadata": {},
   "outputs": [
    {
     "name": "stdout",
     "output_type": "stream",
     "text": [
      "24\n"
     ]
    }
   ],
   "source": [
    "x = [4, 6, 8, 24, 12, 2]\n",
    "largest = find_largest(x)\n",
    "print(largest)"
   ]
  },
  {
   "cell_type": "code",
   "execution_count": null,
   "id": "75454afa",
   "metadata": {},
   "outputs": [],
   "source": []
  },
  {
   "cell_type": "code",
   "execution_count": 60,
   "id": "d5ba9a76-9f3c-42ff-a31b-bba371b3f3af",
   "metadata": {},
   "outputs": [
    {
     "name": "stdout",
     "output_type": "stream",
     "text": [
      "24 2\n"
     ]
    }
   ],
   "source": [
    "x = [4, 6, 8, 24, 12, 2]\n",
    "print(max(x), min(x))"
   ]
  },
  {
   "cell_type": "markdown",
   "id": "998436a7-8dcc-4ea3-9c27-986f5675ead0",
   "metadata": {},
   "source": [
    "Define a function that accepts radius and returns the area of a circle. <br>\n",
    "radius = 4 <br>\n",
    "formula for area of circle = 2*π^2 "
   ]
  },
  {
   "cell_type": "code",
   "execution_count": 31,
   "id": "74c065aa-bfd3-467a-a38f-5d385693d2c4",
   "metadata": {},
   "outputs": [
    {
     "name": "stdout",
     "output_type": "stream",
     "text": [
      "50.24\n"
     ]
    }
   ],
   "source": [
    "def area(radius):\n",
    "    area = 3.14*radius*radius\n",
    "#     print(area)\n",
    "    return area\n",
    "\n",
    "a = area(4)\n",
    "\n",
    "print(a)\n",
    "# radius = float(input(\"Enter Radius: \"))  # 4\n",
    "# print(area(radius))"
   ]
  },
  {
   "cell_type": "code",
   "execution_count": 13,
   "id": "314881e6-443d-48ee-90c4-cbdfeda0015a",
   "metadata": {},
   "outputs": [
    {
     "data": {
      "text/plain": [
       "27"
      ]
     },
     "execution_count": 13,
     "metadata": {},
     "output_type": "execute_result"
    }
   ],
   "source": [
    "sum([2, 6, 9, 10])"
   ]
  },
  {
   "cell_type": "markdown",
   "id": "c2129440-319f-40f4-b542-24e4949ae7e4",
   "metadata": {},
   "source": [
    "Write a Python function to sum all the numbers in a list. <br>\n",
    "a = [2, 6, 9, 10] <br>\n",
    "output: 27"
   ]
  },
  {
   "cell_type": "code",
   "execution_count": 2,
   "id": "0f770515-59f2-492a-9636-47a8c95924e9",
   "metadata": {},
   "outputs": [
    {
     "name": "stdout",
     "output_type": "stream",
     "text": [
      "27\n"
     ]
    }
   ],
   "source": [
    "# Define a function named 'sum' that takes a list of numbers as input\n",
    "a = [2, 6, 9, 10]\n",
    "# expeted output is : 27\n",
    "\n",
    "def sum(numbers):\n",
    "    # Initialize a variable 'total' to store the sum of numbers, starting at 0\n",
    "    total = 0\n",
    "    \n",
    "    # Iterate through each element 'x' in the 'numbers' list\n",
    "    for x in numbers:\n",
    "        # Add the current element 'x' to the 'total'\n",
    "        total += x\n",
    "    \n",
    "    # Return the final sum stored in the 'total' variable\n",
    "    return total\n",
    "\n",
    "# Print the result of calling the 'sum' function with a tuple of numbers (8, 2, 3, 0, 7)\n",
    "print(sum(a))"
   ]
  },
  {
   "cell_type": "markdown",
   "id": "c432b839-9a81-4f0d-b178-a16c68b58e44",
   "metadata": {},
   "source": [
    "Write a Python function to multiply all the numbers in a list. <br>\n",
    "a = [2, 6, 9, 10] <br>\n",
    "output: 1080"
   ]
  },
  {
   "cell_type": "code",
   "execution_count": 4,
   "id": "0fd7ad32-e684-4f7b-8e49-afbb29760ffd",
   "metadata": {},
   "outputs": [
    {
     "name": "stdout",
     "output_type": "stream",
     "text": [
      "1080\n"
     ]
    }
   ],
   "source": [
    "# Define a function named 'multiply' that takes a list of numbers as input\n",
    "a = [2, 6, 9, 10] \n",
    "\n",
    "def multiply(numbers):\n",
    "    # Initialize a variable 'total' to store the multiplication result, starting at 1\n",
    "    total = 1\n",
    "    \n",
    "    # Iterate through each element 'x' in the 'numbers' list\n",
    "    for x in numbers:\n",
    "        # Multiply the current element 'x' with the 'total'\n",
    "        total *= x\n",
    "    \n",
    "    # Return the final multiplication result stored in the 'total' variable\n",
    "    return total\n",
    "\n",
    "# Print the result of calling the 'multiply' function with a tuple of numbers (8, 2, 3, -1, 7)\n",
    "print(multiply(a))"
   ]
  },
  {
   "cell_type": "code",
   "execution_count": 18,
   "id": "f24c4057-fcb6-4b49-961d-1e0e5852e1ff",
   "metadata": {},
   "outputs": [
    {
     "name": "stdout",
     "output_type": "stream",
     "text": [
      "[2, 6, 9, 10]\n"
     ]
    },
    {
     "data": {
      "text/plain": [
       "{2: 4, 6: 36, 9: 81, 10: 100}"
      ]
     },
     "execution_count": 18,
     "metadata": {},
     "output_type": "execute_result"
    }
   ],
   "source": [
    "# write a function which takes a list as parameter and return dictionary such that \n",
    "# dict = {\"key\" : \"valye\"} where key is item from list and value is its square \n",
    "a = [2, 6, 9, 10] \n",
    "\n",
    "# Output: {2: 4, 6:36, 9:81, 10:100}\n",
    "\n",
    "def create_dict(listA):\n",
    "    print(listA)\n",
    "    d = {}\n",
    "    for x in listA:\n",
    "        d[x] = x*x\n",
    "    \n",
    "    return d\n",
    "\n",
    "create_dict(a)"
   ]
  },
  {
   "cell_type": "markdown",
   "id": "6ea88fa6",
   "metadata": {},
   "source": [
    "## lambda function \n",
    "### A lambda function in Python is a small, anonymous function defined using the lambda keyword. Unlike regular functions that are defined using def, lambda functions are created in a single line and typically used for short, simple operations.\n",
    "\n",
    "```\n",
    "lambda arguments: expression\n",
    "\n",
    "```\n",
    "\n",
    "lambda: The keyword used to define the function.\n",
    "\n",
    "arguments: The input values the function takes.\n",
    "\n",
    "expression: The computation or operation performed, which is returned as the result of the function.\n",
    "\n",
    "### Characteristics of Lambda Functions:\n",
    "They are anonymous, meaning they don't have a name.\n",
    "\n",
    "They can have any number of arguments but can only contain a single expression.\n",
    "\n",
    "Lambda functions are often used for short, simple tasks where defining a full function using def would be unnecessary."
   ]
  },
  {
   "cell_type": "code",
   "execution_count": null,
   "id": "448ee198",
   "metadata": {},
   "outputs": [
    {
     "data": {
      "text/plain": [
       "9"
      ]
     },
     "execution_count": 64,
     "metadata": {},
     "output_type": "execute_result"
    }
   ],
   "source": [
    "mul = lambda x,y,z: x*y+z\n",
    "mul(2,3,3)"
   ]
  },
  {
   "cell_type": "code",
   "execution_count": null,
   "id": "39455d97",
   "metadata": {},
   "outputs": [],
   "source": []
  },
  {
   "cell_type": "code",
   "execution_count": 2,
   "id": "5ccf8a07",
   "metadata": {},
   "outputs": [
    {
     "name": "stdout",
     "output_type": "stream",
     "text": [
      "8\n"
     ]
    }
   ],
   "source": [
    "# Lambda function to add two numbers\n",
    "add = lambda x, y: x + y\n",
    "\n",
    "# Using the lambda function\n",
    "result = add(3, 5)\n",
    "print(result)  # Output: 8"
   ]
  },
  {
   "cell_type": "code",
   "execution_count": null,
   "id": "62aacf54",
   "metadata": {},
   "outputs": [
    {
     "name": "stdout",
     "output_type": "stream",
     "text": [
      "[1, 4, 9, 16, 25]\n"
     ]
    }
   ],
   "source": [
    "# List of numbers\n",
    "numbers = [1, 2, 3, 4, 5]\n",
    "\n",
    "# Using map with a lambda function to square each number\n",
    "squared_numbers = list(map(lambda x: x ** 2, numbers))\n",
    "\n",
    "print(squared_numbers)  # Output: [1, 4, 9, 16, 25]\n"
   ]
  },
  {
   "cell_type": "code",
   "execution_count": null,
   "id": "c6f84d65",
   "metadata": {},
   "outputs": [
    {
     "name": "stdout",
     "output_type": "stream",
     "text": [
      "[2, 4, 6]\n"
     ]
    }
   ],
   "source": [
    "# List of numbers\n",
    "numbers = [1, 2, 3, 4, 5, 6]\n",
    "\n",
    "# Using filter with a lambda function to keep even numbers\n",
    "even_numbers = list(filter(lambda x: x % 2 == 0, numbers))\n",
    "\n",
    "print(even_numbers)  # Output: [2, 4, 6]\n"
   ]
  },
  {
   "cell_type": "code",
   "execution_count": 71,
   "id": "3be351d9",
   "metadata": {},
   "outputs": [
    {
     "name": "stdout",
     "output_type": "stream",
     "text": [
      "[(1, 'apple'), (3, 'banana'), (2, 'cherry')]\n"
     ]
    }
   ],
   "source": [
    "# List of tuples\n",
    "items = [(1, 'apple'), (3, 'banana'), (2, 'cherry')]\n",
    "\n",
    "# Sorting the list of tuples by the second item in each tuple\n",
    "sorted_items = sorted(items, key=lambda x: x[1])\n",
    "\n",
    "## sorted(list_name, key= [])\n",
    "\n",
    "print(sorted_items)  # Output: [(1, 'apple'), (3, 'banana'), (2, 'cherry')]\n"
   ]
  },
  {
   "cell_type": "code",
   "execution_count": null,
   "id": "1bca6a4d",
   "metadata": {},
   "outputs": [],
   "source": []
  },
  {
   "cell_type": "markdown",
   "id": "3d12b91f-fa0a-4645-a402-29831bee462c",
   "metadata": {},
   "source": [
    "<h4>Recursion</h4> <br>\n",
    "* It means that a function calls itself.\n"
   ]
  },
  {
   "cell_type": "code",
   "execution_count": null,
   "id": "1072c06d-7fe0-4512-8cee-0d80bbe867fe",
   "metadata": {},
   "outputs": [],
   "source": [
    "# Syntax:\n",
    "def func():\n",
    "    func()"
   ]
  },
  {
   "cell_type": "code",
   "execution_count": 72,
   "id": "a5d19f99-710d-441a-b002-f441c20d1795",
   "metadata": {},
   "outputs": [
    {
     "name": "stdout",
     "output_type": "stream",
     "text": [
      "55\n"
     ]
    }
   ],
   "source": [
    "def addition(num):\n",
    "    if num:\n",
    "        # call same function by reducing number by 1\n",
    "        return num + addition(num - 1)\n",
    "    else:\n",
    "        return 0\n",
    "\n",
    "res = addition(10)\n",
    "print(res)"
   ]
  },
  {
   "cell_type": "code",
   "execution_count": 76,
   "id": "9b77fdb9-ccb7-4b43-adff-bb968d0bb38d",
   "metadata": {},
   "outputs": [
    {
     "name": "stdout",
     "output_type": "stream",
     "text": [
      "Factorial of number 5 = 120\n"
     ]
    }
   ],
   "source": [
    "#find factorial of a number using function\n",
    "#5! = 5x4x3x2x1\n",
    "num = 5\n",
    "def recursive_factorial(n):\n",
    "  if n == 1:\n",
    "      return n\n",
    "  else:\n",
    "      return n * recursive_factorial(n-1)\n",
    " \n",
    "# check if the input is valid or not\n",
    "if num < 0:\n",
    "  print(\"Invalid input ! Please enter a positive number.\")\n",
    "elif num == 0:\n",
    "  print(\"Factorial of number 0 is 1\")\n",
    "else:\n",
    "  print(\"Factorial of number\", num, \"=\", recursive_factorial(num))"
   ]
  },
  {
   "cell_type": "code",
   "execution_count": 77,
   "id": "63cb4f4e-1df3-4669-80b9-8560c5b195a3",
   "metadata": {},
   "outputs": [
    {
     "data": {
      "text/plain": [
       "8"
      ]
     },
     "execution_count": 77,
     "metadata": {},
     "output_type": "execute_result"
    }
   ],
   "source": [
    "# Recursive function to find fibonacci series upto n_terms\n",
    "def recursive_fibonacci(n):\n",
    "  if n <= 1:\n",
    "      return n\n",
    "  else:\n",
    "      return(recursive_fibonacci(n-1) + recursive_fibonacci(n-2))\n",
    "\n",
    "recursive_fibonacci(6)"
   ]
  },
  {
   "cell_type": "code",
   "execution_count": 78,
   "id": "67af5ecc-8642-4add-9d0d-9cc632c743f2",
   "metadata": {},
   "outputs": [
    {
     "name": "stdout",
     "output_type": "stream",
     "text": [
      "Fibonacci series:\n",
      "0\n",
      "1\n",
      "1\n",
      "2\n",
      "3\n",
      "5\n",
      "8\n",
      "13\n",
      "21\n",
      "34\n"
     ]
    }
   ],
   "source": [
    "# Program to print the fibonacci series upto n_terms\n",
    " \n",
    "# Recursive function\n",
    "def recursive_fibonacci(n):\n",
    "  if n <= 1:\n",
    "      return n\n",
    "  else:\n",
    "      return(recursive_fibonacci(n-1) + recursive_fibonacci(n-2))\n",
    " \n",
    "n_terms = 10\n",
    " \n",
    "# check if the number of terms is valid\n",
    "if n_terms <= 0:\n",
    "  print(\"Invalid input ! Please input a positive value\")\n",
    "else:\n",
    "  print(\"Fibonacci series:\")\n",
    "for i in range(n_terms):\n",
    "    print(recursive_fibonacci(i))"
   ]
  },
  {
   "cell_type": "markdown",
   "id": "26dccae9-7669-4c83-8407-80189e364df7",
   "metadata": {},
   "source": [
    "<h2>Exception Handling</h2> <br>\n",
    "When an error occurs, Python will normally stop and generate an error message. <br>\n",
    "\n",
    "* Errors are the problems in a program due to which the program will stop the execution.<br>\n",
    "* There are two types of Error occurs in python. <br>\n",
    "      1. Syntax errors\n",
    "      2. Logical errors (Exceptions)"
   ]
  },
  {
   "cell_type": "code",
   "execution_count": 17,
   "id": "45fccfc0-5e9a-4b44-a9c0-90d9add19648",
   "metadata": {},
   "outputs": [
    {
     "ename": "ZeroDivisionError",
     "evalue": "division by zero",
     "output_type": "error",
     "traceback": [
      "\u001b[0;31m---------------------------------------------------------------------------\u001b[0m",
      "\u001b[0;31mZeroDivisionError\u001b[0m                         Traceback (most recent call last)",
      "Cell \u001b[0;32mIn[17], line 4\u001b[0m\n\u001b[1;32m      1\u001b[0m a \u001b[38;5;241m=\u001b[39m \u001b[38;5;241m1\u001b[39m\n\u001b[1;32m      2\u001b[0m b \u001b[38;5;241m=\u001b[39m \u001b[38;5;241m0\u001b[39m\n\u001b[0;32m----> 4\u001b[0m c \u001b[38;5;241m=\u001b[39m \u001b[38;5;241;43m1\u001b[39;49m\u001b[38;5;241;43m/\u001b[39;49m\u001b[38;5;241;43m0\u001b[39;49m \u001b[38;5;66;03m# as 1/0 is undefined \u001b[39;00m\n\u001b[1;32m      6\u001b[0m \u001b[38;5;28mprint\u001b[39m(c)\n",
      "\u001b[0;31mZeroDivisionError\u001b[0m: division by zero"
     ]
    }
   ],
   "source": [
    "a = 1\n",
    "b = 0\n",
    "\n",
    "c = 1/0 # as 1/0 is undefined \n",
    "\n",
    "print(c)"
   ]
  },
  {
   "cell_type": "markdown",
   "id": "144b15d1-6096-4056-8209-d7bd9b8e01ad",
   "metadata": {},
   "source": [
    "<h3><b>Syntax errors </b></h3><br>\n",
    "When the proper syntax of the language is not followed then a syntax error is thrown."
   ]
  },
  {
   "cell_type": "code",
   "execution_count": 79,
   "id": "d4d2abf1-588e-4dad-aa28-de1bb8cbc1b8",
   "metadata": {},
   "outputs": [
    {
     "ename": "TypeError",
     "evalue": "'>' not supported between instances of 'str' and 'int'",
     "output_type": "error",
     "traceback": [
      "\u001b[0;31m---------------------------------------------------------------------------\u001b[0m",
      "\u001b[0;31mTypeError\u001b[0m                                 Traceback (most recent call last)",
      "Cell \u001b[0;32mIn[79], line 7\u001b[0m\n\u001b[1;32m      4\u001b[0m number \u001b[38;5;241m=\u001b[39m \u001b[38;5;124m'\u001b[39m\u001b[38;5;124mt\u001b[39m\u001b[38;5;124m'\u001b[39m\n\u001b[1;32m      6\u001b[0m \u001b[38;5;66;03m# check that You are eligible to \u001b[39;00m\n\u001b[0;32m----> 7\u001b[0m \u001b[38;5;28;01mif\u001b[39;00m(\u001b[43mnumber\u001b[49m\u001b[38;5;241;43m>\u001b[39;49m\u001b[38;5;241;43m2999\u001b[39;49m):\n\u001b[1;32m      8\u001b[0m     \u001b[38;5;28mprint\u001b[39m(\u001b[38;5;124m\"\u001b[39m\u001b[38;5;124mYou are eligible to purchase\u001b[39m\u001b[38;5;124m\"\u001b[39m) \n",
      "\u001b[0;31mTypeError\u001b[0m: '>' not supported between instances of 'str' and 'int'"
     ]
    }
   ],
   "source": [
    "#program to show syntax error\n",
    "\n",
    "# initialize the amount variable \n",
    "number = 't'\n",
    "  \n",
    "# check that You are eligible to \n",
    "if(number>2999):\n",
    "    print(\"You are eligible to purchase\") "
   ]
  },
  {
   "cell_type": "markdown",
   "id": "dc8c5adf-8f7e-4571-b011-456c7ec222c4",
   "metadata": {},
   "source": [
    "<h3><b>logical errors(Exception) </b></h3><br>\n",
    "When in the runtime an error that occurs after passing the syntax test is called exception or logical type."
   ]
  },
  {
   "cell_type": "code",
   "execution_count": 81,
   "id": "a41f9ed7-952e-430c-8a08-4128263568fd",
   "metadata": {},
   "outputs": [
    {
     "ename": "ZeroDivisionError",
     "evalue": "division by zero",
     "output_type": "error",
     "traceback": [
      "\u001b[0;31m---------------------------------------------------------------------------\u001b[0m",
      "\u001b[0;31mZeroDivisionError\u001b[0m                         Traceback (most recent call last)",
      "Cell \u001b[0;32mIn[81], line 5\u001b[0m\n\u001b[1;32m      2\u001b[0m marks \u001b[38;5;241m=\u001b[39m \u001b[38;5;241m90\u001b[39m\n\u001b[1;32m      4\u001b[0m \u001b[38;5;66;03m# perform division with 0 \u001b[39;00m\n\u001b[0;32m----> 5\u001b[0m a \u001b[38;5;241m=\u001b[39m \u001b[43mmarks\u001b[49m\u001b[43m \u001b[49m\u001b[38;5;241;43m/\u001b[39;49m\u001b[43m \u001b[49m\u001b[38;5;241;43m0\u001b[39;49m\n\u001b[1;32m      6\u001b[0m \u001b[38;5;28mprint\u001b[39m(a) \n",
      "\u001b[0;31mZeroDivisionError\u001b[0m: division by zero"
     ]
    }
   ],
   "source": [
    "# initialize the amount variable \n",
    "marks = 90\n",
    "  \n",
    "# perform division with 0 \n",
    "a = marks / 0\n",
    "print(a) "
   ]
  },
  {
   "cell_type": "code",
   "execution_count": null,
   "id": "23ef61f0",
   "metadata": {},
   "outputs": [],
   "source": []
  },
  {
   "cell_type": "code",
   "execution_count": 82,
   "id": "849852cf",
   "metadata": {},
   "outputs": [
    {
     "ename": "IndexError",
     "evalue": "list index out of range",
     "output_type": "error",
     "traceback": [
      "\u001b[0;31m---------------------------------------------------------------------------\u001b[0m",
      "\u001b[0;31mIndexError\u001b[0m                                Traceback (most recent call last)",
      "Cell \u001b[0;32mIn[82], line 2\u001b[0m\n\u001b[1;32m      1\u001b[0m a \u001b[38;5;241m=\u001b[39m [\u001b[38;5;241m1\u001b[39m, \u001b[38;5;241m5\u001b[39m, \u001b[38;5;241m8\u001b[39m, \u001b[38;5;241m9\u001b[39m]\n\u001b[0;32m----> 2\u001b[0m \u001b[43ma\u001b[49m\u001b[43m[\u001b[49m\u001b[38;5;241;43m5\u001b[39;49m\u001b[43m]\u001b[49m\n",
      "\u001b[0;31mIndexError\u001b[0m: list index out of range"
     ]
    }
   ],
   "source": [
    "a = [1, 5, 8, 9]\n",
    "a[5]"
   ]
  },
  {
   "cell_type": "markdown",
   "id": "949bb76b-1905-4de2-88ad-72109808220f",
   "metadata": {},
   "source": [
    "<!DOCTYPE html>\n",
    "<html>\n",
    "<head>\n",
    "    <title>Two-Column Table</title>\n",
    "</head>\n",
    "<body>\n",
    "    <table border=\"1\">\n",
    "        <tr>\n",
    "            <th>Exception</th>\n",
    "            <th>Description</th>\n",
    "        </tr>\n",
    "        <tr>\n",
    "            <td>IndexError</td>\n",
    "            <td>When the wrong index of a list is retrieved.</td>\n",
    "        </tr>\n",
    "        <tr>\n",
    "            <td>AssertionError</td>\n",
    "            <td>It occurs when the assert statement fails</td>\n",
    "        </tr>\n",
    "        <tr>\n",
    "            <td>AttributeError</td>\n",
    "            <td>It occurs when an attribute assignment is failed.</td>\n",
    "        </tr>\n",
    "        <tr>\n",
    "            <td>ImportError\t</td>\n",
    "            <td>It occurs when an imported module is not found.</td>\n",
    "        </tr>\n",
    "        <tr>\n",
    "            <td>KeyError</td>\n",
    "            <td>It occurs when the key of the dictionary is not found.</td>\n",
    "        </tr>\n",
    "        <tr>\n",
    "            <td>NameError</td>\n",
    "            <td>It occurs when the variable is not defined.</td>\n",
    "        </tr>\n",
    "        <tr>\n",
    "            <td>MemoryError\t</td>\n",
    "            <td>It occurs when a program runs out of memory.</td>\n",
    "        </tr>\n",
    "        <tr>\n",
    "            <td>TypeError</td>\n",
    "            <td>It occurs when a function and operation are applied in an incorrect type.</td>\n",
    "        </tr>\n",
    "    </table>\n",
    "</body>\n",
    "</html>\n"
   ]
  },
  {
   "cell_type": "markdown",
   "id": "da30e4eb",
   "metadata": {},
   "source": [
    "## IndexError\n",
    "###  Occurs when you try to access an index that is out of the range of a list or similar data structure."
   ]
  },
  {
   "cell_type": "code",
   "execution_count": 21,
   "id": "526691b1",
   "metadata": {},
   "outputs": [
    {
     "ename": "IndexError",
     "evalue": "list index out of range",
     "output_type": "error",
     "traceback": [
      "\u001b[0;31m---------------------------------------------------------------------------\u001b[0m",
      "\u001b[0;31mIndexError\u001b[0m                                Traceback (most recent call last)",
      "Cell \u001b[0;32mIn[21], line 3\u001b[0m\n\u001b[1;32m      1\u001b[0m my_list \u001b[38;5;241m=\u001b[39m [\u001b[38;5;241m1\u001b[39m, \u001b[38;5;241m2\u001b[39m, \u001b[38;5;241m3\u001b[39m]\n\u001b[1;32m      2\u001b[0m \u001b[38;5;66;03m# Trying to access an index that doesn't exist\u001b[39;00m\n\u001b[0;32m----> 3\u001b[0m \u001b[38;5;28mprint\u001b[39m(\u001b[43mmy_list\u001b[49m\u001b[43m[\u001b[49m\u001b[38;5;241;43m5\u001b[39;49m\u001b[43m]\u001b[49m)  \u001b[38;5;66;03m# Raises IndexError: list index out of range\u001b[39;00m\n",
      "\u001b[0;31mIndexError\u001b[0m: list index out of range"
     ]
    }
   ],
   "source": [
    "my_list = [1, 2, 3]\n",
    "# Trying to access an index that doesn't exist\n",
    "print(my_list[5])  # Raises IndexError: list index out of range\n"
   ]
  },
  {
   "cell_type": "markdown",
   "id": "52037659",
   "metadata": {},
   "source": [
    "## AssetionError\n",
    "### Description: Raised when an assert statement fails, meaning the condition in the assert is False."
   ]
  },
  {
   "cell_type": "code",
   "execution_count": 25,
   "id": "76eb5a78",
   "metadata": {},
   "outputs": [
    {
     "ename": "AssertionError",
     "evalue": "x is not equal to 10",
     "output_type": "error",
     "traceback": [
      "\u001b[0;31m---------------------------------------------------------------------------\u001b[0m",
      "\u001b[0;31mAssertionError\u001b[0m                            Traceback (most recent call last)",
      "Cell \u001b[0;32mIn[25], line 2\u001b[0m\n\u001b[1;32m      1\u001b[0m x \u001b[38;5;241m=\u001b[39m \u001b[38;5;241m5\u001b[39m\n\u001b[0;32m----> 2\u001b[0m \u001b[38;5;28;01massert\u001b[39;00m x \u001b[38;5;241m==\u001b[39m \u001b[38;5;241m10\u001b[39m, \u001b[38;5;124m\"\u001b[39m\u001b[38;5;124mx is not equal to 10\u001b[39m\u001b[38;5;124m\"\u001b[39m  \u001b[38;5;66;03m# Raises AssertionError: x is not equal to 10\u001b[39;00m\n",
      "\u001b[0;31mAssertionError\u001b[0m: x is not equal to 10"
     ]
    }
   ],
   "source": [
    "x = 5\n",
    "assert x == 10, \"x is not equal to 10\"  # Raises AssertionError: x is not equal to 10"
   ]
  },
  {
   "cell_type": "markdown",
   "id": "dd18f755",
   "metadata": {},
   "source": [
    "## AttributeError\n",
    "### Description: Occurs when you try to access or assign an attribute that doesn't exist for an object."
   ]
  },
  {
   "cell_type": "code",
   "execution_count": 85,
   "id": "df2a92e0",
   "metadata": {},
   "outputs": [
    {
     "ename": "AttributeError",
     "evalue": "'list' object has no attribute 'pushing'",
     "output_type": "error",
     "traceback": [
      "\u001b[0;31m---------------------------------------------------------------------------\u001b[0m",
      "\u001b[0;31mAttributeError\u001b[0m                            Traceback (most recent call last)",
      "Cell \u001b[0;32mIn[85], line 3\u001b[0m\n\u001b[1;32m      1\u001b[0m my_list \u001b[38;5;241m=\u001b[39m [\u001b[38;5;241m1\u001b[39m, \u001b[38;5;241m2\u001b[39m, \u001b[38;5;241m3\u001b[39m, \u001b[38;5;241m4\u001b[39m]\n\u001b[1;32m      2\u001b[0m \u001b[38;5;66;03m# Attempting to use a non-existent method for a list\u001b[39;00m\n\u001b[0;32m----> 3\u001b[0m \u001b[43mmy_list\u001b[49m\u001b[38;5;241;43m.\u001b[39;49m\u001b[43mpushing\u001b[49m(\u001b[38;5;241m5\u001b[39m)  \u001b[38;5;66;03m# Raises AttributeError: 'list' object has no attribute 'push'\u001b[39;00m\n",
      "\u001b[0;31mAttributeError\u001b[0m: 'list' object has no attribute 'pushing'"
     ]
    }
   ],
   "source": [
    "my_list = [1, 2, 3, 4]\n",
    "# Attempting to use a non-existent method for a list\n",
    "my_list.pushing(5)  # Raises AttributeError: 'list' object has no attribute 'push'\n"
   ]
  },
  {
   "cell_type": "markdown",
   "id": "e0503b11",
   "metadata": {},
   "source": [
    "## ImportError\n",
    "### Description: Raised when an imported module or a specific object from a module cannot be found."
   ]
  },
  {
   "cell_type": "code",
   "execution_count": 89,
   "id": "ab7d607f",
   "metadata": {},
   "outputs": [
    {
     "ename": "ModuleNotFoundError",
     "evalue": "No module named 'non_existent_module'",
     "output_type": "error",
     "traceback": [
      "\u001b[0;31m---------------------------------------------------------------------------\u001b[0m",
      "\u001b[0;31mModuleNotFoundError\u001b[0m                       Traceback (most recent call last)",
      "Cell \u001b[0;32mIn[89], line 1\u001b[0m\n\u001b[0;32m----> 1\u001b[0m \u001b[38;5;28;01mimport\u001b[39;00m \u001b[38;5;21;01mnon_existent_module\u001b[39;00m  \u001b[38;5;66;03m# Raises ImportError: No module named 'non_existent_module'\u001b[39;00m\n",
      "\u001b[0;31mModuleNotFoundError\u001b[0m: No module named 'non_existent_module'"
     ]
    }
   ],
   "source": [
    "import non_existent_module  # Raises ImportError: No module named 'non_existent_module'\n"
   ]
  },
  {
   "cell_type": "markdown",
   "id": "7dfaf7f7",
   "metadata": {},
   "source": [
    "## KeyError\n",
    "### Description: Raised when a dictionary key is accessed but does not exist in the dictionary."
   ]
  },
  {
   "cell_type": "code",
   "execution_count": 90,
   "id": "c663cda5-0403-4f16-85e2-831226773ca8",
   "metadata": {},
   "outputs": [
    {
     "ename": "KeyError",
     "evalue": "'gender'",
     "output_type": "error",
     "traceback": [
      "\u001b[0;31m---------------------------------------------------------------------------\u001b[0m",
      "\u001b[0;31mKeyError\u001b[0m                                  Traceback (most recent call last)",
      "Cell \u001b[0;32mIn[90], line 3\u001b[0m\n\u001b[1;32m      1\u001b[0m my_dict \u001b[38;5;241m=\u001b[39m {\u001b[38;5;124m'\u001b[39m\u001b[38;5;124mname\u001b[39m\u001b[38;5;124m'\u001b[39m: \u001b[38;5;124m'\u001b[39m\u001b[38;5;124mAlice\u001b[39m\u001b[38;5;124m'\u001b[39m, \u001b[38;5;124m'\u001b[39m\u001b[38;5;124mage\u001b[39m\u001b[38;5;124m'\u001b[39m: \u001b[38;5;241m25\u001b[39m}\n\u001b[1;32m      2\u001b[0m \u001b[38;5;66;03m# Trying to access a non-existing key\u001b[39;00m\n\u001b[0;32m----> 3\u001b[0m \u001b[38;5;28mprint\u001b[39m(\u001b[43mmy_dict\u001b[49m\u001b[43m[\u001b[49m\u001b[38;5;124;43m'\u001b[39;49m\u001b[38;5;124;43mgender\u001b[39;49m\u001b[38;5;124;43m'\u001b[39;49m\u001b[43m]\u001b[49m)  \u001b[38;5;66;03m# Raises KeyError: 'gender'\u001b[39;00m\n",
      "\u001b[0;31mKeyError\u001b[0m: 'gender'"
     ]
    }
   ],
   "source": [
    "my_dict = {'name': 'Alice', 'age': 25}\n",
    "# Trying to access a non-existing key\n",
    "print(my_dict['gender'])  # Raises KeyError: 'gender'"
   ]
  },
  {
   "cell_type": "markdown",
   "id": "551fa8ee",
   "metadata": {},
   "source": [
    "## NameError\n",
    "### Description: Occurs when you try to use a variable or function name that has not been defined."
   ]
  },
  {
   "cell_type": "code",
   "execution_count": 91,
   "id": "030f4f5a",
   "metadata": {},
   "outputs": [
    {
     "ename": "NameError",
     "evalue": "name 'undeclared_variable' is not defined",
     "output_type": "error",
     "traceback": [
      "\u001b[0;31m---------------------------------------------------------------------------\u001b[0m",
      "\u001b[0;31mNameError\u001b[0m                                 Traceback (most recent call last)",
      "Cell \u001b[0;32mIn[91], line 2\u001b[0m\n\u001b[1;32m      1\u001b[0m \u001b[38;5;66;03m# Trying to use a variable that is not defined\u001b[39;00m\n\u001b[0;32m----> 2\u001b[0m \u001b[38;5;28mprint\u001b[39m(\u001b[43mundeclared_variable\u001b[49m)  \u001b[38;5;66;03m# Raises NameError: name 'undeclared_variable' is not defined\u001b[39;00m\n",
      "\u001b[0;31mNameError\u001b[0m: name 'undeclared_variable' is not defined"
     ]
    }
   ],
   "source": [
    "# Trying to use a variable that is not defined\n",
    "print(undeclared_variable)  # Raises NameError: name 'undeclared_variable' is not defined"
   ]
  },
  {
   "cell_type": "markdown",
   "id": "3843ac0d",
   "metadata": {},
   "source": [
    "## MemoryError\n",
    "### Description: Occurs when a program runs out of memory, often due to creating an excessively large data structure.\n"
   ]
  },
  {
   "cell_type": "code",
   "execution_count": null,
   "id": "c3038102",
   "metadata": {},
   "outputs": [
    {
     "ename": "MemoryError",
     "evalue": "",
     "output_type": "error",
     "traceback": [
      "\u001b[0;31m---------------------------------------------------------------------------\u001b[0m",
      "\u001b[0;31mMemoryError\u001b[0m                               Traceback (most recent call last)",
      "Cell \u001b[0;32mIn[35], line 3\u001b[0m\n\u001b[1;32m      1\u001b[0m \u001b[38;5;66;03m# Creating a very large object to simulate running out of memory\u001b[39;00m\n\u001b[1;32m      2\u001b[0m \u001b[38;5;66;03m# Warning: This may crash your system if executed!\u001b[39;00m\n\u001b[0;32m----> 3\u001b[0m a \u001b[38;5;241m=\u001b[39m \u001b[43m[\u001b[49m\u001b[38;5;241;43m1\u001b[39;49m\u001b[43m]\u001b[49m\u001b[43m \u001b[49m\u001b[38;5;241;43m*\u001b[39;49m\u001b[43m \u001b[49m\u001b[43m(\u001b[49m\u001b[38;5;241;43m10\u001b[39;49m\u001b[38;5;241;43m*\u001b[39;49m\u001b[38;5;241;43m*\u001b[39;49m\u001b[38;5;241;43m10\u001b[39;49m\u001b[43m)\u001b[49m  \u001b[38;5;66;03m# Raises MemoryError if the system runs out of memory\u001b[39;00m\n",
      "\u001b[0;31mMemoryError\u001b[0m: "
     ]
    }
   ],
   "source": [
    "# Creating a very large object to simulate running out of memory\n",
    "# Warning: This may crash your system if executed!\n",
    "a = [1] * (10**10)  # Raises MemoryError if the system runs out of memory"
   ]
  },
  {
   "cell_type": "markdown",
   "id": "8dc1adb8",
   "metadata": {},
   "source": [
    "## TypeError\n",
    "### Description: Raised when an operation or function is applied to an object of an inappropriate type."
   ]
  },
  {
   "cell_type": "code",
   "execution_count": 93,
   "id": "5683334a",
   "metadata": {},
   "outputs": [
    {
     "ename": "TypeError",
     "evalue": "unsupported operand type(s) for +: 'int' and 'str'",
     "output_type": "error",
     "traceback": [
      "\u001b[0;31m---------------------------------------------------------------------------\u001b[0m",
      "\u001b[0;31mTypeError\u001b[0m                                 Traceback (most recent call last)",
      "Cell \u001b[0;32mIn[93], line 2\u001b[0m\n\u001b[1;32m      1\u001b[0m \u001b[38;5;66;03m# Trying to add an integer and a string\u001b[39;00m\n\u001b[0;32m----> 2\u001b[0m result \u001b[38;5;241m=\u001b[39m \u001b[38;5;241;43m5\u001b[39;49m\u001b[43m \u001b[49m\u001b[38;5;241;43m+\u001b[39;49m\u001b[43m \u001b[49m\u001b[38;5;124;43m\"\u001b[39;49m\u001b[38;5;124;43mhello\u001b[39;49m\u001b[38;5;124;43m\"\u001b[39;49m  \u001b[38;5;66;03m# Raises TypeError: unsupported operand type(s) for +: 'int' and 'str'\u001b[39;00m\n",
      "\u001b[0;31mTypeError\u001b[0m: unsupported operand type(s) for +: 'int' and 'str'"
     ]
    }
   ],
   "source": [
    "# Trying to add an integer and a string\n",
    "result = 5 + \"hello\"  # Raises TypeError: unsupported operand type(s) for +: 'int' and 'str'"
   ]
  },
  {
   "cell_type": "code",
   "execution_count": null,
   "id": "35866340",
   "metadata": {},
   "outputs": [],
   "source": []
  },
  {
   "cell_type": "code",
   "execution_count": null,
   "id": "df384f89",
   "metadata": {},
   "outputs": [],
   "source": []
  },
  {
   "cell_type": "markdown",
   "id": "1525dbbb-f2ef-4c4e-bbdb-e1155dcc425d",
   "metadata": {},
   "source": [
    "<h2>Error Handling with Try Catch</h2> <br>\n",
    "\n",
    "* Handling Exceptions with <b>Try/Except/Finally</b>\n",
    "* The <b>try</b> block lets you test a block of code for errors.\n",
    "\n",
    "* The <b>except</b> block lets you handle the error.\n",
    "\n",
    "* The <b>else</b> block lets you execute code when there is no error.\n",
    "\n",
    "* The <b>finally</b> block lets you execute code, regardless of the result of the try- and except blocks."
   ]
  },
  {
   "cell_type": "markdown",
   "id": "46b00d1d-5147-4857-8458-88128f718c70",
   "metadata": {},
   "source": [
    "<b>Try and Except Statement</b>"
   ]
  },
  {
   "cell_type": "code",
   "execution_count": null,
   "id": "3709616e-0c0d-40a6-9aec-5cef00609cad",
   "metadata": {},
   "outputs": [
    {
     "name": "stdout",
     "output_type": "stream",
     "text": [
      "100\n",
      "It is not divisible\n"
     ]
    }
   ],
   "source": [
    "# initialize the amount variable \n",
    "# marks = 90\n",
    "  \n",
    "# perform division with 0 \n",
    "try:\n",
    "    marks = 100\n",
    "    print(marks)\n",
    "    a = marks / 0\n",
    "    print(a)\n",
    "except:\n",
    "    print(\"It is not divisible\")"
   ]
  },
  {
   "cell_type": "code",
   "execution_count": null,
   "id": "d037c93a",
   "metadata": {},
   "outputs": [],
   "source": []
  },
  {
   "cell_type": "markdown",
   "id": "b606ca46-6ed0-45f1-a7f4-fed19df1674c",
   "metadata": {},
   "source": [
    "<b>Try with Else Clause</b>"
   ]
  },
  {
   "cell_type": "code",
   "execution_count": null,
   "id": "f1042987-af5a-46a8-a4f1-f322ea820391",
   "metadata": {},
   "outputs": [
    {
     "name": "stdout",
     "output_type": "stream",
     "text": [
      "Yeah ! Your answer is : 1\n"
     ]
    }
   ],
   "source": [
    "# Python code to illustrate working of try()  \n",
    "def divide(x, y): \n",
    "    try: \n",
    "        # Floor Division : Gives only Fractional\n",
    "        # Part as Answer \n",
    "        result = x // y \n",
    "    except:\n",
    "        print(\"not divisible\") \n",
    "        # print(\"Sorry ! You are dividing by zero \") \n",
    "    else:\n",
    "        print(\"Yeah ! Your answer is :\", result) \n",
    "   \n",
    "# Look at parameters and note the working of Program \n",
    "divide(3, 3) \n",
    "# divide(3, 0)"
   ]
  },
  {
   "cell_type": "markdown",
   "id": "1038bf6e-b748-44bc-afe2-9b9ca9e53777",
   "metadata": {},
   "source": [
    "<b>Python finally Keyword</b>"
   ]
  },
  {
   "cell_type": "code",
   "execution_count": 11,
   "id": "2a59beae-93e0-45a3-ba09-3a83ba681f50",
   "metadata": {},
   "outputs": [
    {
     "name": "stdout",
     "output_type": "stream",
     "text": [
      "integer division or modulo by zero\n",
      "Sorry ! You are dividing by zero \n",
      "0\n",
      "This is always executed\n"
     ]
    }
   ],
   "source": [
    "# Python code to illustrate \n",
    "# working of try()  \n",
    "def divide(x, y): \n",
    "    try: \n",
    "        # Floor Division : Gives only Fractional \n",
    "        # Part as Answer \n",
    "        result = x // y \n",
    "    except ZeroDivisionError as e:\n",
    "        print(e) \n",
    "        print(\"Sorry ! You are dividing by zero \") \n",
    "        print(y//x)\n",
    "    else:\n",
    "        print(\"Yeah ! Your answer is :\", result) \n",
    "    finally:  \n",
    "        # this block is always executed   \n",
    "        # regardless of exception generation.  \n",
    "        print('This is always executed')   \n",
    " \n",
    "# Look at parameters and note the working of Program \n",
    "# divide(3, 2) \n",
    "divide(3, 0)"
   ]
  },
  {
   "cell_type": "code",
   "execution_count": null,
   "id": "7a71791b",
   "metadata": {},
   "outputs": [],
   "source": []
  }
 ],
 "metadata": {
  "kernelspec": {
   "display_name": "Python 3",
   "language": "python",
   "name": "python3"
  },
  "language_info": {
   "codemirror_mode": {
    "name": "ipython",
    "version": 3
   },
   "file_extension": ".py",
   "mimetype": "text/x-python",
   "name": "python",
   "nbconvert_exporter": "python",
   "pygments_lexer": "ipython3",
   "version": "3.10.12"
  }
 },
 "nbformat": 4,
 "nbformat_minor": 5
}
