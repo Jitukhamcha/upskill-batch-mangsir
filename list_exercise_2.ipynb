{
 "cells": [
  {
   "cell_type": "markdown",
   "metadata": {},
   "source": [
    "# Python Programming Assignment: List\n",
    "### Task 1: Given a list of numbers. write a program to turn every item of a list into its square.\n",
    "\n",
    "\n",
    "numbers = [1, 2, 3, 4, 5, 6, 7]\n"
   ]
  },
  {
   "cell_type": "code",
   "execution_count": 9,
   "id": "0988cef4",
   "metadata": {},
   "outputs": [
    {
     "name": "stdout",
     "output_type": "stream",
     "text": [
      "1\n",
      "4\n",
      "9\n",
      "16\n",
      "25\n",
      "36\n",
      "49\n"
     ]
    }
   ],
   "source": [
    "numbers = [1, 2, 3, 4, 5, 6, 7]\n",
    "for i in numbers:\n",
    "    print(i**2)\n",
    "      "
   ]
  },
  {
   "cell_type": "code",
   "execution_count": 11,
   "id": "3caa9d99",
   "metadata": {},
   "outputs": [
    {
     "name": "stdout",
     "output_type": "stream",
     "text": [
      "{1: 1, 2: 4, 3: 9, 4: 16, 5: 25, 6: 36, 7: 49}\n"
     ]
    }
   ],
   "source": [
    "numbers =[1,2,3,4,5,6,7]\n",
    "squares_dict={}\n",
    "for i in numbers:\n",
    "    squares_dict.update({i:i**2})\n",
    "print(squares_dict)"
   ]
  },
  {
   "cell_type": "markdown",
   "id": "85b7cc26",
   "metadata": {},
   "source": [
    "### Task 2: Add new item to list after a specified item\n",
    "\n",
    "Write a program to add item 7000 after 6000 in the following Python List\n",
    "\n",
    "list1 = [10, 20, 300, 400, 5000, 6000, 500, 30, 40]\n"
   ]
  },
  {
   "cell_type": "code",
   "execution_count": 14,
   "id": "9ae9e249",
   "metadata": {},
   "outputs": [
    {
     "name": "stdout",
     "output_type": "stream",
     "text": [
      "5\n",
      "[10, 20, 300, 400, 5000, 6000, 7000, 500, 30, 40]\n"
     ]
    }
   ],
   "source": [
    "list1 = [10, 20, 300, 400, 5000, 6000, 500, 30, 40]\n",
    "referance_value=6000\n",
    "value_to_insert=7000\n",
    "index=list1.index(referance_value)\n",
    "print(index)\n",
    "list1.insert(index+1,value_to_insert)\n",
    "print(list1)\n",
    "    "
   ]
  },
  {
   "cell_type": "markdown",
   "id": "f0832a71",
   "metadata": {},
   "source": [
    "### Task 3: Add new item to list after a specified item\n",
    "\n",
    "Write a program to add item 7000 after 6000 in the following Python List\n",
    "\n",
    "list1 = [10, 20, [300, 400, [5000, 6000], 500], 30, 40]\n"
   ]
  },
  {
   "cell_type": "code",
   "execution_count": 25,
   "id": "a5c51824",
   "metadata": {},
   "outputs": [
    {
     "data": {
      "text/plain": [
       "[10, 20, [300, 400, [5000, 6000, 7000], 500], 30, 40]"
      ]
     },
     "execution_count": 25,
     "metadata": {},
     "output_type": "execute_result"
    }
   ],
   "source": [
    "list1 = [10, 20, [300, 400, [5000, 6000], 500], 30, 40]\n",
    "list1[2][2].insert(2,7000)\n",
    "list1\n"
   ]
  },
  {
   "cell_type": "markdown",
   "id": "d082ef80",
   "metadata": {},
   "source": [
    "\n",
    "### Task 4: Replace list’s item with new value if found\n",
    "You have given a Python list. Write a program to find value 20 in the list, and if it is present, replace it with 200. Only update the first occurrence of an item.\n",
    "\n",
    "list_1 = [5, 10, 15, 20, 25, 50, 20]"
   ]
  },
  {
   "cell_type": "code",
   "execution_count": 2,
   "id": "cef4a4a8",
   "metadata": {},
   "outputs": [
    {
     "data": {
      "text/plain": [
       "[5, 10, 15, 25, 50, 20]"
      ]
     },
     "execution_count": 2,
     "metadata": {},
     "output_type": "execute_result"
    }
   ],
   "source": [
    "list_1 = [5, 10, 15, 20, 25, 50, 20]\n",
    "list_1.remove(20)\n",
    "list_1"
   ]
  },
  {
   "cell_type": "code",
   "execution_count": 4,
   "id": "52705ad3",
   "metadata": {},
   "outputs": [
    {
     "data": {
      "text/plain": [
       "[5, 10, 15, 25, 50, 20]"
      ]
     },
     "execution_count": 4,
     "metadata": {},
     "output_type": "execute_result"
    }
   ],
   "source": [
    "list_1 = [5, 10, 15, 20, 25, 50, 20]\n",
    "if 20 in list_1:\n",
    "    list_1.remove(20)\n",
    "list_1"
   ]
  },
  {
   "cell_type": "markdown",
   "id": "043f8657",
   "metadata": {},
   "source": [
    "### Task 5: Calculate sum of all numbers from 1 to a given number\n",
    "Write a Python program to accept a number from a user and calculate the sum of all numbers from 1 to a given number\n",
    "\n",
    "For example, if the user entered 10, the output should be 55 (1+2+3+4+5+6+7+8+9+10)\n"
   ]
  },
  {
   "cell_type": "code",
   "execution_count": 5,
   "id": "7dbf1921",
   "metadata": {},
   "outputs": [
    {
     "name": "stdout",
     "output_type": "stream",
     "text": [
      "i: 1\n",
      "sum: 1\n",
      "i: 2\n",
      "sum: 3\n",
      "i: 3\n",
      "sum: 6\n",
      "i: 4\n",
      "sum: 10\n",
      "i: 5\n",
      "sum: 15\n",
      "i: 6\n",
      "sum: 21\n",
      "i: 7\n",
      "sum: 28\n",
      "i: 8\n",
      "sum: 36\n",
      "i: 9\n",
      "sum: 45\n",
      "i: 10\n",
      "sum: 55\n",
      "55\n"
     ]
    }
   ],
   "source": [
    "n = 10\n",
    "sum = 0\n",
    "for i in range(1, n+1):\n",
    "    print(\"i:\", i)\n",
    "    sum = sum + i\n",
    "    print(\"sum:\",sum)\n",
    "print(sum)"
   ]
  },
  {
   "cell_type": "markdown",
   "id": "28d671ac",
   "metadata": {},
   "source": [
    "### Task 6: print positive numbers in a list\n",
    "Given a list of numbers, write a Python program to count positive and negative numbers in a List. \n",
    "\n",
    "list1 = [12, -7, 5, 64, -14]"
   ]
  },
  {
   "cell_type": "code",
   "execution_count": null,
   "id": "aa0e9333",
   "metadata": {},
   "outputs": [
    {
     "name": "stdout",
     "output_type": "stream",
     "text": [
      "12\n",
      "5\n",
      "64\n"
     ]
    }
   ],
   "source": [
    "list1 = [12, -7, 5, 64, -14]\n",
    "for x in list1:\n",
    "    if x>=0:\n",
    "        print(x)"
   ]
  },
  {
   "cell_type": "code",
   "execution_count": 9,
   "id": "5a081378",
   "metadata": {},
   "outputs": [
    {
     "name": "stdout",
     "output_type": "stream",
     "text": [
      "3 2\n"
     ]
    }
   ],
   "source": [
    "list1 = [12,-7,5,64,-14]\n",
    "counter_positive=0\n",
    "counter_negative=0\n",
    "for x in list1:\n",
    "    if x>=0:\n",
    "        counter_positive +=1\n",
    "    else:\n",
    "        counter_negative+=1\n",
    "print(counter_positive,counter_negative)"
   ]
  },
  {
   "cell_type": "markdown",
   "id": "703f2046",
   "metadata": {},
   "source": [
    "### Task 7: Get the Difference\n",
    "\n",
    "Write a program to find the range (difference between the largest and smallest element) of the list.\n",
    "\n",
    "lst = [5, 10, 15, 200, 25, 50, 20]\n",
    "\n",
    "Output: 195"
   ]
  },
  {
   "cell_type": "code",
   "execution_count": 12,
   "id": "bea2061e",
   "metadata": {},
   "outputs": [
    {
     "name": "stdout",
     "output_type": "stream",
     "text": [
      "195\n"
     ]
    }
   ],
   "source": [
    "lst = [5, 10, 15, 200, 25, 50, 20]\n",
    "a= sorted(lst)\n",
    "b= a[-1]-a[0]\n",
    "print(b)\n"
   ]
  },
  {
   "cell_type": "code",
   "execution_count": 1,
   "id": "e421aa5a",
   "metadata": {},
   "outputs": [
    {
     "name": "stdout",
     "output_type": "stream",
     "text": [
      "car\n",
      "bus\n",
      "bike\n",
      "1\n",
      "99\n"
     ]
    }
   ],
   "source": [
    "vehicle =(\"car\",\"bus\",\"bike\",\"1\",\"99\")\n",
    "i=0\n",
    "while i<len(vehicle):\n",
    "    print(vehicle[i])\n",
    "    i=i+1"
   ]
  },
  {
   "cell_type": "code",
   "execution_count": null,
   "id": "b71acc8a",
   "metadata": {},
   "outputs": [
    {
     "name": "stdout",
     "output_type": "stream",
     "text": [
      "<class 'dict'>\n",
      "dict_keys(['name', 'year'])\n",
      "dict_values(['matina', 2001])\n"
     ]
    }
   ],
   "source": [
    "student_2={\"name\":\"matina\",\"year\":2001}2\n",
    "print(type(student_2))\n",
    "print(student_2.keys())\n",
    "print(student_2.values())"
   ]
  },
  {
   "cell_type": "code",
   "execution_count": 5,
   "id": "e4eb9e9d",
   "metadata": {},
   "outputs": [
    {
     "name": "stdout",
     "output_type": "stream",
     "text": [
      "the answer is Flase\n"
     ]
    }
   ],
   "source": [
    "a = input(\"enter your favourite number\")\n",
    "b = input(\"enter your favourite number\")\n",
    "if a>=b:\n",
    "    print(\"the answer is True\")\n",
    "else:\n",
    "    print(\"the answer is Flase\")\n",
    "\n",
    "\n"
   ]
  },
  {
   "cell_type": "code",
   "execution_count": 8,
   "id": "bed05cba",
   "metadata": {},
   "outputs": [
    {
     "name": "stdout",
     "output_type": "stream",
     "text": [
      "4\n"
     ]
    }
   ],
   "source": [
    "a = input(\"enter your first name\")\n",
    "print(len(a))\n"
   ]
  },
  {
   "cell_type": "code",
   "execution_count": null,
   "id": "06c4556d",
   "metadata": {},
   "outputs": [],
   "source": []
  }
 ],
 "metadata": {
  "kernelspec": {
   "display_name": "Python 3",
   "language": "python",
   "name": "python3"
  },
  "language_info": {
   "codemirror_mode": {
    "name": "ipython",
    "version": 3
   },
   "file_extension": ".py",
   "mimetype": "text/x-python",
   "name": "python",
   "nbconvert_exporter": "python",
   "pygments_lexer": "ipython3",
   "version": "3.13.0"
  }
 },
 "nbformat": 4,
 "nbformat_minor": 5
}
