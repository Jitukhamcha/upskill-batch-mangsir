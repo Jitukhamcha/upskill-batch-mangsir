{
 "cells": [
  {
   "cell_type": "markdown",
   "id": "dafd710e",
   "metadata": {},
   "source": [
    "# Python Programming Assignment: List\n",
    "### Task 1: Get the length of each item in list\n",
    "animals = [\"Elephant\", \"Tiger\", \"Giraffe\", \"Kangaroo\", \"Dolphin\", \n",
    "           \"Panda\", \"Zebra\", \"Lion\", \"Penguin\", \"Cheetah\"]\n",
    "\n",
    "Output format:\n",
    "\n",
    "\"Elephant has length 8\"\n",
    "\n",
    "\"Tiger has length 5\"\n"
   ]
  },
  {
   "cell_type": "code",
   "execution_count": 17,
   "id": "8430ea8e",
   "metadata": {},
   "outputs": [
    {
     "name": "stdout",
     "output_type": "stream",
     "text": [
      "Elephant has length 8\n",
      "Tiger has length 5\n",
      "Giraffe has length 7\n",
      "Kangaroo has length 8\n",
      "Dolphin has length 7\n",
      "Panda has length 5\n",
      "Zebra has length 5\n",
      "Lion has length 4\n",
      "Penguin has length 7\n",
      "Cheetah has length 7\n"
     ]
    }
   ],
   "source": [
    "animals = [\"Elephant\", \"Tiger\", \"Giraffe\", \"Kangaroo\", \"Dolphin\",\"Panda\", \"Zebra\", \"Lion\", \"Penguin\", \"Cheetah\"]\n",
    "for i in animals:\n",
    "  print(f\"{i} has length {len(i)}\")\n"
   ]
  },
  {
   "cell_type": "markdown",
   "id": "85b7cc26",
   "metadata": {},
   "source": [
    "### Task 2: Separate list based on item length\n",
    "animals = [\"Elephant\", \"Tiger\", \"Giraffe\", \"Kangaroo\", \"Dolphin\", \n",
    "           \"Panda\", \"Zebra\", \"Lion\", \"Penguin\", \"Cheetah\"]\n",
    "\n",
    "Create two list a1 and a2, where a1 should store animals name with length <= 5 and a2 with length > 5"
   ]
  },
  {
   "cell_type": "code",
   "execution_count": 18,
   "id": "a5c51824",
   "metadata": {},
   "outputs": [
    {
     "name": "stdout",
     "output_type": "stream",
     "text": [
      "Elephant 8\n",
      "Tiger 5\n",
      "Giraffe 7\n",
      "Kangaroo 8\n",
      "Dolphin 7\n",
      "Panda 5\n",
      "Zebra 5\n",
      "Lion 4\n",
      "Penguin 7\n",
      "Cheetah 7\n",
      "['Tiger', 'Panda', 'Zebra', 'Lion']\n",
      "['Elephant', 'Giraffe', 'Kangaroo', 'Dolphin', 'Penguin', 'Cheetah']\n"
     ]
    }
   ],
   "source": [
    "a1=[]\n",
    "a2=[]\n",
    "animals = [\"Elephant\", \"Tiger\", \"Giraffe\", \"Kangaroo\", \"Dolphin\",\"Panda\", \"Zebra\", \"Lion\", \"Penguin\", \"Cheetah\"]\n",
    "for a in animals:\n",
    "    length = len(a)\n",
    "    print(a,length)\n",
    "    if length<=5:\n",
    "        a1.append(a)\n",
    "    else:\n",
    "        a2.append(a)\n",
    "print(a1)\n",
    "print(a2)\n",
    "\n",
    "\n"
   ]
  },
  {
   "cell_type": "markdown",
   "id": "3fdc8b60",
   "metadata": {},
   "source": [
    "\n",
    "### Task 3: Find common item between two list\n",
    "Write a program that print the common item between the given two list. Also handle for case sensitive case.\n",
    "\n",
    "animals_1 = [\"Elephant\", \"Tiger\", \"Giraffe\", \"Kangaroo\", \"Dolphin\", \n",
    "           \"Panda\", \"Zebra\", \"Lion\", \"Penguin\", \"Cheetah\"]\n",
    "           \n",
    "animals_2 = [\"Jackal\", \"tiger\",  \"LION\", \"Penguin\", \"Monkey\", \"Cheetah\"]"
   ]
  },
  {
   "cell_type": "code",
   "execution_count": 24,
   "id": "6113d301",
   "metadata": {},
   "outputs": [
    {
     "name": "stdout",
     "output_type": "stream",
     "text": [
      "tiger\n",
      "lion\n",
      "penguin\n",
      "cheetah\n"
     ]
    }
   ],
   "source": [
    "animals_1 = [\"Elephant\", \"Tiger\", \"Giraffe\", \"Kangaroo\", \"Dolphin\",\"Panda\", \"Zebra\", \"Lion\", \"Penguin\", \"Cheetah\"]\n",
    "animals_2 = [\"Jackal\", \"tiger\",  \"LION\", \"Penguin\", \"Monkey\", \"Cheetah\"]\n",
    "for x in animals_1:\n",
    "    x=x.lower()\n",
    "    for y in animals_2:\n",
    "        y=y.lower()\n",
    "        if x==y:\n",
    "            print(x)"
   ]
  },
  {
   "cell_type": "markdown",
   "id": "d082ef80",
   "metadata": {},
   "source": [
    "\n",
    "### Task 4: Item remvoal\n",
    "Write a program that removes the even number from the list \n",
    "\n",
    "list_1 = [4,2,52,81,816,66,238,386,23,33,11,78789]"
   ]
  },
  {
   "cell_type": "code",
   "execution_count": 32,
   "id": "b230ac76",
   "metadata": {},
   "outputs": [
    {
     "name": "stdout",
     "output_type": "stream",
     "text": [
      "[81, 23, 33, 11, 78789]\n"
     ]
    }
   ],
   "source": [
    "list_1 = [4,2,52,81,816,66,238,386,23,33,11,78789]\n",
    "list_2 =[]\n",
    "for i in list_1:\n",
    "    if i%2==0:\n",
    "        continue\n",
    "    list_2.append(i)\n",
    "print(list_2)\n"
   ]
  },
  {
   "cell_type": "markdown",
   "id": "043f8657",
   "metadata": {},
   "source": [
    "### Task 5: Swap values given the indexes \n",
    "Write a program to swap values in a given list\n",
    "\n",
    "animals_2 = [\"Jackal\", \"tiger\",  \"LION\", \"Penguin\", \"Monkey\", \"Cheetah\"]\n",
    "\n",
    "Tasks:\n",
    "\n",
    "a. Swap first and last item in animals_2\n",
    "\n",
    "b. Swap second and second last item\n"
   ]
  },
  {
   "cell_type": "code",
   "execution_count": 34,
   "id": "0d309b7f",
   "metadata": {},
   "outputs": [
    {
     "name": "stdout",
     "output_type": "stream",
     "text": [
      "['Cheetah', 'tiger', 'LION', 'Penguin', 'Monkey', 'Jackal']\n",
      "['Cheetah', 'Monkey', 'LION', 'Penguin', 'tiger', 'Jackal']\n"
     ]
    }
   ],
   "source": [
    "animals_2 = [\"Jackal\", \"tiger\",  \"LION\", \"Penguin\", \"Monkey\", \"Cheetah\"]\n",
    "animals_2[0],animals_2[-1]=animals_2[-1],animals_2[0]\n",
    "print(animals_2)\n",
    "animals_2[1],animals_2[-2]=animals_2[-2],animals_2[1]\n",
    "print(animals_2)\n"
   ]
  },
  {
   "cell_type": "markdown",
   "id": "28d671ac",
   "metadata": {},
   "source": [
    "### Task 6: Casing of item \n",
    "Write a program to create three list (ANIMALS, animals, Animals) from following list with the property as given in output list name \n",
    "\n",
    "animals_names = [\"Elephant\", \"tiger\", \"GirafFe\", \"KangarOO\", \"Dolphin\", \n",
    "           \"panda\", \"ZEBRA\", \"Lion\", \"penguin\", \"Cheetah\"]\n",
    "\n",
    "#### Hint:\n",
    "ANIMALS = this should have all item in capital casing\n",
    "\n",
    "animals = this should have all item in small casing\n",
    "\n",
    "Animals = this should have all item in title casing\n"
   ]
  },
  {
   "cell_type": "code",
   "execution_count": 35,
   "id": "41e5ee19",
   "metadata": {},
   "outputs": [
    {
     "name": "stdout",
     "output_type": "stream",
     "text": [
      "['ELEPHANT', 'TIGER', 'GIRAFFE', 'KANGAROO', 'DOLPHIN', 'PANDA', 'ZEBRA', 'LION', 'PENGUIN', 'CHEETAH']\n",
      "['elephant', 'tiger', 'giraffe', 'kangaroo', 'dolphin', 'panda', 'zebra', 'lion', 'penguin', 'cheetah']\n",
      "['Elephant', 'Tiger', 'Giraffe', 'Kangaroo', 'Dolphin', 'Panda', 'Zebra', 'Lion', 'Penguin', 'Cheetah']\n"
     ]
    }
   ],
   "source": [
    "animals_names = [\"Elephant\", \"tiger\", \"GirafFe\", \"KangarOO\", \"Dolphin\",\"panda\", \"ZEBRA\", \"Lion\", \"penguin\", \"Cheetah\"]\n",
    "ANIMALS=[]\n",
    "animals=[]\n",
    "Animals=[]\n",
    "for a in animals_names:\n",
    "    ANIMALS.append(a.upper())\n",
    "    animals.append(a.lower())\n",
    "    Animals.append(a.title())\n",
    "print(ANIMALS)\n",
    "print(animals)\n",
    "print(Animals)\n"
   ]
  },
  {
   "cell_type": "code",
   "execution_count": 15,
   "id": "a2081868",
   "metadata": {},
   "outputs": [
    {
     "name": "stdout",
     "output_type": "stream",
     "text": [
      "[12, 24, 36]\n",
      "[]\n",
      "[4, 8, 16, 20, 28, 32, 40]\n"
     ]
    }
   ],
   "source": [
    "x=4\n",
    "m=[]\n",
    "mt=[]\n",
    "o=[]\n",
    "for i in range(1,11):\n",
    "    a=x*i\n",
    "    if a%3==0:\n",
    "        m.append(a)\n",
    "    elif a %6==0:\n",
    "        mt.append(a)\n",
    "    else:\n",
    "        o.append(a)\n",
    "print(m)\n",
    "print(mt)\n",
    "print(o)\n",
    "\n",
    "\n",
    "      \n",
    "    \n",
    "\n"
   ]
  },
  {
   "cell_type": "code",
   "execution_count": 30,
   "id": "8edeaf8f",
   "metadata": {},
   "outputs": [
    {
     "name": "stdout",
     "output_type": "stream",
     "text": [
      "[2, 4, 5, 34, 45, 77, 88, 90]\n",
      "2 90\n"
     ]
    }
   ],
   "source": [
    "numbers=[2,4,5,77,34,45,88,90]\n",
    "a= sorted(numbers)\n",
    "print(a)\n",
    "print(a[0],a[-1])\n",
    "\n",
    "\n"
   ]
  },
  {
   "cell_type": "code",
   "execution_count": null,
   "id": "41fef554",
   "metadata": {},
   "outputs": [],
   "source": []
  },
  {
   "cell_type": "code",
   "execution_count": null,
   "id": "19202fc1",
   "metadata": {},
   "outputs": [],
   "source": []
  }
 ],
 "metadata": {
  "kernelspec": {
   "display_name": "Python 3",
   "language": "python",
   "name": "python3"
  },
  "language_info": {
   "codemirror_mode": {
    "name": "ipython",
    "version": 3
   },
   "file_extension": ".py",
   "mimetype": "text/x-python",
   "name": "python",
   "nbconvert_exporter": "python",
   "pygments_lexer": "ipython3",
   "version": "3.13.0"
  }
 },
 "nbformat": 4,
 "nbformat_minor": 5
}
