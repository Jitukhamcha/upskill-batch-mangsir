{
 "cells": [
  {
   "cell_type": "markdown",
   "metadata": {},
   "source": [
    "# Python Programming Assignment: List\n",
    "### Task 1: Get the length of each item in list\n",
    "animals = [\"Elephant\", \"Tiger\", \"Giraffe\", \"Kangaroo\", \"Dolphin\", \n",
    "           \"Panda\", \"Zebra\", \"Lion\", \"Penguin\", \"Cheetah\"]\n",
    "        \n",
    "\n",
    "Output format:\n",
    "\n",
    "\"Elephant has length 8\"\n",
    "\n",
    "\"Tiger has length 5\"\n"
   ]
  },
  {
   "cell_type": "code",
   "execution_count": 34,
   "id": "8430ea8e",
   "metadata": {},
   "outputs": [
    {
     "name": "stdout",
     "output_type": "stream",
     "text": [
      "elephant has length= 8\n",
      "tiger has length= 5\n",
      "giraffe has length= 7\n",
      "kangroo has length= 7\n",
      "dolphin has length= 7\n",
      "panda has length= 5\n",
      "zebra has length= 5\n",
      "lion has length= 4\n",
      "penguin has length= 7\n",
      "cheetah has length= 7\n"
     ]
    }
   ],
   "source": [
    "animals=[\"elephant\",\"tiger\",\"giraffe\",\"kangroo\",\"dolphin\",\"panda\",\"zebra\",\"lion\",\"penguin\",\"cheetah\"]\n",
    "for x in animals:\n",
    "    print(f\"{x} has length= {len(x)}\")"
   ]
  },
  {
   "cell_type": "markdown",
   "id": "85b7cc26",
   "metadata": {},
   "source": [
    "### Task 2: Separate list based on item length\n",
    "animals = [\"Elephant\", \"Tiger\", \"Giraffe\", \"Kangaroo\", \"Dolphin\", \n",
    "           \"Panda\", \"Zebra\", \"Lion\", \"Penguin\", \"Cheetah\"]\n",
    "\n",
    "Create two list a1 and a2, where a1 should store animals name with length <= 5 and a2 with length > 5"
   ]
  },
  {
   "cell_type": "code",
   "execution_count": 37,
   "id": "a5c51824",
   "metadata": {},
   "outputs": [
    {
     "name": "stdout",
     "output_type": "stream",
     "text": [
      "elephant 8\n",
      "tiger 5\n",
      "giraffe 7\n",
      "kangaroo 8\n",
      "dolphin 7\n",
      "panda 5\n",
      "zebra 5\n",
      "lion 4\n",
      "penguin 7\n",
      "cheetah 7\n",
      "['tiger', 'panda', 'zebra', 'lion']\n",
      "['elephant', 'giraffe', 'kangaroo', 'dolphin', 'penguin', 'cheetah']\n"
     ]
    }
   ],
   "source": [
    "animals = [\"elephant\", \"tiger\", \"giraffe\", \"kangaroo\", \"dolphin\", \"panda\", \"zebra\", \"lion\", \"penguin\", \"cheetah\"]\n",
    "a1=[]\n",
    "a2=[]\n",
    "for a in animals:\n",
    "    length=len(a)\n",
    "    print(a,length)\n",
    "    if length<=5:\n",
    "        a1.append(a)\n",
    "    else:\n",
    "        a2.append(a)\n",
    "print(a1)\n",
    "print(a2)\n",
    "\n",
    "\n",
    "\n",
    "\n",
    "\n",
    "\n",
    "        "
   ]
  },
  {
   "cell_type": "markdown",
   "id": "3fdc8b60",
   "metadata": {},
   "source": [
    "\n",
    "### Task 3: Find common item between two list\n",
    "Write a program that print the common item between the given two list. Also handle for case sensitive case.\n",
    "\n",
    "animals_1 = [\"Elephant\", \"Tiger\", \"Giraffe\", \"Kangaroo\", \"Dolphin\", \n",
    "           \"Panda\", \"Zebra\", \"Lion\", \"Penguin\", \"Cheetah\"]\n",
    "           \n",
    "animals_2 = [\"Jackal\", \"tiger\",  \"LION\", \"Penguin\", \"Monkey\", \"Cheetah\"]"
   ]
  },
  {
   "cell_type": "code",
   "execution_count": 50,
   "id": "6113d301",
   "metadata": {},
   "outputs": [
    {
     "name": "stdout",
     "output_type": "stream",
     "text": [
      "tiger\n",
      "lion\n",
      "penguin\n",
      "cheetah\n"
     ]
    }
   ],
   "source": [
    "animals_1 = [\"Elephant\", \"Tiger\", \"Giraffe\", \"Kangaroo\", \"Dolphin\", \n",
    "           \"Panda\", \"Zebra\", \"Lion\", \"Penguin\", \"Cheetah\"]\n",
    "           \n",
    "animals_2 = [\"Jackal\", \"tiger\",  \"LION\", \"Penguin\", \"Monkey\", \"Cheetah\"]\n",
    "for x in animals_1:\n",
    "    x=x.lower()\n",
    "    for y in animals_2:\n",
    "       y=y.lower()\n",
    "       if x==y:\n",
    "        print(x)\n",
    "\n",
    "           \n",
    "\n",
    "        \n",
    "\n"
   ]
  },
  {
   "cell_type": "markdown",
   "id": "d082ef80",
   "metadata": {},
   "source": [
    "\n",
    "### Task 4: Item remvoal\n",
    "Write a program that removes the even number from the list \n",
    "\n",
    "list_1 = [4,2,52,81,816,66,238,386,23,33,11,78789]"
   ]
  },
  {
   "cell_type": "code",
   "execution_count": 62,
   "id": "b230ac76",
   "metadata": {},
   "outputs": [
    {
     "name": "stdout",
     "output_type": "stream",
     "text": [
      "4\n",
      "52\n",
      "816\n",
      "238\n"
     ]
    }
   ],
   "source": [
    "list_1 = [4,2,52,81,816,66,238,386,23,33,11,78789]\n",
    "for i in list_1:\n",
    "    if i%2==0:\n",
    "        print(i)\n",
    "        list_1.remove(i)\n",
    "\n"
   ]
  },
  {
   "cell_type": "markdown",
   "id": "043f8657",
   "metadata": {},
   "source": [
    "### Task 5: Swap values given the indexes \n",
    "Write a program to swap values in a given list\n",
    "\n",
    "animals_2 = [\"Jackal\", \"tiger\",  \"LION\", \"Penguin\", \"Monkey\", \"Cheetah\"]\n",
    "\n",
    "Tasks:\n",
    "\n",
    "a. Swap first and last item in animals_2\n",
    "\n",
    "b. Swap second and second last item\n"
   ]
  },
  {
   "cell_type": "code",
   "execution_count": 69,
   "id": "0d309b7f",
   "metadata": {},
   "outputs": [
    {
     "name": "stdout",
     "output_type": "stream",
     "text": [
      "['Cheetah', 'tiger', 'LION', 'Penguin', 'Monkey', 'Jackal']\n",
      "['Cheetah', 'Monkey', 'LION', 'Penguin', 'tiger', 'Jackal']\n"
     ]
    }
   ],
   "source": [
    "animals_2 = [\"Jackal\", \"tiger\",  \"LION\", \"Penguin\", \"Monkey\", \"Cheetah\"]\n",
    "animals_2[0],animals_2[-1]=animals_2[-1],animals_2[0]\n",
    "print(animals_2)\n",
    "\n",
    "animals_2[1],animals_2[-2]=animals_2[-2],animals_2[1]\n",
    "print(animals_2)"
   ]
  },
  {
   "cell_type": "markdown",
   "id": "28d671ac",
   "metadata": {},
   "source": [
    "### Task 6: Casing of item \n",
    "Write a program to create three list (ANIMALS, animals, Animals) from following list with the property as given in output list name \n",
    "\n",
    "animals_names = [\"Elephant\", \"tiger\", \"GirafFe\", \"KangarOO\", \"Dolphin\", \n",
    "           \"panda\", \"ZEBRA\", \"Lion\", \"penguin\", \"Cheetah\"]\n",
    "\n",
    "#### Hint:\n",
    "ANIMALS = this should have all item in capital casing\n",
    "\n",
    "animals = this should have all item in small casing\n",
    "\n",
    "Animals = this should have all item in title casing\n"
   ]
  },
  {
   "cell_type": "code",
   "execution_count": null,
   "id": "41e5ee19",
   "metadata": {},
   "outputs": [
    {
     "name": "stdout",
     "output_type": "stream",
     "text": [
      "['ELEPHANT']\n",
      "['elephant']\n",
      "['Elephant']\n",
      "['ELEPHANT', 'TIGER']\n",
      "['elephant', 'tiger']\n",
      "['Elephant', 'Tiger']\n",
      "['ELEPHANT', 'TIGER', 'GIRAFFE']\n",
      "['elephant', 'tiger', 'giraffe']\n",
      "['Elephant', 'Tiger', 'Giraffe']\n",
      "['ELEPHANT', 'TIGER', 'GIRAFFE', 'KANGAROO']\n",
      "['elephant', 'tiger', 'giraffe', 'kangaroo']\n",
      "['Elephant', 'Tiger', 'Giraffe', 'Kangaroo']\n",
      "['ELEPHANT', 'TIGER', 'GIRAFFE', 'KANGAROO', 'DOLPHIN']\n",
      "['elephant', 'tiger', 'giraffe', 'kangaroo', 'dolphin']\n",
      "['Elephant', 'Tiger', 'Giraffe', 'Kangaroo', 'Dolphin']\n",
      "['ELEPHANT', 'TIGER', 'GIRAFFE', 'KANGAROO', 'DOLPHIN', 'PANDA']\n",
      "['elephant', 'tiger', 'giraffe', 'kangaroo', 'dolphin', 'panda']\n",
      "['Elephant', 'Tiger', 'Giraffe', 'Kangaroo', 'Dolphin', 'Panda']\n",
      "['ELEPHANT', 'TIGER', 'GIRAFFE', 'KANGAROO', 'DOLPHIN', 'PANDA', 'ZEBRA']\n",
      "['elephant', 'tiger', 'giraffe', 'kangaroo', 'dolphin', 'panda', 'zebra']\n",
      "['Elephant', 'Tiger', 'Giraffe', 'Kangaroo', 'Dolphin', 'Panda', 'Zebra']\n",
      "['ELEPHANT', 'TIGER', 'GIRAFFE', 'KANGAROO', 'DOLPHIN', 'PANDA', 'ZEBRA', 'LION']\n",
      "['elephant', 'tiger', 'giraffe', 'kangaroo', 'dolphin', 'panda', 'zebra', 'lion']\n",
      "['Elephant', 'Tiger', 'Giraffe', 'Kangaroo', 'Dolphin', 'Panda', 'Zebra', 'Lion']\n",
      "['ELEPHANT', 'TIGER', 'GIRAFFE', 'KANGAROO', 'DOLPHIN', 'PANDA', 'ZEBRA', 'LION', 'PENGUIN']\n",
      "['elephant', 'tiger', 'giraffe', 'kangaroo', 'dolphin', 'panda', 'zebra', 'lion', 'penguin']\n",
      "['Elephant', 'Tiger', 'Giraffe', 'Kangaroo', 'Dolphin', 'Panda', 'Zebra', 'Lion', 'Penguin']\n",
      "['ELEPHANT', 'TIGER', 'GIRAFFE', 'KANGAROO', 'DOLPHIN', 'PANDA', 'ZEBRA', 'LION', 'PENGUIN', 'CHEETAH']\n",
      "['elephant', 'tiger', 'giraffe', 'kangaroo', 'dolphin', 'panda', 'zebra', 'lion', 'penguin', 'cheetah']\n",
      "['Elephant', 'Tiger', 'Giraffe', 'Kangaroo', 'Dolphin', 'Panda', 'Zebra', 'Lion', 'Penguin', 'Cheetah']\n"
     ]
    }
   ],
   "source": [
    "animals_names = [\"Elephant\", \"tiger\", \"GirafFe\", \"KangarOO\", \"Dolphin\", \n",
    "           \"panda\", \"ZEBRA\", \"Lion\", \"penguin\", \"Cheetah\"]\n",
    "ANIMALS=[]\n",
    "animals=[]\n",
    "Animals=[]\n",
    "for x in animals_names:\n",
    "    ANIMALS.append(x.upper())\n",
    "    animals.append(x.lower())\n",
    "    Animals.append(x.title())\n",
    "print(ANIMALS)\n",
    "print(animals)\n",
    "print(Animals)"
   ]
  },
  {
   "cell_type": "code",
   "execution_count": 51,
   "id": "6e18c2cf",
   "metadata": {},
   "outputs": [
    {
     "name": "stdout",
     "output_type": "stream",
     "text": [
      "[12, 24, 36]\n",
      "[]\n",
      "[4, 8, 16, 20, 28, 32, 40]\n"
     ]
    }
   ],
   "source": [
    "v_list=[]\n",
    "x_list=[]\n",
    "z_list=[]\n",
    "a=4\n",
    "for x in range(1,11):\n",
    "    c=x*a\n",
    "    if c%3==0:\n",
    "        v_list.append(c)\n",
    "    elif c%6==0:\n",
    "        x_list.append(c)\n",
    "    else:\n",
    "        z_list.append(c)\n",
    "print(v_list)\n",
    "print(x_list)\n",
    "print(z_list)\n",
    "\n",
    "    "
   ]
  },
  {
   "cell_type": "code",
   "execution_count": null,
   "id": "3b172c3a",
   "metadata": {},
   "outputs": [
    {
     "name": "stdout",
     "output_type": "stream",
     "text": [
      "4 4843\n"
     ]
    }
   ],
   "source": [
    "number=(4,46,37,374,37,4843,857,56,838)\n",
    "a=sorted(number)                                #case of sorted\n",
    "print(a[0],a[-1])\n"
   ]
  },
  {
   "cell_type": "code",
   "execution_count": null,
   "id": "85b62895",
   "metadata": {},
   "outputs": [],
   "source": []
  }
 ],
 "metadata": {
  "kernelspec": {
   "display_name": "Python 3",
   "language": "python",
   "name": "python3"
  },
  "language_info": {
   "codemirror_mode": {
    "name": "ipython",
    "version": 3
   },
   "file_extension": ".py",
   "mimetype": "text/x-python",
   "name": "python",
   "nbconvert_exporter": "python",
   "pygments_lexer": "ipython3",
   "version": "3.13.0"
  }
 },
 "nbformat": 4,
 "nbformat_minor": 5
}
