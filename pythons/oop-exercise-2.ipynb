{
 "cells": [
  {
   "cell_type": "markdown",
   "id": "ac8ab648",
   "metadata": {},
   "source": [
    "# Python exercise"
   ]
  },
  {
   "cell_type": "markdown",
   "id": "62b1aaf7",
   "metadata": {},
   "source": [
    "### Task 1: Create a function called Rectange which takes length and width and operation as a parameter. In opeation you can pass either 'area' or 'perimeter', based on the condition return the result as area or perimeter.\n",
    "\n",
    "def Rectange(length, width, operation):\n",
    "\n",
    "    # code here "
   ]
  },
  {
   "cell_type": "code",
   "execution_count": 5,
   "id": "0a56b969",
   "metadata": {},
   "outputs": [
    {
     "data": {
      "text/plain": [
       "'Perimeter of  rectangle is 10'"
      ]
     },
     "execution_count": 5,
     "metadata": {},
     "output_type": "execute_result"
    }
   ],
   "source": [
    "def calculator(length,width,operation):\n",
    "    if operation==\"area\":\n",
    "        Area=length*width\n",
    "        return f\" Area of  receangle is {Area}\"\n",
    "    elif operation==\"perimeter\":\n",
    "        Perimeter=2*(length+width)   \n",
    "        return f\"Perimeter of  rectangle is {Perimeter}\"\n",
    "calculator(2,3,input(\"enter the operation\"))"
   ]
  },
  {
   "cell_type": "markdown",
   "id": "bcdf841e",
   "metadata": {},
   "source": [
    "# Python Programming Assignment: OOP\n",
    "### Task 1: Write a Python program to create a calculator class. Include methods for basic arithmetic operations i.e addition, substraction, mulitplication, divison. Also handle exception case for division by zero.\n",
    "\n"
   ]
  },
  {
   "cell_type": "code",
   "execution_count": 31,
   "id": "d782a505",
   "metadata": {},
   "outputs": [
    {
     "name": "stdout",
     "output_type": "stream",
     "text": [
      " 4 divide by 5 is 0.8\n"
     ]
    }
   ],
   "source": [
    "class Calculator:\n",
    "    def __init__(self,num1,num2):\n",
    "        self.num1=num1\n",
    "        self.num2=num2\n",
    "    def Addition(self):\n",
    "        self.add=self.num1+self.num2\n",
    "        return f\" sum of {self.num1} and {self.num2} is {self.add}\"\n",
    "    def Substraction(self):\n",
    "        self.Sub=self.num1-self.num2\n",
    "        return f\" {self.num1} substract {self.num2} give {self.Sub}\"\n",
    "    def Multiplication(self):\n",
    "        self.multi=self.num1*self.num2\n",
    "        return f\"{self.num1} * {self.num2} is {self.multi}\"\n",
    "    def Division(self):\n",
    "        try:\n",
    "            a=self.num1/self.num2\n",
    "            return f\" {self.num1} divide by {self.num2} is {a}\"        \n",
    "        except:\n",
    "            print(\"can't divisible by zero\")\n",
    "cal=Calculator(int(input(\"Enter number 1\")),int(input(\"Enter number 2\")))\n",
    "a=cal.Addition()\n",
    "s=cal.Substraction()\n",
    "m=cal.Multiplication()\n",
    "d=cal.Division()\n",
    "option=int(input(\"1 for add, 2 for sub, 3 for multi 4 for div\"))\n",
    "if option==1:\n",
    "    print(a)\n",
    "elif option==2:\n",
    "    print(s)\n",
    "elif option==3:\n",
    "    print(m)\n",
    "elif option==4:\n",
    "    print(d)"
   ]
  },
  {
   "cell_type": "code",
   "execution_count": null,
   "id": "82f6d519",
   "metadata": {},
   "outputs": [],
   "source": []
  }
 ],
 "metadata": {
  "kernelspec": {
   "display_name": "Python 3",
   "language": "python",
   "name": "python3"
  },
  "language_info": {
   "codemirror_mode": {
    "name": "ipython",
    "version": 3
   },
   "file_extension": ".py",
   "mimetype": "text/x-python",
   "name": "python",
   "nbconvert_exporter": "python",
   "pygments_lexer": "ipython3",
   "version": "3.13.0"
  }
 },
 "nbformat": 4,
 "nbformat_minor": 5
}
