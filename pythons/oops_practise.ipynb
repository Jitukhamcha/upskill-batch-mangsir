{
 "cells": [
  {
   "cell_type": "code",
   "execution_count": null,
   "metadata": {},
   "outputs": [],
   "source": [
    "class Atm:\n",
    "    def __init__(self,amount=1000):\n",
    "        self.amount=amount\n",
    "    def Check(self):\n",
    "        return self.dep\n",
    "    def deposite(self,initial):\n",
    "        self.initial=initial\n",
    "        return self.initial\n",
    "    def total_after_depo(self):\n",
    "            self.dep=self.initial+self.amount\n",
    "            return self.dep\n",
    "    def withdraw(self,withdraw_amount):\n",
    "        self.withdraw_amount=withdraw_amount\n",
    "        return self.withdraw_amount\n",
    "    def total_after_withdraw(self):\n",
    "         self.overall=self.dep-self.withdraw_amount\n",
    "         return self.overall\n",
    "    def check2(self):\n",
    "         return self.overall\n",
    "\n",
    "d=Atm()\n",
    "f=d.deposite(int(input(\"enter the number\")))\n",
    "g=d.total_after_depo()\n",
    "print(f\"the deposite amount is :{f} , Total available amount is {g} \")\n",
    "b=d.Check()\n",
    "print(f\"total current amount is :{b}\" )\n",
    "k=d.withdraw(int(input(\"enter the number\")))\n",
    "l=d.total_after_withdraw()\n",
    "print(f\"the withdraw amount is  :{k} , remaining  amount is :{l}\")\n",
    "o=d.check2()\n",
    "print(f\"now remaining balance is  {o}\")\n"
   ]
  },
  {
   "cell_type": "code",
   "execution_count": null,
   "metadata": {},
   "outputs": [],
   "source": []
  }
 ],
 "metadata": {
  "kernelspec": {
   "display_name": "Python 3",
   "language": "python",
   "name": "python3"
  },
  "language_info": {
   "name": "python",
   "version": "3.13.0"
  }
 },
 "nbformat": 4,
 "nbformat_minor": 2
}
