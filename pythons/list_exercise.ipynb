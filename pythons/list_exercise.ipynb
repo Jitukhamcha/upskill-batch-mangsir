{
 "cells": [
  {
   "cell_type": "markdown",
   "metadata": {},
   "source": [
    "# Python Programming Assignment: List\n",
    "### Task 1: Get the length of each item in list\n",
    "animals = [\"Elephant\", \"Tiger\", \"Giraffe\", \"Kangaroo\", \"Dolphin\", \n",
    "           \"Panda\", \"Zebra\", \"Lion\", \"Penguin\", \"Cheetah\"]\n",
    "\n",
    "Output format:\n",
    "\n",
    "\"Elephant has length 8\"\n",
    "\n",
    "\"Tiger has length 5\"\n"
   ]
  },
  {
   "cell_type": "code",
   "execution_count": null,
   "id": "8430ea8e",
   "metadata": {},
   "outputs": [
    {
     "name": "stdout",
     "output_type": "stream",
     "text": [
      " Elephant has length 8\n",
      " Tiger has length 5\n",
      " Giraffe has length 7\n",
      " Kangaroo has length 8\n",
      " Dolphin has length 7\n",
      " Panda has length 5\n",
      " Zebra has length 5\n",
      " Lion has length 4\n",
      " Penguin has length 7\n",
      " Cheetah has length 7\n"
     ]
    }
   ],
   "source": [
    "animals = [\"Elephant\", \"Tiger\", \"Giraffe\", \"Kangaroo\", \"Dolphin\", \n",
    "           \"Panda\", \"Zebra\", \"Lion\", \"Penguin\", \"Cheetah\"]\n",
    "for i in animals:\n",
    "    print(f\" {i} has length\", len(i))"
   ]
  },
  {
   "cell_type": "markdown",
   "id": "85b7cc26",
   "metadata": {},
   "source": [
    "### Task 2: Separate list based on item length\n",
    "animals = [\"Elephant\", \"Tiger\", \"Giraffe\", \"Kangaroo\", \"Dolphin\", \n",
    "           \"Panda\", \"Zebra\", \"Lion\", \"Penguin\", \"Cheetah\"]\n",
    "\n",
    "Create two list a1 and a2, where a1 should store animals name with length <= 5 and a2 with length > 5"
   ]
  },
  {
   "cell_type": "code",
   "execution_count": 1,
   "id": "a5c51824",
   "metadata": {},
   "outputs": [
    {
     "name": "stdout",
     "output_type": "stream",
     "text": [
      "['Tiger', 'Panda', 'Zebra', 'Lion']\n",
      "['Elephant', 'Giraffe', 'Kangaroo', 'Dolphin', 'Penguin', 'Cheetah']\n"
     ]
    }
   ],
   "source": [
    "animals = [\"Elephant\", \"Tiger\", \"Giraffe\", \"Kangaroo\", \"Dolphin\", \n",
    "           \"Panda\", \"Zebra\", \"Lion\", \"Penguin\", \"Cheetah\"]\n",
    "a1=[]\n",
    "a2=[]\n",
    "for z in animals:\n",
    "    if len(z)<=5:\n",
    "        a1.append(z)\n",
    "    else:\n",
    "       a2.append(z)\n",
    "    \n",
    "print(a1)\n",
    "print(a2)\n"
   ]
  },
  {
   "cell_type": "markdown",
   "id": "3fdc8b60",
   "metadata": {},
   "source": [
    "\n",
    "### Task 3: Find common item between two list\n",
    "Write a program that print the common item between the given two list. Also handle for case sensitive case.\n",
    "\n",
    "animals_1 = [\"Elephant\", \"Tiger\", \"Giraffe\", \"Kangaroo\", \"Dolphin\", \n",
    "           \"Panda\", \"Zebra\", \"Lion\", \"Penguin\", \"Cheetah\"]\n",
    "           \n",
    "animals_2 = [\"Jackal\", \"tiger\",  \"LION\", \"Penguin\", \"Monkey\", \"Cheetah\"]"
   ]
  },
  {
   "cell_type": "code",
   "execution_count": null,
   "id": "6113d301",
   "metadata": {},
   "outputs": [
    {
     "name": "stdout",
     "output_type": "stream",
     "text": [
      "['Penguin', 'Cheetah']\n"
     ]
    }
   ],
   "source": [
    "animals_1 = [\"Elephant\", \"Tiger\", \"Giraffe\", \"Kangaroo\", \"Dolphin\", \n",
    "           \"Panda\", \"Zebra\", \"Lion\", \"Penguin\", \"Cheetah\"]\n",
    "           \n",
    "animals_2 = [\"Jackal\", \"tiger\",  \"LION\", \"Penguin\", \"Monkey\", \"Cheetah\"]\n",
    "all_Animal=[]\n",
    "for i in animals_1:    \n",
    "    for j in animals_2:\n",
    "        if i in j:\n",
    "            all_Animal.append(j)\n",
    "print(all_Animal)"
   ]
  },
  {
   "cell_type": "code",
   "execution_count": null,
   "id": "caf6598a",
   "metadata": {},
   "outputs": [],
   "source": []
  },
  {
   "cell_type": "markdown",
   "id": "d082ef80",
   "metadata": {},
   "source": [
    "\n",
    "### Task 4: Item remvoal\n",
    "Write a program that removes the even number from the list \n",
    "\n",
    "list_1 = [4,2,52,81,816,66,238,386,23,33,11,78789]"
   ]
  },
  {
   "cell_type": "code",
   "execution_count": null,
   "id": "b230ac76",
   "metadata": {},
   "outputs": [
    {
     "name": "stdout",
     "output_type": "stream",
     "text": [
      "[4, 2, 52, 816, 66, 238, 386]\n"
     ]
    }
   ],
   "source": [
    "list_1 = [4,2,52,81,816,66,238,386,23,33,11,78789]\n",
    "k=[]\n",
    "for z in list_1:\n",
    "  if z%2==0:\n",
    "     k.append(z)\n",
    "print(k)\n",
    "  \n",
    "  \n",
    "   \n",
    "    \n",
    "\n"
   ]
  },
  {
   "cell_type": "markdown",
   "id": "043f8657",
   "metadata": {},
   "source": [
    "### Task 5: Swap values given the indexes \n",
    "Write a program to swap values in a given list\n",
    "\n",
    "animals_2 = [\"Jackal\", \"tiger\",  \"LION\", \"Penguin\", \"Monkey\", \"Cheetah\"]\n",
    "\n",
    "Tasks:\n",
    "\n",
    "a. Swap first and last item in animals_2\n",
    "\n",
    "b. Swap second and second last item\n"
   ]
  },
  {
   "cell_type": "code",
   "execution_count": 2,
   "id": "0d309b7f",
   "metadata": {},
   "outputs": [
    {
     "name": "stdout",
     "output_type": "stream",
     "text": [
      "['Cheetah', 'tiger', 'LION', 'Penguin', 'Monkey', 'Jackal']\n",
      "['Cheetah', 'Monkey', 'LION', 'Penguin', 'tiger', 'Jackal']\n"
     ]
    }
   ],
   "source": [
    "animals_2 = [\"Jackal\", \"tiger\",  \"LION\", \"Penguin\", \"Monkey\", \"Cheetah\"]\n",
    "#swaping the ilements usinig the index, or variable a,b=b,a\n",
    "animals_2[0],animals_2[-1]=animals_2[-1],animals_2[0]\n",
    "print(animals_2)\n",
    "\n",
    "#second\n",
    "animals_2[1],animals_2[-2]=animals_2[-2],animals_2[1]\n",
    "print(animals_2)"
   ]
  },
  {
   "cell_type": "markdown",
   "id": "28d671ac",
   "metadata": {},
   "source": [
    "### Task 6: Casing of item \n",
    "Write a program to create three list (ANIMALS, animals, Animals) from following list with the property as given in output list name \n",
    "\n",
    "animals_names = [\"Elephant\", \"tiger\", \"GirafFe\", \"KangarOO\", \"Dolphin\", \n",
    "           \"panda\", \"ZEBRA\", \"Lion\", \"penguin\", \"Cheetah\"]\n",
    "\n",
    "#### Hint:\n",
    "ANIMALS = this should have all item in capital casing\n",
    "\n",
    "animals = this should have all item in small casing\n",
    "\n",
    "Animals = this should have all item in title casing\n"
   ]
  },
  {
   "cell_type": "code",
   "execution_count": 3,
   "id": "41e5ee19",
   "metadata": {},
   "outputs": [
    {
     "name": "stdout",
     "output_type": "stream",
     "text": [
      "\n",
      "\n",
      "['ZEBRA']\n",
      "['tiger', 'panda', 'penguin']\n",
      "['Elephant', 'Dolphin', 'Lion', 'Cheetah']\n"
     ]
    }
   ],
   "source": [
    "animals_names = [\"Elephant\", \"tiger\", \"GirafFe\", \"KangarOO\", \"Dolphin\", \"panda\", \"ZEBRA\", \"Lion\", \"penguin\", \"Cheetah\"]\n",
    "ANIMALS=[]\n",
    "animals=[]\n",
    "Animals=[]\n",
    "for m in  animals_names:\n",
    "    if m==m.upper():\n",
    "        ANIMALS.append(m)\n",
    "    elif m==m.lower():\n",
    "        animals.append(m)\n",
    "    elif m==m.title():\n",
    "        Animals.append(m)\n",
    "    else:\n",
    "        print()\n",
    "print(ANIMALS)\n",
    "print(animals)\n",
    "print(Animals)"
   ]
  },
  {
   "cell_type": "code",
   "execution_count": null,
   "id": "6e20299e",
   "metadata": {},
   "outputs": [
    {
     "name": "stdout",
     "output_type": "stream",
     "text": [
      "[2, 4, 6, 8, 10, 12, 14, 16, 18]\n",
      "[1, 3, 5, 7, 9, 11, 13, 15, 17, 19]\n",
      "0 is not  prime number\n",
      "1 is not  prime number\n",
      "2 is prime number\n",
      "3 is prime number\n",
      "4  is not prime number\n",
      "5 is prime number\n",
      "6  is not prime number\n",
      "7 is prime number\n",
      "8  is not prime number\n",
      "9  is not prime number\n",
      "10  is not prime number\n",
      "11 is prime number\n",
      "12  is not prime number\n",
      "13 is prime number\n",
      "14  is not prime number\n",
      "15  is not prime number\n",
      "16  is not prime number\n",
      "17 is prime number\n",
      "18  is not prime number\n"
     ]
    }
   ],
   "source": [
    "\n"
   ]
  },
  {
   "cell_type": "code",
   "execution_count": null,
   "id": "f6db67b3",
   "metadata": {},
   "outputs": [],
   "source": []
  },
  {
   "cell_type": "code",
   "execution_count": null,
   "id": "1f596a0c",
   "metadata": {},
   "outputs": [],
   "source": []
  }
 ],
 "metadata": {
  "kernelspec": {
   "display_name": "Python 3",
   "language": "python",
   "name": "python3"
  },
  "language_info": {
   "codemirror_mode": {
    "name": "ipython",
    "version": 3
   },
   "file_extension": ".py",
   "mimetype": "text/x-python",
   "name": "python",
   "nbconvert_exporter": "python",
   "pygments_lexer": "ipython3",
   "version": "3.13.0"
  }
 },
 "nbformat": 4,
 "nbformat_minor": 5
}
