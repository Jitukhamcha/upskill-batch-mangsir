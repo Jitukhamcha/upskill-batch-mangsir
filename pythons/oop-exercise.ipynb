{
 "cells": [
  {
   "cell_type": "markdown",
   "metadata": {},
   "source": [
    "# Python Programming Assignment: OOP\n",
    "### Task 1: Write a generic class program concept having three attributes and two methods assuming name of your choices "
   ]
  },
  {
   "cell_type": "code",
   "execution_count": 9,
   "id": "d782a505",
   "metadata": {},
   "outputs": [
    {
     "data": {
      "text/plain": [
       "'Apple  company  located at USA was established in 1998AD  manufacture phone had total assets value of 988$bn'"
      ]
     },
     "execution_count": 9,
     "metadata": {},
     "output_type": "execute_result"
    }
   ],
   "source": [
    "class Company:\n",
    "    def __init__(self,Name,Location,Manufacture):\n",
    "        self.Name=Name\n",
    "        self.Location=Location\n",
    "        self.Manufacture=Manufacture\n",
    "    def add_est_date(self,year):\n",
    "        self.details= self.Name+\"  company\"+\" \"+ \" located at \"+self.Location+ \" was established in \"+year+\"AD\"+\" \"+\" manufacture \"+self.Manufacture\n",
    "        return self.details\n",
    "    def add_company_Assets(self,worth):\n",
    "        self.detail=self.details+\" \"+\"had total assets value of \"+worth+\"$bn\"\n",
    "        return self.detail\n",
    "whole=Company(\"Apple\",\"USA\",\"phone\")\n",
    "whole.add_est_date(\"1998\")\n",
    "whole.add_company_Assets(\"988\")\n",
    "\n",
    "\n"
   ]
  },
  {
   "cell_type": "markdown",
   "id": "85b7cc26",
   "metadata": {},
   "source": [
    "### Task 2: Write a Python program to create a class representing a Rectangle. Include methods to calculate its area and perimeter."
   ]
  },
  {
   "cell_type": "code",
   "execution_count": 14,
   "id": "ecf4fd05",
   "metadata": {},
   "outputs": [
    {
     "data": {
      "text/plain": [
       "'perimeter of rectangle  is 10'"
      ]
     },
     "execution_count": 14,
     "metadata": {},
     "output_type": "execute_result"
    }
   ],
   "source": [
    "class Rectangle:\n",
    "    def __init__(self,length,breadth):\n",
    "        self.length=length\n",
    "        self.breadth=breadth\n",
    "    def area_rectangle(self):\n",
    "        self.area=self.length*self.breadth\n",
    "        return f\"area of rectangle is {self.area}\"\n",
    "    def perimeter_rectangle(self):\n",
    "        self.perimeter=2*(self.length+self.breadth)\n",
    "        return f\"perimeter of rectangle  is {self.perimeter}\"\n",
    "rectangle=Rectangle(2,3)\n",
    "rectangle.area_rectangle()\n",
    "rectangle.perimeter_rectangle()"
   ]
  },
  {
   "cell_type": "markdown",
   "id": "f0832a71",
   "metadata": {},
   "source": [
    "# Python Programming Assignment: File handling\n"
   ]
  },
  {
   "cell_type": "markdown",
   "id": "d082ef80",
   "metadata": {},
   "source": [
    "### Task 3: Write a Python program to create a person class. Include attributes like name, country and birth year. Implement a method to determine the person's age."
   ]
  },
  {
   "cell_type": "code",
   "execution_count": 20,
   "id": "9923c013",
   "metadata": {},
   "outputs": [
    {
     "data": {
      "text/plain": [
       "'Name: demon  Country: Nepal DOB: 1988 age: 36'"
      ]
     },
     "execution_count": 20,
     "metadata": {},
     "output_type": "execute_result"
    }
   ],
   "source": [
    "class Person:\n",
    "    def __init__(self,Name,country,birth_year):\n",
    "        self.Name=Name\n",
    "        self.country=country\n",
    "        self.birth_year=birth_year\n",
    "    def person_age(self,current_year=2024):\n",
    "        self.age=current_year-self.birth_year\n",
    "        return f\"Name: {self.Name}  Country: {self.country} DOB: {self.birth_year} age: {self.age}\"\n",
    "object1=Person(\"demon\",\"Nepal\",1988)\n",
    "object1.person_age()\n"
   ]
  },
  {
   "cell_type": "markdown",
   "id": "043f8657",
   "metadata": {},
   "source": [
    "### Task 4: Design a simple Python program to manage bank accounts using OOP principles. The program should allow users to create accounts, deposit money, withdraw money, and check the balance.\n",
    "\n"
   ]
  },
  {
   "cell_type": "code",
   "execution_count": 23,
   "id": "d11c86df",
   "metadata": {},
   "outputs": [
    {
     "name": "stdout",
     "output_type": "stream",
     "text": [
      "invalid user_name\n",
      "sorry login failed\n"
     ]
    }
   ],
   "source": [
    "class Atm:\n",
    "    def __init__(self):\n",
    "        self.stored={}\n",
    "        self.first = 100000\n",
    "    def Account_creation(self):\n",
    "        Username=input(\"Create user name\")\n",
    "        password=input(\"set password\")\n",
    "\n",
    "        self.stored[Username]=password\n",
    "        return \"The account is created sucessfully\"\n",
    "    \n",
    "    def login(self):\n",
    "        Username=input(\"enter user name\")\n",
    "        password=input(\"enter password\")\n",
    "\n",
    "        if Username in self.stored:\n",
    "            if password==self.stored[Username]:\n",
    "                print(\"login sucessfully\")\n",
    "                return True\n",
    "            else:\n",
    "                print(\"password wrong\")\n",
    "                return False\n",
    "        else:\n",
    "            print( \"invalid user_name\")\n",
    "            return False\n",
    "        \n",
    "    def fixed(self):\n",
    "        return self.first\n",
    "\n",
    "    def Check(self):\n",
    "        return self.first\n",
    "    \n",
    "    def deposite(self,initial):\n",
    "        self.initial=initial\n",
    "        return self.initial\n",
    "    \n",
    "    def total_after_depo(self):\n",
    "        self.dep=self.initial+self.first\n",
    "        return self.dep\n",
    "    \n",
    "    def withdraw(self,withdraw_amount):\n",
    "        self.withdraw_amount=withdraw_amount\n",
    "        return self.withdraw_amount\n",
    "    \n",
    "    def cash_withdraw(self):\n",
    "        if self.withdraw_amount<self.first:\n",
    "            self.withdraw_from_fixed=self.first-self.withdraw_amount\n",
    "            return self.withdraw_from_fixed\n",
    "        else:\n",
    "            print(\"limit exceed saving amount\",self.first)\n",
    "\n",
    "    def total_after_withdraw_af_deposite(self):\n",
    "        if self.withdraw_amount>self.first:\n",
    "            print(\"limit exceed saving amount\",self.first)\n",
    "        else:\n",
    "            self.overall=self.dep-self.withdraw_amount\n",
    "            return self.overall\n",
    "    def check2(self):\n",
    "        return self.overall\n",
    "user=Atm()\n",
    "user.Account_creation()\n",
    "if user.login():  \n",
    "    while True:\n",
    "            s=int(input(\"selelct option 1 check, 2 depo, 3 withd,4 dep and with\"))\n",
    "            if s==1:\n",
    "                b=user.Check()\n",
    "                print(f\"total current amount is :{b}\" )\n",
    "            elif s==2:\n",
    "                f=user.deposite(int(input(\"enter deposite cash\")))\n",
    "                g=user.total_after_depo()\n",
    "                print(f\"the deposite amount is :{f} , Total available amount is {g} \")\n",
    "            elif s==3:\n",
    "                money_withdraw=user.withdraw(int(input(\"draw amount\")))\n",
    "                WITHDRAW=user.cash_withdraw()\n",
    "                print(f\"withdraw amount is {money_withdraw} remaining {WITHDRAW}\")\n",
    "            elif s==4:\n",
    "                f=user.deposite(int(input(\"enter deposite amount\")))\n",
    "                g=user.total_after_depo()\n",
    "                print(f\"the deposite amount is :{f} , Total available amount is {g} \")\n",
    "                k=user.withdraw(int(input(\"enter withdraw amount\")))\n",
    "                l=user.total_after_withdraw_af_deposite()\n",
    "                print(f\"the withdraw amount is  :{k} , remaining  amount is :{l}\")\n",
    "                option=input(\"enter either yes or no\")\n",
    "                if option==\"yes\":\n",
    "                    o=user.check2()\n",
    "                    print(f\"now remaining balance is  {o}\")\n",
    "                else:\n",
    "                    print(\"end\")\n",
    "            else:\n",
    "                print(\"END\")\n",
    "                break\n",
    "    else:\n",
    "        print(\"Stop\")\n",
    "else:\n",
    "    print(\"sorry login failed\")"
   ]
  },
  {
   "cell_type": "code",
   "execution_count": null,
   "id": "3935c427",
   "metadata": {},
   "outputs": [],
   "source": []
  }
 ],
 "metadata": {
  "kernelspec": {
   "display_name": "Python 3",
   "language": "python",
   "name": "python3"
  },
  "language_info": {
   "codemirror_mode": {
    "name": "ipython",
    "version": 3
   },
   "file_extension": ".py",
   "mimetype": "text/x-python",
   "name": "python",
   "nbconvert_exporter": "python",
   "pygments_lexer": "ipython3",
   "version": "3.13.0"
  }
 },
 "nbformat": 4,
 "nbformat_minor": 5
}
