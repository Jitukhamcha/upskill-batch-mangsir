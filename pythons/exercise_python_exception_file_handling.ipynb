{
 "cells": [
  {
   "cell_type": "markdown",
   "metadata": {},
   "source": [
    "# Python Programming Assignment: Exceptional handling\n",
    "\n",
    "### Task 1: Write a function to take two numbers as input and perform division. Implement exception handling to catch a ZeroDivisionError and display a user-friendly message."
   ]
  },
  {
   "cell_type": "code",
   "execution_count": 2,
   "id": "d782a505",
   "metadata": {},
   "outputs": [
    {
     "name": "stdout",
     "output_type": "stream",
     "text": [
      "3 isn't divide by 0\n"
     ]
    }
   ],
   "source": [
    "num1=int(input(\"Enter the first number\"))\n",
    "def division(num1,num2=0):\n",
    "    try:\n",
    "        a=num1//num2\n",
    "        return a\n",
    "    except:\n",
    "        print(f\"{num1} isn't divide by {num2}\")\n",
    "division(num1)\n"
   ]
  },
  {
   "cell_type": "markdown",
   "id": "85b7cc26",
   "metadata": {},
   "source": [
    "### Task 2: Write a function to take two number and perform addition operation. Implement exception handling to catch a TypeError and display a user-friendly message. if both number are of same type, it should return their sum as result and incase of type mismatche it should handle exception.\n",
    "#### valid condition = int + int, float + int, string + string\n",
    "\n",
    "#### invalid condition = int + string, float + string\n"
   ]
  },
  {
   "cell_type": "code",
   "execution_count": 11,
   "id": "5ef6531a",
   "metadata": {},
   "outputs": [
    {
     "name": "stdout",
     "output_type": "stream",
     "text": [
      "differ in data Type cant add\n"
     ]
    }
   ],
   "source": [
    "def add(a,b):\n",
    "    try:\n",
    "        sum=a+b\n",
    "        return sum\n",
    "    except:\n",
    "        print(\"differ in data Type cant add\")\n",
    "add(3,'e')"
   ]
  },
  {
   "cell_type": "markdown",
   "id": "f0832a71",
   "metadata": {},
   "source": [
    "# Python Programming Assignment: File handling\n"
   ]
  },
  {
   "cell_type": "markdown",
   "id": "d082ef80",
   "metadata": {},
   "source": [
    "### Task 3: Write a Python program to create a file called test.txt, write some text into it, and then read the contents of the file and display it."
   ]
  },
  {
   "cell_type": "code",
   "execution_count": 7,
   "id": "9923c013",
   "metadata": {},
   "outputs": [
    {
     "name": "stdout",
     "output_type": "stream",
     "text": [
      "tiger lion tiger lion\n"
     ]
    }
   ],
   "source": [
    "\n",
    "# f=open(\"File.txt\",\"x\")\n",
    "file=open(\"File.txt\",mode=\"r\")\n",
    "print(file.read())\n",
    "\n"
   ]
  },
  {
   "cell_type": "markdown",
   "id": "043f8657",
   "metadata": {},
   "source": [
    "### Task 4: Create a program that opens a text file, reads its contents, and counts the number of words in the file."
   ]
  },
  {
   "cell_type": "code",
   "execution_count": 25,
   "id": "d11c86df",
   "metadata": {},
   "outputs": [
    {
     "name": "stdout",
     "output_type": "stream",
     "text": [
      " file has 4 words\n"
     ]
    }
   ],
   "source": [
    "with open(\"File.txt\",mode=\"r\") as test:\n",
    "    data=test.read()\n",
    "    k=data.split()\n",
    "    print(f\" file has {len(k)} words\")"
   ]
  },
  {
   "cell_type": "markdown",
   "id": "28d671ac",
   "metadata": {},
   "source": [
    "### Task 5: Write a program to open an existing file and append new content to it. Then, read and print the entire file to verify the changes."
   ]
  },
  {
   "cell_type": "code",
   "execution_count": 23,
   "id": "3935c427",
   "metadata": {},
   "outputs": [
    {
     "data": {
      "text/plain": [
       "'python java htmldotnetdotnetdotnetdotnet'"
      ]
     },
     "execution_count": 23,
     "metadata": {},
     "output_type": "execute_result"
    }
   ],
   "source": [
    "# file=open(\"test2.txt\",\"x\")\n",
    "# file=open(\"test2.txt\",mode=\"r\")\n",
    "# file.read()\n",
    "file=open(\"test2.txt\",mode=\"a\")\n",
    "file.write(\" dotnet\")\n",
    "open(\"test2.txt\",'a')\n",
    "\n",
    "open('test2.txt',mode='r').read()\n"
   ]
  },
  {
   "cell_type": "code",
   "execution_count": null,
   "id": "92617316",
   "metadata": {},
   "outputs": [],
   "source": []
  }
 ],
 "metadata": {
  "kernelspec": {
   "display_name": "Python 3",
   "language": "python",
   "name": "python3"
  },
  "language_info": {
   "codemirror_mode": {
    "name": "ipython",
    "version": 3
   },
   "file_extension": ".py",
   "mimetype": "text/x-python",
   "name": "python",
   "nbconvert_exporter": "python",
   "pygments_lexer": "ipython3",
   "version": "3.13.0"
  }
 },
 "nbformat": 4,
 "nbformat_minor": 5
}
