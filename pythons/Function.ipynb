{
 "cells": [
  {
   "cell_type": "code",
   "execution_count": 1,
   "metadata": {},
   "outputs": [
    {
     "data": {
      "text/plain": [
       "[11, 22, 33, 44, 55, 66, 77, 88, 99]"
      ]
     },
     "execution_count": 1,
     "metadata": {},
     "output_type": "execute_result"
    }
   ],
   "source": [
    "[d for d in range(1,100) if d%11==0 ]"
   ]
  },
  {
   "cell_type": "markdown",
   "metadata": {},
   "source": [
    "Function is block of code when execute when it is called, passing argument and paramenter\n",
    "\n",
    "def fuctionnamme(parameter1,par2):  called parameter while creating function\n",
    "    call(function_name)\n",
    "print(functionname(parameter1,par2))  called argument when value pass when function is called\n",
    "\n",
    "if not retur it show \n",
    "return ( result return  and block other it the function  satisfied)\n"
   ]
  },
  {
   "cell_type": "code",
   "execution_count": null,
   "metadata": {},
   "outputs": [],
   "source": [
    "\n",
    "def sum(a,b):\n",
    "    c=a+b\n",
    "    d=a*b\n",
    "    return c,d\n",
    "print(sum(1,2))\n",
    "\n",
    "\n",
    "# check odd even\n",
    "def Check_even(a):\n",
    "    #result=None\n",
    "    if a%2==0:\n",
    "        print(f\"{a} is even\")\n",
    "        return \"even\"\n",
    "    else:\n",
    "        print(f\"{a} is odd\")\n",
    "        return \"odd\"\n",
    "    #return result\n"
   ]
  },
  {
   "cell_type": "code",
   "execution_count": null,
   "metadata": {},
   "outputs": [],
   "source": [
    "#functioncasing\n",
    "a=\"demon rai\"\n",
    "def casing(d):\n",
    "    b=a.upper()\n",
    "    return b\n",
    "casing(a)\n",
    "\n",
    "a=input(\"Name\")\n",
    "def casing(d):\n",
    "    b=a.upper()\n",
    "    return b\n",
    "casing(a)\n"
   ]
  },
  {
   "cell_type": "code",
   "execution_count": null,
   "metadata": {},
   "outputs": [],
   "source": [
    "#seprate odd even\n",
    "mylist=[13,6,7,12,5,7,12,56,7,5]\n",
    "even=[]\n",
    "odd=[]\n",
    "def seggerate_number(list1):\n",
    "    for x in list1:\n",
    "        if x%2==0:\n",
    "            even.append(x)\n",
    "        else:\n",
    "            odd.append(x)\n",
    "    return odd,even\n",
    "l1,l2=seggerate_number(mylist)\n",
    "print(l1,l2)"
   ]
  },
  {
   "cell_type": "code",
   "execution_count": null,
   "metadata": {},
   "outputs": [],
   "source": [
    "def Check_even(a):\n",
    "    if a%2==0:\n",
    "        return True\n",
    "    else:\n",
    "        return False\n",
    "check=Check_even(13)\n",
    "print(check)\n",
    "if check==True:\n",
    "    print(\"f{check} it is even\")\n",
    "else:\n",
    "    print(f\"{check} it is odd\")\n"
   ]
  },
  {
   "cell_type": "code",
   "execution_count": null,
   "metadata": {},
   "outputs": [],
   "source": [
    "#check odd even\n",
    "c=int(input(\"enter the number\"))    \n",
    "def Check_even(a):\n",
    "    result=None\n",
    "    if a%2==0:\n",
    "        print(f\"{a} is even\")\n",
    "    else:\n",
    "        print(f\"{a} is odd\")\n",
    "    return result\n",
    "print(Check_even(9))"
   ]
  },
  {
   "cell_type": "code",
   "execution_count": null,
   "metadata": {},
   "outputs": [],
   "source": [
    "#casing as per deisre\n",
    "a=input(\"Name\")\n",
    "b=int(input(\"enter\"))\n",
    "def converting(a,b):\n",
    "    if b==0:\n",
    "       return a.upper()\n",
    "    elif b==1:\n",
    "         return a.lower() \n",
    "    elif b==2:\n",
    "      return a.title()\n",
    "converting(a,b)\n"
   ]
  },
  {
   "cell_type": "code",
   "execution_count": null,
   "metadata": {},
   "outputs": [
    {
     "name": "stdout",
     "output_type": "stream",
     "text": [
      "8 divide by 4 =  2.0\n"
     ]
    }
   ],
   "source": [
    "#create function to calculate +,-.*,/ of given number by chosing operator\n",
    "a=int(input(\"enter firdt number\"))\n",
    "b=int(input(\"Second  number\"))\n",
    "o=int(input(\"Select option\"))\n",
    "def Calculation(a,b,o):\n",
    "    Add=a+b\n",
    "    Sub=a-b\n",
    "    Multi=a*b\n",
    "    Div=a/b\n",
    "    if o==1:\n",
    "        return print(f\"{a} added {b} sum = \",Add)\n",
    "    elif o==2:\n",
    "        return print(f\"{a} substracted by {b} i= \",Sub)\n",
    "    elif o==3:\n",
    "        return print(f\"{a} times {b} = \",Multi)\n",
    "    elif o==4:\n",
    "        return print(f\"{a} divide by {b} = \",Div)\n",
    "Calculation(a,b,o)\n",
    "    "
   ]
  },
  {
   "cell_type": "markdown",
   "metadata": {},
   "source": [
    "1.Write a function with the first name and  last na,e, return fullname"
   ]
  },
  {
   "cell_type": "code",
   "execution_count": 9,
   "metadata": {},
   "outputs": [
    {
     "data": {
      "text/plain": [
       "'Demon Rai'"
      ]
     },
     "execution_count": 9,
     "metadata": {},
     "output_type": "execute_result"
    }
   ],
   "source": [
    "#1.\n",
    "First_name=input(\"Enter first name\")\n",
    "Last_name=input(\"Enter last namme\")\n",
    "def Full_name(First_name,Last_name):\n",
    "    l=First_name +\" \"+ Last_name\n",
    "    return l.title()\n",
    "Full_name(First_name,Last_name)"
   ]
  },
  {
   "cell_type": "markdown",
   "metadata": {},
   "source": [
    "dont know how many arguments will be passed into function used * before parameter\n",
    "def func(*parameter)"
   ]
  },
  {
   "cell_type": "code",
   "execution_count": 11,
   "metadata": {},
   "outputs": [
    {
     "data": {
      "text/plain": [
       "' Demon Bahadur Rai'"
      ]
     },
     "execution_count": 11,
     "metadata": {},
     "output_type": "execute_result"
    }
   ],
   "source": [
    "def name(*a):\n",
    "    result=''\n",
    "    for x in  a:\n",
    "        result=result+ \" \"+ x\n",
    "    return result.title()\n",
    "name(\"demon\",\"bahadur\",\"rai\")"
   ]
  },
  {
   "cell_type": "markdown",
   "metadata": {},
   "source": [
    "Default parameter\n",
    "Non default value in first"
   ]
  },
  {
   "cell_type": "code",
   "execution_count": null,
   "metadata": {},
   "outputs": [
    {
     "name": "stdout",
     "output_type": "stream",
     "text": [
      "5\n"
     ]
    }
   ],
   "source": [
    "#Default parameter\n",
    "def my(a=5,b=6):\n",
    "    add=a+b\n",
    "    return add\n",
    "my()\n",
    "print(my(1,4))  #overwrite the default values"
   ]
  },
  {
   "cell_type": "markdown",
   "metadata": {},
   "source": [
    "Pass statement  ()    parameter not decide used pass to avoid error\n",
    "pass"
   ]
  },
  {
   "cell_type": "code",
   "execution_count": null,
   "metadata": {},
   "outputs": [],
   "source": [
    "#write  th e function  to fund the largest items"
   ]
  },
  {
   "cell_type": "code",
   "execution_count": 27,
   "metadata": {},
   "outputs": [
    {
     "data": {
      "text/plain": [
       "24"
      ]
     },
     "execution_count": 27,
     "metadata": {},
     "output_type": "execute_result"
    }
   ],
   "source": [
    "x=[4,6,8,24,12,2]\n",
    "def larges(x):\n",
    "    d=sorted(x)\n",
    "    return d[-1]\n",
    "larges(x)\n"
   ]
  },
  {
   "cell_type": "markdown",
   "metadata": {},
   "source": [
    "lambda function\n",
    "\n",
    "map() to iterate single each item\n",
    "\n",
    "filter (conditional function)"
   ]
  },
  {
   "cell_type": "markdown",
   "metadata": {},
   "source": [
    "#recursion\n",
    "function call itself"
   ]
  },
  {
   "cell_type": "markdown",
   "metadata": {},
   "source": [
    "exception handling( error handling)\n",
    "\n",
    "syntax error \n",
    "logical (show in runtime)\n",
    "index error \n",
    "attribute error (access attribute that doesnt exist)\n",
    "importerror \n",
    "key error  )(dictionary)\n",
    "nameerror (undeclared pariable pull)\n",
    "memoryerror  (exceed memory)\n",
    "typeerror (inappopriate type)"
   ]
  },
  {
   "cell_type": "markdown",
   "metadata": {},
   "source": [
    "hamndling error\n",
    "Try Catch\n",
    "try (test a block of code for error)\n",
    "and except (then  what if error)\n",
    "    finally (let to execute code)\n",
    "\n",
    "    try\n",
    "          code of block\n",
    "    except \n",
    "            what then.\n",
    "            or add bock of code\n",
    "    finally\n",
    "\n",
    "else clause in trycatch\n",
    "if try pass the go to else\n",
    "    if try fail except the goes to finally"
   ]
  },
  {
   "cell_type": "code",
   "execution_count": null,
   "metadata": {},
   "outputs": [],
   "source": [
    "# write a function to print the sum of list\n",
    "for x in a"
   ]
  },
  {
   "cell_type": "code",
   "execution_count": 12,
   "metadata": {},
   "outputs": [
    {
     "name": "stdout",
     "output_type": "stream",
     "text": [
      "27\n"
     ]
    }
   ],
   "source": [
    "a=[2,6,9,10]\n",
    "def Sum(list):\n",
    "    sum=0\n",
    "    for x in list:\n",
    "        sum=sum+x\n",
    "    return sum\n",
    "Sum(a)\n",
    "\n",
    "Sum(a)\n",
    "sum=0;\n",
    "for x in a:\n",
    "    sum=sum+x\n",
    "print(sum)\n",
    "\n",
    "\n",
    "\n"
   ]
  },
  {
   "cell_type": "code",
   "execution_count": 9,
   "metadata": {},
   "outputs": [
    {
     "data": {
      "text/plain": [
       "1080"
      ]
     },
     "execution_count": 9,
     "metadata": {},
     "output_type": "execute_result"
    }
   ],
   "source": [
    "a=[2,6,9,10]\n",
    "def mult(number):\n",
    "    mul=1\n",
    "    for  x in number:\n",
    "        mul=mul*x\n",
    "    return mul\n",
    "mult(a)\n",
    "\n"
   ]
  },
  {
   "cell_type": "code",
   "execution_count": 60,
   "metadata": {},
   "outputs": [
    {
     "data": {
      "text/plain": [
       "{2: 4, 6: 36, 9: 81, 10: 100}"
      ]
     },
     "execution_count": 60,
     "metadata": {},
     "output_type": "execute_result"
    }
   ],
   "source": [
    "a=[2,6,9,10]\n",
    "def dictionary(List_1):\n",
    "    b={}\n",
    "    for x in List_1:\n",
    "        b[x]=x*x\n",
    "    return b\n",
    "dictionary(a)"
   ]
  },
  {
   "cell_type": "code",
   "execution_count": null,
   "metadata": {},
   "outputs": [],
   "source": []
  },
  {
   "cell_type": "code",
   "execution_count": null,
   "metadata": {},
   "outputs": [],
   "source": []
  }
 ],
 "metadata": {
  "kernelspec": {
   "display_name": "Python 3",
   "language": "python",
   "name": "python3"
  },
  "language_info": {
   "codemirror_mode": {
    "name": "ipython",
    "version": 3
   },
   "file_extension": ".py",
   "mimetype": "text/x-python",
   "name": "python",
   "nbconvert_exporter": "python",
   "pygments_lexer": "ipython3",
   "version": "3.13.0"
  }
 },
 "nbformat": 4,
 "nbformat_minor": 2
}
