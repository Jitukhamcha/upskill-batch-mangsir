{
 "cells": [
  {
   "cell_type": "code",
   "execution_count": 43,
   "metadata": {},
   "outputs": [
    {
     "name": "stdout",
     "output_type": "stream",
     "text": [
      "Enter UserName\n",
      "\n",
      "Welcome demon\n",
      "Enter PassWord\n",
      "Enter pin code\n",
      "\n",
      "Welcome to ATM machine\n",
      "For Check \t1\n",
      "For Deposite \t 2\n",
      "For Withdraw \t 3\n",
      "For Change Pin \t 4\n",
      "For Exist \t 5\n"
     ]
    },
    {
     "data": {
      "text/plain": [
       "('Withdraw', 3876, 'Remaining Amount is ', 9996123)"
      ]
     },
     "execution_count": 43,
     "metadata": {},
     "output_type": "execute_result"
    }
   ],
   "source": [
    "Name=input(\"Create User name\")\n",
    "Pass=input(\"Create password\")\n",
    "def ATM(Amount=9999999,Pin=9876):\n",
    "    print (\"Enter UserName\")\n",
    "    Usename=input(\"Enter user name\")\n",
    "    if Usename==Name:\n",
    "        print(\"\\nWelcome\",Usename)\n",
    "        print(\"Enter PassWord\")\n",
    "        Password=input(\"Enter Password\")\n",
    "        if Password==Pass:\n",
    "            print(\"Enter pin code\")\n",
    "            PIN=int(input(\"Enter the pin\"))\n",
    "            if PIN==Pin:\n",
    "                print(\"\\nWelcome to ATM machine\")\n",
    "                print(\"For Check \\t1\")\n",
    "                print(\"For Deposite \\t 2\")\n",
    "                print(\"For Withdraw \\t 3\")\n",
    "                print(\"For Change Pin \\t 4\")\n",
    "                print(\"For Exist \\t 5\")\n",
    "                Option=int(input(\"Select option\"))\n",
    "                if Option==1:\n",
    "                    Current_amount=Amount\n",
    "                    return \"Current Saving amount is\", Current_amount\n",
    "                elif Option==2:\n",
    "                    Amounts=int(input(\"enter the number\"))\n",
    "                    Deposite=Amounts\n",
    "                    Total_amount=Deposite+Amount\n",
    "                    return \"Deposited amount is \",Deposite,\"Total Current Saving amount is \",Total_amount\n",
    "                elif Option==3:\n",
    "                    Amounts=int(input(\"enter the number\"))\n",
    "                    if Amounts>Amount:\n",
    "                        print(\"Exceed the limit amount\",Amount)\n",
    "                    else:    \n",
    "                        withdraw=Amounts\n",
    "                        Withdraws=Amount-Amounts\n",
    "                        return \"Withdraw\",withdraw,\"Remaining Amount is \",Withdraws\n",
    "                elif Option==4:\n",
    "                    NewPin=input(\"enter new pin\")\n",
    "                    return NewPin,\"Is your new pin number\" \n",
    "                elif Option==5:   \n",
    "                    print(\"exist\\nThank you for using it\")\n",
    "            else:\n",
    "                print(\"Sorry Pin is incorrect \")\n",
    "        else:\n",
    "            print(\"Incorrect Password \\t Try again\")        \n",
    "    else:\n",
    "        print(\"Incorrect Username \\t Try again \")\n",
    "ATM()\n",
    "\n",
    "\n"
   ]
  },
  {
   "cell_type": "code",
   "execution_count": null,
   "metadata": {},
   "outputs": [],
   "source": []
  }
 ],
 "metadata": {
  "kernelspec": {
   "display_name": "Python 3",
   "language": "python",
   "name": "python3"
  },
  "language_info": {
   "codemirror_mode": {
    "name": "ipython",
    "version": 3
   },
   "file_extension": ".py",
   "mimetype": "text/x-python",
   "name": "python",
   "nbconvert_exporter": "python",
   "pygments_lexer": "ipython3",
   "version": "3.13.0"
  }
 },
 "nbformat": 4,
 "nbformat_minor": 2
}
