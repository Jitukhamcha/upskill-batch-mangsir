{
 "cells": [
  {
   "cell_type": "code",
   "execution_count": 17,
   "metadata": {},
   "outputs": [
    {
     "name": "stdout",
     "output_type": "stream",
     "text": [
      "Welcome To ATM Machine\n",
      "Incorrect PIN number\n"
     ]
    }
   ],
   "source": [
    "def ATM(Amount=1000000000,Pin=9876):\n",
    "     print (\"Welcome To ATM Machine\")\n",
    "     PIN=int(input(\"enter the pin\"))\n",
    "     if PIN==Pin:\n",
    "        print(\"For Check =1\")\n",
    "        print(\"For Deposite =2\")\n",
    "        print(\"For Withdraw = 3\")\n",
    "        print(\"For Change Pin =4\")\n",
    "        print(\"For Exist =5\")\n",
    "        Option=int(input(\"Select option\"))\n",
    "        if Option==1:\n",
    "               Current_amount=Amount\n",
    "               return \"Current Saving amount is\", Current_amount\n",
    "        elif Option==2:\n",
    "            Amounts=int(input(\"enter the number\"))\n",
    "            Deposite=Amounts\n",
    "            Total_amount=Deposite+Amount\n",
    "            return \"Deposited amount is \",Deposite,\"Total Current Saving amount is \",Total_amount\n",
    "        elif Option==3:\n",
    "            Amounts=int(input(\"enter the number\"))\n",
    "            withdraw=Amounts\n",
    "            Withdraws=Amount-Amounts\n",
    "            return \"Withdraw\",withdraw,\"Remaining Amount is \",Withdraws\n",
    "        elif Option==4:\n",
    "            NewPin=input(\"enter new pin\")\n",
    "            return NewPin,\"Is your new pin number\" \n",
    "        elif Option==5:   \n",
    "            print(\"exist\\nThank you for using it\")\n",
    "     else:\n",
    "          print(\"Incorrect PIN number\")\n",
    "ATM()\n",
    "\n",
    "\n"
   ]
  },
  {
   "cell_type": "code",
   "execution_count": null,
   "metadata": {},
   "outputs": [],
   "source": []
  }
 ],
 "metadata": {
  "kernelspec": {
   "display_name": "Python 3",
   "language": "python",
   "name": "python3"
  },
  "language_info": {
   "codemirror_mode": {
    "name": "ipython",
    "version": 3
   },
   "file_extension": ".py",
   "mimetype": "text/x-python",
   "name": "python",
   "nbconvert_exporter": "python",
   "pygments_lexer": "ipython3",
   "version": "3.13.0"
  }
 },
 "nbformat": 4,
 "nbformat_minor": 2
}
