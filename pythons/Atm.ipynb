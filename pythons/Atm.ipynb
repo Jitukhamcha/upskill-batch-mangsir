{
 "cells": [
  {
   "cell_type": "code",
   "execution_count": 54,
   "metadata": {},
   "outputs": [
    {
     "name": "stdout",
     "output_type": "stream",
     "text": [
      "Enter UserName\n",
      "\n",
      "Welcome Demon\n",
      "Enter PassWord\n",
      "Enter pin code\n",
      "\n",
      "Welcome to ATM machine\n",
      "For Check \t1\n",
      "For Deposite \t 2\n",
      "For Withdraw \t 3\n",
      "For fast withdraw \t 4\n",
      "For Change Pin \t 5\n",
      "For Exist \t 6\n",
      "\n",
      "Select 1 for 1000\n",
      "Select 2 for 2000\n",
      "Selecct 3 for 5000\n",
      "Select 4 for 10000\n",
      "Select 5 for 15000\n"
     ]
    },
    {
     "data": {
      "text/plain": [
       "('withdraw', 15000, ' Remaining amount', 9984999)"
      ]
     },
     "execution_count": 54,
     "metadata": {},
     "output_type": "execute_result"
    }
   ],
   "source": [
    "Name=input(\"Create User name\")\n",
    "Pass=input(\"Create password\")\n",
    "def ATM(Amount=9999999,Pin=9876):\n",
    "    print (\"Enter UserName\")\n",
    "    Usename=input(\"Enter user name\")\n",
    "    if Usename==Name:\n",
    "        print(\"\\nWelcome\",Usename)\n",
    "        print(\"Enter PassWord\")\n",
    "        Password=input(\"Enter Password\")\n",
    "        if Password==Pass:\n",
    "            print(\"Enter pin code\")\n",
    "            PIN=int(input(\"Enter the pin\"))\n",
    "            if PIN==Pin:\n",
    "                print(\"\\nWelcome to ATM machine\")\n",
    "                print(\"For Check \\t1\")\n",
    "                print(\"For Deposite \\t 2\")\n",
    "                print(\"For Withdraw \\t 3\")\n",
    "                print(\"For fast withdraw \\t 4\")\n",
    "                print(\"For Change Pin \\t 5\")\n",
    "                print(\"For Exist \\t 6\")\n",
    "                Option=int(input(\"Select option\"))\n",
    "                if Option==1:\n",
    "                    Current_amount=Amount\n",
    "                    return \"Current Saving amount is\", Current_amount\n",
    "                elif Option==2:\n",
    "                    Amounts=int(input(\"enter the Deposite amount\"))\n",
    "                    Deposite=Amounts\n",
    "                    Total_amount=Deposite+Amount\n",
    "                    return \"Deposited amount is \",Deposite,\"Total Current Saving amount is \",Total_amount\n",
    "                elif Option==3:\n",
    "                    Amounts=int(input(\"enter withdraw amount\"))\n",
    "                    if Amounts>Amount:\n",
    "                        print(\"Exceed the limit saving amount\",Amount)\n",
    "                    elif Amounts>70000:\n",
    "                        print(\"Exceed daily transaction limit .'. 70000\")   \n",
    "                    else: \n",
    "                        withdraw=Amounts\n",
    "                        Withdraws=Amount-Amounts\n",
    "                        return \"Withdraw\",withdraw,\"Remaining Amount is \",Withdraws\n",
    "                elif Option==4:\n",
    "                    print(\"\\nSelect 1 for 1000\")\n",
    "                    print(\"Select 2 for 2000\")\n",
    "                    print(\"Selecct 3 for 5000\")\n",
    "                    print(\"Select 4 for 10000\")\n",
    "                    print(\"Select 5 for 15000\")\n",
    "                    Select=int(input(\"Select the Option\"))\n",
    "                    if Select==1:\n",
    "                        first=1000\n",
    "                        Remaining=Amount-first\n",
    "                        return 'withdraw' ,first, \" Remaining amount\",Remaining\n",
    "                    elif Select==2:\n",
    "                        second=2000\n",
    "                        Remaining=Amount-second\n",
    "                        return 'withdraw' ,second, \" Remaining amount\",Remaining\n",
    "                    elif Select==3:\n",
    "                        third=5000\n",
    "                        Remaining=Amount-third\n",
    "                        return 'withdraw' ,third, \" Remaining amount\",Remaining\n",
    "                    elif Select==4:\n",
    "                        four=10000\n",
    "                        Remaining=Amount-four\n",
    "                        return 'withdraw' ,four, \" Remaining amount\",Remaining\n",
    "                    elif Select==5:\n",
    "                        five=15000\n",
    "                        Remaining=Amount-five\n",
    "                        return 'withdraw',five, \" Remaining amount\",Remaining\n",
    "                elif Option==5:\n",
    "                    NewPin=input(\"enter new pin\")\n",
    "                    return NewPin,\"Is your new pin number\" \n",
    "                elif Option==6:   \n",
    "                    print(\"exist\\nThank you for using it\")\n",
    "            else:\n",
    "                print(\"Sorry Pin is incorrect \")\n",
    "        else:\n",
    "            print(\"Incorrect Password \\t Try again\")        \n",
    "    else:\n",
    "        print(\"Incorrect Username \\t Try again \")\n",
    "ATM()\n",
    "\n",
    "\n"
   ]
  },
  {
   "cell_type": "code",
   "execution_count": null,
   "metadata": {},
   "outputs": [],
   "source": []
  }
 ],
 "metadata": {
  "kernelspec": {
   "display_name": "Python 3",
   "language": "python",
   "name": "python3"
  },
  "language_info": {
   "codemirror_mode": {
    "name": "ipython",
    "version": 3
   },
   "file_extension": ".py",
   "mimetype": "text/x-python",
   "name": "python",
   "nbconvert_exporter": "python",
   "pygments_lexer": "ipython3",
   "version": "3.13.0"
  }
 },
 "nbformat": 4,
 "nbformat_minor": 2
}
