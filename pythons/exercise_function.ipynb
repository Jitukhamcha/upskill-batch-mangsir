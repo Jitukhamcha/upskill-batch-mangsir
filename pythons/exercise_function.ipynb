{
 "cells": [
  {
   "cell_type": "markdown",
   "metadata": {},
   "source": [
    "# Python Programming Assignment: Function\n",
    "\n",
    "### Task 1: Write a function simple_calculator(num1, num2, operation) that takes two numbers and a string specifying an operation ('add', 'subtract', 'multiply', 'divide') and returns the result of the operation.\n",
    "\n"
   ]
  },
  {
   "cell_type": "code",
   "execution_count": 2,
   "metadata": {},
   "outputs": [
    {
     "name": "stdout",
     "output_type": "stream",
     "text": [
      "3 added 5 is =  8\n"
     ]
    }
   ],
   "source": [
    "a=int(input(\"enter firdt number\"))\n",
    "b=int(input(\"Second  number\"))\n",
    "o=(input(\"Select option\"))\n",
    "def Calculation(a,b,option):\n",
    "    Add=a+b\n",
    "    Sub=a-b\n",
    "    Multi=a*b\n",
    "    Div=a/b\n",
    "    if option==\"add\":\n",
    "        return print(f\"{a} added {b} is = \",Add)\n",
    "    elif option==\"substract\":\n",
    "        return print(f\"{a} substracted by {b} i= \",Sub)\n",
    "    elif option==\"multipy\":\n",
    "        return print(f\"{a} times {b} = \",Multi)\n",
    "    elif option==\"divide\":\n",
    "        return print(f\"{a} divide by {b} = \",Div)\n",
    "Calculation(a,b,o)"
   ]
  },
  {
   "cell_type": "markdown",
   "id": "85b7cc26",
   "metadata": {},
   "source": [
    "### Task 2:Write a function print_multiplication_table(n) that takes a number n and prints its multiplication table from 1 to 10.\n",
    "\n"
   ]
  },
  {
   "cell_type": "code",
   "execution_count": 43,
   "id": "56999e42",
   "metadata": {},
   "outputs": [
    {
     "name": "stdout",
     "output_type": "stream",
     "text": [
      "4 x 1 =4\n",
      "4 x 2 =8\n",
      "4 x 3 =12\n",
      "4 x 4 =16\n",
      "4 x 5 =20\n",
      "4 x 6 =24\n",
      "4 x 7 =28\n",
      "4 x 8 =32\n",
      "4 x 9 =36\n",
      "4 x 10 =40\n"
     ]
    }
   ],
   "source": [
    "n=int(input(\"enter the number\"))\n",
    "def multiplication(a):\n",
    "        for d in range(1,11):\n",
    "         print(f\"{n} x {d} ={n*d}\")\n",
    "multiplication(n)\n",
    "\n",
    "\n"
   ]
  },
  {
   "cell_type": "markdown",
   "id": "f0832a71",
   "metadata": {},
   "source": [
    "### Task 3: Write a function is_palindrome(word) that checks if a word is a palindrome (reads the same backward as forward). Return True or False.\n"
   ]
  },
  {
   "cell_type": "code",
   "execution_count": null,
   "id": "0111dc34",
   "metadata": {},
   "outputs": [
    {
     "data": {
      "text/plain": [
       "False"
      ]
     },
     "execution_count": 49,
     "metadata": {},
     "output_type": "execute_result"
    }
   ],
   "source": [
    "a=input(\"enter word\")\n",
    "def is_palindrome(word):\n",
    "    if word==word[::-1]:\n",
    "        return True\n",
    "    else:    \n",
    "        return False\n",
    "is_palindrome(a)"
   ]
  },
  {
   "cell_type": "markdown",
   "id": "d082ef80",
   "metadata": {},
   "source": [
    "### Task 4: Write a function find_largest(num1, num2, num3) that takes three numbers as arguments and returns the largest number."
   ]
  },
  {
   "cell_type": "code",
   "execution_count": null,
   "id": "d52df29d",
   "metadata": {},
   "outputs": [
    {
     "data": {
      "text/plain": [
       "100"
      ]
     },
     "execution_count": 63,
     "metadata": {},
     "output_type": "execute_result"
    }
   ],
   "source": [
    "a=int(input(\"enter nuber\"))\n",
    "b=int(input(\"enter nuber\"))\n",
    "c=int(input(\"enter nuber\"))\n",
    "def find_largest(num1,num2,num3):\n",
    "    d=[]\n",
    "    d.append(num1)\n",
    "    d.append(num2)\n",
    "    d.append(num3)\n",
    "    c=sorted(d)\n",
    "    return c[-1]\n",
    "find_largest(a,b,c)\n",
    "    "
   ]
  },
  {
   "cell_type": "code",
   "execution_count": 1,
   "id": "0d506805",
   "metadata": {},
   "outputs": [
    {
     "data": {
      "text/plain": [
       "8"
      ]
     },
     "execution_count": 1,
     "metadata": {},
     "output_type": "execute_result"
    }
   ],
   "source": [
    "a=int(input(\"enter nuber\"))\n",
    "b=int(input(\"enter nuber\"))\n",
    "c=int(input(\"enter nuber\"))\n",
    "def find_largest(num1,num2,num3):\n",
    "    if num1>num2 and num1>num3:\n",
    "        return num1 \n",
    "    elif num2>num3 and num2>num1:\n",
    "        return num2\n",
    "    else:\n",
    "        return num3\n",
    "find_largest(a,b,c)"
   ]
  },
  {
   "cell_type": "code",
   "execution_count": 162,
   "id": "09996ff2",
   "metadata": {},
   "outputs": [
    {
     "name": "stdout",
     "output_type": "stream",
     "text": [
      "the largest num 8\n"
     ]
    }
   ],
   "source": [
    "a=int(input(\"enter nuber\"))\n",
    "b=int(input(\"enter nuber\"))\n",
    "c=int(input(\"enter nuber\"))\n",
    "def find_largest(num1,num2,num3):\n",
    "    return max(num1,num2,num3)\n",
    "print(f\"the largest num {find_largest(a,b,c)}\")"
   ]
  },
  {
   "cell_type": "markdown",
   "id": "043f8657",
   "metadata": {},
   "source": [
    "### Task 5: Write a function convert_seconds(seconds) that takes a number of seconds and converts it into hours, minutes, and seconds."
   ]
  },
  {
   "cell_type": "markdown",
   "id": "1c27595c",
   "metadata": {},
   "source": []
  },
  {
   "cell_type": "code",
   "execution_count": null,
   "id": "013ad064",
   "metadata": {},
   "outputs": [
    {
     "name": "stdout",
     "output_type": "stream",
     "text": [
      "It's 1 Days 0 Hours 2 Minutes 35 Seconds\n"
     ]
    }
   ],
   "source": [
    "d=int(input(\"enter seconds\"))\n",
    "def convert_seconds(secondes):  \n",
    "    Days=secondes//86400\n",
    "    remaining_second=secondes%86400         #// give exact output\n",
    "    hrs = remaining_second // 3600               #to get hour from second divide second by 60min*60 sec =3600\n",
    "    remaining_seconds=remaining_second % 3600     # remaining second afther getting 3600 sec which his equal to 1 hrs\n",
    "    min= remaining_seconds // 60          # to get minute from second divide given second by 60 second\n",
    "    seconds = remaining_seconds% 60      # get remaining  second is a second\n",
    "    return Days,hrs,min,seconds\n",
    "a,b,c,d=convert_seconds(d)\n",
    "print(f\"It's {a} Days {b} Hours {c} Minutes {d} Seconds\")\n"
   ]
  },
  {
   "cell_type": "markdown",
   "id": "28d671ac",
   "metadata": {},
   "source": [
    "### Task 6:Write a function remove_duplicates(items) that takes a list and returns a new list with all duplicate elements removed."
   ]
  },
  {
   "cell_type": "code",
   "execution_count": 8,
   "id": "0b21fe1c",
   "metadata": {},
   "outputs": [
    {
     "data": {
      "text/plain": [
       "[2, 4, 5, 6, 7, 8, 1, 12, 100, 21]"
      ]
     },
     "execution_count": 8,
     "metadata": {},
     "output_type": "execute_result"
    }
   ],
   "source": [
    "a=[2,4,5,6,7,8,1,12,5,6,100,21,4,8]\n",
    "def remove_duplicate(items):\n",
    "    d=[]\n",
    "    for x in items:\n",
    "        if x not in d:\n",
    "            d.append(x)\n",
    "    return d  \n",
    "remove_duplicate(a)\n",
    "    "
   ]
  },
  {
   "cell_type": "markdown",
   "id": "703f2046",
   "metadata": {},
   "source": [
    "### Task 6: Write a function calculate_total(cart_items) that takes a dictionary where keys are item names and values are prices, then calculates the total price.\n"
   ]
  },
  {
   "cell_type": "code",
   "execution_count": 176,
   "id": "bea2061e",
   "metadata": {},
   "outputs": [
    {
     "name": "stdout",
     "output_type": "stream",
     "text": [
      "Total price is 600\n"
     ]
    }
   ],
   "source": [
    "fruits = {'apple': 100, 'mango': 200, 'orange': 300}\n",
    "def Calculate_total(cart_items):\n",
    "    count=0\n",
    "    for x in cart_items.values():\n",
    "        count=count+x\n",
    "    return count\n",
    "print(f\"Total price is {Calculate_total(fruits)}\")\n"
   ]
  },
  {
   "cell_type": "code",
   "execution_count": null,
   "id": "c7e2c8c7",
   "metadata": {},
   "outputs": [],
   "source": []
  }
 ],
 "metadata": {
  "kernelspec": {
   "display_name": "Python 3",
   "language": "python",
   "name": "python3"
  },
  "language_info": {
   "codemirror_mode": {
    "name": "ipython",
    "version": 3
   },
   "file_extension": ".py",
   "mimetype": "text/x-python",
   "name": "python",
   "nbconvert_exporter": "python",
   "pygments_lexer": "ipython3",
   "version": "3.13.0"
  }
 },
 "nbformat": 4,
 "nbformat_minor": 5
}
