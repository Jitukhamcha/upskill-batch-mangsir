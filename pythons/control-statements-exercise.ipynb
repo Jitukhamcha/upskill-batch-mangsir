{
 "cells": [
  {
   "cell_type": "markdown",
   "metadata": {},
   "source": [
    "# Python Programming Assignment: Control Statements\n",
    "\n",
    "### Task 1: For Loop - Print numbers from 1 to 20\n",
    "Write a `for` loop to print numbers from 1 to 20. If number is multiple of 3 skip that number.\n",
    "\n",
    "Output: 1,2,4,5,7,8,10,11,13,14,16,17,19,20"
   ]
  },
  {
   "cell_type": "code",
   "execution_count": null,
   "id": "da35bc62",
   "metadata": {},
   "outputs": [],
   "source": [
    "# Your code here\n",
    "for x in range(1,30):\n",
    "    if x%3!=0:\n",
    "     print(x)"
   ]
  },
  {
   "cell_type": "markdown",
   "id": "85b7cc26",
   "metadata": {},
   "source": [
    "### Task 2: While Loop - Print numbers from 20 down to 1\n",
    "Write a `while` loop to print numbers from 20 down to 1."
   ]
  },
  {
   "cell_type": "code",
   "execution_count": null,
   "id": "a5c51824",
   "metadata": {},
   "outputs": [],
   "source": [
    "d=20\n",
    "while d>=1:\n",
    " print(d)\n",
    " d -=1"
   ]
  },
  {
   "cell_type": "markdown",
   "id": "3fdc8b60",
   "metadata": {},
   "source": [
    "\n",
    "### Task 3: Even or Odd - Check if numbers from 1 to 20 are even or odd\n",
    "Write a program that checks if numbers from 1 to 20 are even or odd. Use an `if-else` statement."
   ]
  },
  {
   "cell_type": "code",
   "execution_count": null,
   "id": "4c42d222",
   "metadata": {},
   "outputs": [],
   "source": [
    "for x in range(1,21):\n",
    "    if (x%2==0):\n",
    "        print(f\"{x} is even number\")\n",
    "    else:\n",
    "        print(f\"{x} is  odd number\")"
   ]
  },
  {
   "cell_type": "markdown",
   "id": "d082ef80",
   "metadata": {},
   "source": [
    "\n",
    "### Task 4: Nested Loops - Print a multiplication table using nested loops\n",
    "Write a program that prints the multiplication table for a given number (e.g., 7).\n",
    "\n",
    "output:\n",
    "\n",
    "7x1=7\n",
    "\n",
    "7x2=14\n",
    "\n",
    "7x3=31\n",
    "\n",
    "..\n",
    "\n",
    ".."
   ]
  },
  {
   "cell_type": "code",
   "execution_count": null,
   "id": "03eea614",
   "metadata": {},
   "outputs": [],
   "source": [
    "n=7\n",
    "for m in range(1,11):\n",
    "  print(n,\"X\",m,\"=\",m*n)\n",
    "\n"
   ]
  },
  {
   "cell_type": "code",
   "execution_count": null,
   "id": "9c985aa7",
   "metadata": {},
   "outputs": [],
   "source": [
    "g=7\n",
    "h=range(1,11)\n",
    "for k in h:\n",
    "  print(g,\"x\",k,\"=\",g*k)\n"
   ]
  },
  {
   "cell_type": "markdown",
   "id": "043f8657",
   "metadata": {},
   "source": [
    "### Task 5: Break Example - Loop through numbers from 1 to 100 and break when divisible by 17\n",
    "Write a program to loop through numbers from 1 to 100 and break the loop when the number is divisible by 17."
   ]
  },
  {
   "cell_type": "code",
   "execution_count": null,
   "id": "31cdc5a3",
   "metadata": {},
   "outputs": [],
   "source": [
    "q=1\n",
    "while q<=100:\n",
    "    print(q)\n",
    "    if q%17==0:\n",
    "     break\n",
    "    q +=1\n",
    "\n",
    "\n",
    "\n",
    "\n"
   ]
  },
  {
   "cell_type": "code",
   "execution_count": null,
   "id": "933557ca",
   "metadata": {},
   "outputs": [],
   "source": [
    "for k in  range(1,101):\n",
    "    print(k)\n",
    "    if k%17==0:\n",
    "        break"
   ]
  },
  {
   "cell_type": "markdown",
   "id": "7da07c75",
   "metadata": {},
   "source": [
    "### Task 6: Divisibility Check - Print numbers from 1 to 50 divisible by 7 but not 5\n",
    "Write a program to print numbers from 1 to 50 that are divisible by 7 but not by 5.\n",
    "\n",
    "Output: 7,14,21,28,42,49 (35 is divisible by 5 so escape it)"
   ]
  },
  {
   "cell_type": "code",
   "execution_count": null,
   "id": "2dd30453",
   "metadata": {},
   "outputs": [],
   "source": [
    "for d in  range(1,81):\n",
    "    if (d%7==0 and d%5!=0):\n",
    "     print(\"divisible by seven\",d)\n",
    "        \n",
    "        \n",
    "        "
   ]
  },
  {
   "cell_type": "code",
   "execution_count": null,
   "id": "e97ec13c",
   "metadata": {},
   "outputs": [],
   "source": [
    "for s in range(0,51,7):\n",
    " if (s%5!=0):\n",
    "        print(s)\n",
    "\n"
   ]
  },
  {
   "cell_type": "markdown",
   "id": "0563c9e7",
   "metadata": {},
   "source": [
    "### Task 7: Even Numbers in a Range - Print all even numbers between two user-provided numbers\n",
    "Write a program to print all even numbers between two given numbers.\n",
    "\n",
    "ask two number from user and print all the even number between them.\n",
    "\n",
    "Example: if two number are 5,10 then output are 6,8,10"
   ]
  },
  {
   "cell_type": "code",
   "execution_count": null,
   "id": "0b1bafe3",
   "metadata": {},
   "outputs": [],
   "source": [
    "for l in range(2,15,1):\n",
    "   if l%2==0:\n",
    "    print(f\"{l} is  an even numner\")\n",
    "   \n",
    "\n"
   ]
  },
  {
   "cell_type": "code",
   "execution_count": null,
   "id": "b5e3b802",
   "metadata": {},
   "outputs": [],
   "source": [
    "a=input(\"enter the first number\")\n",
    "b=input(\"enter the second nuber\")\n",
    "a=int(a)\n",
    "b=int(b)\n",
    "for d in  range(a,b):\n",
    "   if (d%2==0):\n",
    "    print(d,\"is an even number\")\n",
    "  "
   ]
  },
  {
   "cell_type": "code",
   "execution_count": null,
   "id": "b6a4fdc4",
   "metadata": {},
   "outputs": [],
   "source": []
  }
 ],
 "metadata": {
  "kernelspec": {
   "display_name": "Python 3",
   "language": "python",
   "name": "python3"
  },
  "language_info": {
   "codemirror_mode": {
    "name": "ipython",
    "version": 3
   },
   "file_extension": ".py",
   "mimetype": "text/x-python",
   "name": "python",
   "nbconvert_exporter": "python",
   "pygments_lexer": "ipython3",
   "version": "3.13.0"
  }
 },
 "nbformat": 4,
 "nbformat_minor": 5
}
