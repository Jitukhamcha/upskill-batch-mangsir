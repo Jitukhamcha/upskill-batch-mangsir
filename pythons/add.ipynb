{
 "cells": [
  {
   "cell_type": "code",
   "execution_count": 1,
   "metadata": {},
   "outputs": [
    {
     "data": {
      "text/plain": [
       "[11, 22, 33, 44, 55, 66, 77, 88, 99]"
      ]
     },
     "execution_count": 1,
     "metadata": {},
     "output_type": "execute_result"
    }
   ],
   "source": [
    "[d for d in range(1,100) if d%11==0 ]"
   ]
  },
  {
   "cell_type": "code",
   "execution_count": null,
   "metadata": {},
   "outputs": [],
   "source": [
    "block of code when execute when it is called, passing argument and paramenter\n",
    "\n",
    "\n",
    "def fuctionnamme(parameter1,par2):  called parameter while creating function\n",
    "    call(function_name)\n",
    "print(functionname(parameter1,par2))  called argument when value pass when function is called\n",
    "\n",
    "\n",
    "if not retur it show \n",
    "\n",
    "\n",
    "\n",
    "return ( result return  and block other it the function  satisfied)\n",
    "def sum(a,b):\n",
    "    c=a+b\n",
    "    d=a*b\n",
    "    return c,d\n",
    "print(sum(1,2))\n",
    "\n",
    "\n",
    "check odd even\n",
    "def Check_even(a):\n",
    "    #result=None\n",
    "    if a%2==0:\n",
    "        print(f\"{a} is even\")\n",
    "        return \"even\"\n",
    "    else:\n",
    "        print(f\"{a} is odd\")\n",
    "        return \"odd\"\n",
    "    #return result\n",
    "\n",
    "      \n",
    "\n",
    "def Check_even(a):\n",
    "    if a%2==0:\n",
    "        return True\n",
    "    else:\n",
    "        return False\n",
    "check=Check_even(13)\n",
    "print(check)\n",
    "if check==True:\n",
    "    print(\"f{check} it is even\")\n",
    "else:\n",
    "    print(f\"{check} it is odd\")\n",
    "\n",
    "seprate odd even\n",
    "mylist=[13,6,7,12,5,7,12,56,7,5]\n",
    "even=[]\n",
    "odd=[]\n",
    "def seggerate_number(list1):\n",
    "    for x in list1:\n",
    "        if x%2==0:\n",
    "            even.append(x)\n",
    "        else:\n",
    "            odd.append(x)\n",
    "    return odd,even\n",
    "l1,l2=seggerate_number(mylist)\n",
    "print(l1,l2)\n",
    "#functioncasing\n",
    "a=\"demon rai\"\n",
    "def casing(d):\n",
    "    b=a.upper()\n",
    "    return b\n",
    "casing(a)\n",
    "\n",
    "a=input(\"Name\")\n",
    "def casing(d):\n",
    "    b=a.upper()\n",
    "    return b\n",
    "casing(a)\n",
    "\n",
    "\n",
    "\n"
   ]
  },
  {
   "cell_type": "code",
   "execution_count": null,
   "metadata": {},
   "outputs": [],
   "source": [
    "c=int(input(\"enter the number\"))\n",
    "print(Check_even(c))\n",
    "      \n",
    "def Check_even(a):\n",
    "    result=None\n",
    "    if a%2==0:\n",
    "        print(f\"{a} is even\")\n",
    "    else:\n",
    "        print(f\"{a} is odd\")\n",
    "    return result\n",
    "print(Check_even(9))"
   ]
  },
  {
   "cell_type": "code",
   "execution_count": null,
   "metadata": {},
   "outputs": [],
   "source": [
    "casing as per deisre\n",
    "a=input(\"Name\")\n",
    "b=int(input(\"enter\"))\n",
    "def converting(a,b):\n",
    "    if b==0:\n",
    "       return a.upper()\n",
    "    elif b==1:\n",
    "         return a.lower() \n",
    "    elif b==2:\n",
    "      return a.title()\n",
    "converting(a,b)\n"
   ]
  }
 ],
 "metadata": {
  "kernelspec": {
   "display_name": "Python 3",
   "language": "python",
   "name": "python3"
  },
  "language_info": {
   "codemirror_mode": {
    "name": "ipython",
    "version": 3
   },
   "file_extension": ".py",
   "mimetype": "text/x-python",
   "name": "python",
   "nbconvert_exporter": "python",
   "pygments_lexer": "ipython3",
   "version": "3.13.0"
  }
 },
 "nbformat": 4,
 "nbformat_minor": 2
}
