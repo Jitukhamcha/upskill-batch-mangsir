{
 "cells": [
  {
   "cell_type": "code",
   "execution_count": null,
   "metadata": {},
   "outputs": [],
   "source": []
  },
  {
   "cell_type": "markdown",
   "metadata": {},
   "source": [
    "markdown  for comment, .py to execute whole while .ipnby execute in block\n",
    "select kernel to python env"
   ]
  },
  {
   "cell_type": "code",
   "execution_count": null,
   "metadata": {},
   "outputs": [
    {
     "name": "stdout",
     "output_type": "stream",
     "text": [
      "Hello\n"
     ]
    }
   ],
   "source": [
    "print(\"Hello\")"
   ]
  },
  {
   "cell_type": "code",
   "execution_count": null,
   "metadata": {},
   "outputs": [
    {
     "ename": "NameError",
     "evalue": "name 'dccd' is not defined",
     "output_type": "error",
     "traceback": [
      "\u001b[1;31m---------------------------------------------------------------------------\u001b[0m\n",
      "\u001b[1;31mNameError\u001b[0m                                 Traceback (most recent call last)\n",
      "Cell \u001b[1;32mIn[2], line 1\u001b[0m\n",
      "\u001b[1;32m----> 1\u001b[0m \u001b[38;5;28mprint\u001b[39m(\u001b[43mdccd\u001b[49m)\n",
      "\n",
      "\u001b[1;31mNameError\u001b[0m: name 'dccd' is not defined"
     ]
    }
   ],
   "source": [
    "print(dccd)"
   ]
  },
  {
   "cell_type": "code",
   "execution_count": null,
   "metadata": {},
   "outputs": [
    {
     "name": "stdout",
     "output_type": "stream",
     "text": [
      "ddddd\n"
     ]
    }
   ],
   "source": [
    "a=\"ddddd\"\n",
    "print(a)"
   ]
  },
  {
   "cell_type": "markdown",
   "metadata": {},
   "source": [
    "indentation  (one or more space)\n",
    "to find out correct result\n",
    "it refer to the space at the begning of the code\n",
    "it is used to followed up the clause"
   ]
  },
  {
   "cell_type": "code",
   "execution_count": null,
   "metadata": {},
   "outputs": [
    {
     "name": "stdout",
     "output_type": "stream",
     "text": [
      "a is smaller\n",
      "11\n"
     ]
    }
   ],
   "source": [
    "a=5\n",
    "b=6\n",
    "if b>a:\n",
    "    print(\"a is smaller\");\n",
    "else:\n",
    "    print(\"d is greater\")\n",
    "print(sum(((a,b)))) #  (()) buil infunction"
   ]
  },
  {
   "cell_type": "markdown",
   "metadata": {},
   "source": [
    "variable used to assign value, store value\n",
    "cant start with number\n",
    "#myvay ,my_var,_my_var,myVar,MYVAR,myvar2\n",
    "inside \"\" value already. without(\"\") they search value\n",
    "#camel case (start with small leter however other may be capital\n",
    ")"
   ]
  },
  {
   "cell_type": "markdown",
   "metadata": {},
   "source": [
    "pascal case\n",
    "(all leter capital)\n",
    "snakecase(use underscore betwwen the word)\n",
    "change data type (type cast)\n",
    "(int(string)+int(strinig))\n",
    "\n",
    "'5' deinfe manual\n",
    "str auto \n",
    "for the  datatype strinig\n"
   ]
  },
  {
   "cell_type": "code",
   "execution_count": null,
   "metadata": {},
   "outputs": [
    {
     "name": "stdout",
     "output_type": "stream",
     "text": [
      "sdssssssssssd 9\n"
     ]
    }
   ],
   "source": [
    "a=str(4)\n",
    "b=str(5)\n",
    "print(\"sdssssssssssd\",int(a)+int(b))"
   ]
  },
  {
   "cell_type": "markdown",
   "metadata": {},
   "source": [
    "many value to multiple variable\n"
   ]
  },
  {
   "cell_type": "code",
   "execution_count": null,
   "metadata": {},
   "outputs": [],
   "source": []
  },
  {
   "cell_type": "code",
   "execution_count": null,
   "metadata": {},
   "outputs": [
    {
     "name": "stdout",
     "output_type": "stream",
     "text": [
      "cat = pet anikal\n",
      "cat\n",
      "dog\n",
      "catdog both are animla\n"
     ]
    }
   ],
   "source": [
    "r,d,c=\"cat\",6,\"dog\"\n",
    "print(r,\"= pet anikal\")\n",
    "print(r)\n",
    "print(c)\n",
    "print(r+c,\"both are animla\" )"
   ]
  },
  {
   "cell_type": "markdown",
   "metadata": {},
   "source": [
    "multiple variable to value,check type (type())\n",
    "input function\n",
    "type casting\n"
   ]
  },
  {
   "cell_type": "code",
   "execution_count": null,
   "metadata": {},
   "outputs": [],
   "source": [
    "a=input(\"Enter the number\");"
   ]
  },
  {
   "cell_type": "code",
   "execution_count": null,
   "metadata": {},
   "outputs": [
    {
     "name": "stdout",
     "output_type": "stream",
     "text": [
      "7.0\n"
     ]
    }
   ],
   "source": [
    "a=float(a)\n",
    "print(a)"
   ]
  },
  {
   "cell_type": "code",
   "execution_count": null,
   "metadata": {},
   "outputs": [
    {
     "name": "stdout",
     "output_type": "stream",
     "text": [
      "<class 'float'>\n"
     ]
    }
   ],
   "source": [
    "print(type(a))"
   ]
  },
  {
   "cell_type": "code",
   "execution_count": null,
   "metadata": {},
   "outputs": [
    {
     "name": "stdout",
     "output_type": "stream",
     "text": [
      "vvvv\n"
     ]
    }
   ],
   "source": [
    "print(a*4)"
   ]
  },
  {
   "cell_type": "code",
   "execution_count": null,
   "metadata": {},
   "outputs": [],
   "source": [
    "d=input(\"enter the number\")\n",
    "e=input(\"enter second number\")\n",
    "s=(d+e)\n",
    "print(s)"
   ]
  },
  {
   "cell_type": "markdown",
   "metadata": {},
   "source": [
    "multiple variale to same line\n",
    "type casting and print, data type find"
   ]
  },
  {
   "cell_type": "code",
   "execution_count": null,
   "metadata": {},
   "outputs": [
    {
     "name": "stdout",
     "output_type": "stream",
     "text": [
      "10 <class 'int'>\n",
      "10 10\n"
     ]
    }
   ],
   "source": [
    "x=y=z=10\n",
    "x=int(x)\n",
    "print(x,type(x))\n",
    "y=x\n",
    "print(x,y)"
   ]
  },
  {
   "cell_type": "markdown",
   "metadata": {},
   "source": [
    "unpack collection, unpacke alloated to same amount of value"
   ]
  },
  {
   "cell_type": "code",
   "execution_count": null,
   "metadata": {},
   "outputs": [
    {
     "name": "stdout",
     "output_type": "stream",
     "text": [
      "mango\n",
      "banana\n",
      "grapes\n",
      "['mango', 'banana', 'grapes']\n"
     ]
    }
   ],
   "source": [
    "fruits=[\"mango\",\"banana\",\"grapes\"]\n",
    "a,b,c=fruits\n",
    "print(a)\n",
    "print(b)\n",
    "print(c)\n",
    "print(fruits)\n"
   ]
  },
  {
   "cell_type": "markdown",
   "metadata": {},
   "source": [
    "error while assigning   equal value should be assigned to equal value other wise it will generate error"
   ]
  },
  {
   "cell_type": "code",
   "execution_count": null,
   "metadata": {},
   "outputs": [
    {
     "ename": "ValueError",
     "evalue": "too many values to unpack (expected 3)",
     "output_type": "error",
     "traceback": [
      "\u001b[1;31m---------------------------------------------------------------------------\u001b[0m\n",
      "\u001b[1;31mValueError\u001b[0m                                Traceback (most recent call last)\n",
      "Cell \u001b[1;32mIn[44], line 2\u001b[0m\n",
      "\u001b[0;32m      1\u001b[0m fruits\u001b[38;5;241m=\u001b[39m[\u001b[38;5;124m\"\u001b[39m\u001b[38;5;124mmango\u001b[39m\u001b[38;5;124m\"\u001b[39m,\u001b[38;5;124m\"\u001b[39m\u001b[38;5;124mbanana\u001b[39m\u001b[38;5;124m\"\u001b[39m,\u001b[38;5;124m\"\u001b[39m\u001b[38;5;124mgrapes\u001b[39m\u001b[38;5;124m\"\u001b[39m]\n",
      "\u001b[1;32m----> 2\u001b[0m \u001b[38;5;28;01mfor\u001b[39;00m i,j,k \u001b[38;5;129;01min\u001b[39;00m fruits:\n",
      "\u001b[0;32m      3\u001b[0m     \u001b[38;5;28mprint\u001b[39m(fruits)\n",
      "\u001b[0;32m      4\u001b[0m a,b\u001b[38;5;241m=\u001b[39mfruits\n",
      "\n",
      "\u001b[1;31mValueError\u001b[0m: too many values to unpack (expected 3)"
     ]
    }
   ],
   "source": [
    "fruits=[\"mango\",\"banana\",\"grapes\"]\n",
    "a,b=fruits\n",
    "c,d,e=fruits\n",
    "print(a)\n",
    "print(b)\n",
    "print(c)\n",
    "print(fruits)\n",
    "print(d)"
   ]
  },
  {
   "cell_type": "markdown",
   "metadata": {},
   "source": [
    "data type\n",
    "string,numeric(int,float,complex)\n",
    "sequence(list,tulip,range)\n",
    "bolean(bool)\n",
    "non type"
   ]
  },
  {
   "cell_type": "markdown",
   "metadata": {},
   "source": [
    "big bracket list [],small bracket tuple () \n",
    "tuple value constant/fixed , list value can be change (mutable/mutation)\n",
    "use typecasting to change tuple to list, list to tuple.builtin keywords"
   ]
  },
  {
   "cell_type": "markdown",
   "metadata": {},
   "source": [
    "range\n",
    "use trange fun\n",
    "(range(3,9,2) first start second last,third interval)\n",
    "\n",
    "\n",
    "    dict_key {}]semicolon:]\n",
    "    x={\"NAME\":john,3:36}\n",
    "    print(x.value)\n",
    "\n",
    "\n",
    "set to duplicate value iliminate\n"
   ]
  },
  {
   "cell_type": "code",
   "execution_count": null,
   "metadata": {},
   "outputs": [
    {
     "name": "stdout",
     "output_type": "stream",
     "text": [
      "{'NAME': 'john', 'age': '36'}\n"
     ]
    }
   ],
   "source": [
    "   #dict_key {}]semicolon:]\n",
    "x={\"NAME\":\"john\",\"age\":\"36\"}\n",
    "print (x)\n"
   ]
  },
  {
   "cell_type": "markdown",
   "metadata": {},
   "source": [
    "image convert ot text bytearray\n",
    "converted form into text\n",
    "\n",
    "only string datatype in python. \n",
    "index initial with 0 while len fun count character lenght 1 range0:1[]"
   ]
  },
  {
   "cell_type": "markdown",
   "metadata": {},
   "source": [
    "slicing string, use indexing, -1 means last element of data, use [ starting_point:end_point],reversing[::-1] [::(step)]"
   ]
  },
  {
   "cell_type": "markdown",
   "metadata": {},
   "source": []
  },
  {
   "cell_type": "code",
   "execution_count": null,
   "metadata": {},
   "outputs": [
    {
     "name": "stdout",
     "output_type": "stream",
     "text": [
      "e\n",
      "emon Ra\n",
      "\n"
     ]
    }
   ],
   "source": [
    "a=\"Demon Rai\"\n",
    "print(a[1:2])\n",
    "print(a[1:-1])\n",
    "print(a[1:5:-1])"
   ]
  },
  {
   "cell_type": "code",
   "execution_count": null,
   "metadata": {},
   "outputs": [
    {
     "name": "stdout",
     "output_type": "stream",
     "text": [
      "ZCIENCE\n",
      "school name\n"
     ]
    }
   ],
   "source": [
    "#upper case  .upper()\n",
    "a=\"zcience\"\n",
    "print(a.upper())\n",
    "\n",
    "#lower\n",
    "b=\"SCHOOL NAME\"\n",
    "print(b.lower())"
   ]
  },
  {
   "cell_type": "markdown",
   "metadata": {},
   "source": []
  },
  {
   "cell_type": "markdown",
   "metadata": {},
   "source": [
    "remove white  space\n",
    ".strip\n",
    ".rstrip\n"
   ]
  },
  {
   "cell_type": "markdown",
   "metadata": {},
   "source": [
    "replace string\n",
    "replace(\"\",\"\")"
   ]
  },
  {
   "cell_type": "code",
   "execution_count": null,
   "metadata": {},
   "outputs": [
    {
     "name": "stdout",
     "output_type": "stream",
     "text": [
      "a is vowel\n",
      " {i} is not vowel\n",
      " {i} is not vowel\n",
      " {i} is not vowel\n",
      "e is vowel\n"
     ]
    }
   ],
   "source": [
    "st=\"apple\"\n",
    "vowels=['a','e','i','o','u']\n",
    "for i in st:\n",
    "     if i in vowels:\n",
    "        print(f\"{i} is vowel\")\n",
    "     else:\n",
    "        print(\" {i} is not vowel\")\n",
    "\n",
    "    \n"
   ]
  },
  {
   "cell_type": "markdown",
   "metadata": {},
   "source": [
    "a=in"
   ]
  },
  {
   "cell_type": "code",
   "execution_count": null,
   "metadata": {},
   "outputs": [
    {
     "name": "stdout",
     "output_type": "stream",
     "text": [
      "10 is multiple of 5\n"
     ]
    }
   ],
   "source": [
    "a=input(\"enter  the number\")\n",
    "a=int(a)   #type casting\n",
    "if (a%2==0):\n",
    "    print(f\"{a} is meven5\")\n",
    "else:\n",
    "    print(f\"{a}  is odd\")\n",
    "\n"
   ]
  },
  {
   "cell_type": "code",
   "execution_count": null,
   "metadata": {},
   "outputs": [
    {
     "name": "stdout",
     "output_type": "stream",
     "text": [
      "20 is multiple of 5\n"
     ]
    }
   ],
   "source": [
    "a=input(\"enter  the number\")\n",
    "a=int(a)   #type casting\n",
    "if (a%5==0):\n",
    "    print(f\"{a} is multiple of 5\")\n",
    "else:\n",
    "    print(f\"{a}  is not multiple of 5\")\n"
   ]
  },
  {
   "cell_type": "code",
   "execution_count": null,
   "metadata": {},
   "outputs": [],
   "source": [
    "a=range(1,20)\n",
    "for x in a:\n",
    " print(x)"
   ]
  },
  {
   "cell_type": "code",
   "execution_count": null,
   "metadata": {},
   "outputs": [],
   "source": [
    "x = range(3, 20, 2)\n",
    "for n in x:\n",
    "  print(n)"
   ]
  },
  {
   "cell_type": "code",
   "execution_count": null,
   "metadata": {},
   "outputs": [
    {
     "name": "stdout",
     "output_type": "stream",
     "text": [
      "a it is vowel letter 1\n",
      "it is not vowel letter\n",
      "it is not vowel letter\n",
      "it is not vowel letter\n",
      "e it is vowel letter 2\n"
     ]
    }
   ],
   "source": [
    "st=\"apple\"\n",
    "vowels=['a','e','i','o','u']\n",
    "start=0\n",
    "for i in st:\n",
    "     if i in vowels:\n",
    "        start +=1\n",
    "        print(f\"{i} it is vowel letter\",start)\n",
    "     else:\n",
    "        print(\"it is not vowel letter\")\n"
   ]
  },
  {
   "cell_type": "code",
   "execution_count": null,
   "metadata": {},
   "outputs": [],
   "source": [
    "#rang  (form , to +1, intervl/step):\n",
    "for d in range(1,7,2):\n",
    " print(d)\n",
    "\n"
   ]
  },
  {
   "cell_type": "code",
   "execution_count": null,
   "metadata": {},
   "outputs": [
    {
     "name": "stdout",
     "output_type": "stream",
     "text": [
      "1\n",
      "3\n",
      "5\n",
      "7\n",
      "9\n"
     ]
    }
   ],
   "source": [
    "e=range(1,10,2)\n",
    "for s in e:\n",
    "   print(s)"
   ]
  },
  {
   "cell_type": "code",
   "execution_count": null,
   "metadata": {},
   "outputs": [],
   "source": []
  },
  {
   "cell_type": "code",
   "execution_count": null,
   "metadata": {},
   "outputs": [
    {
     "name": "stdout",
     "output_type": "stream",
     "text": [
      "APPLE\n",
      "Banana\n",
      "cherry\n",
      "AmsA\n"
     ]
    }
   ],
   "source": [
    "fruits=[\"apple\",\"banana\",\"cherry\",\"AmsA\"]\n",
    "for s in fruits:\n",
    "    if s==\"apple\":\n",
    "       print(s.upper())\n",
    "    elif s==\"banana\":\n",
    "        print(s.title())\n",
    "    else:\n",
    "        print(s)\n",
    "\n",
    "\n"
   ]
  },
  {
   "cell_type": "code",
   "execution_count": null,
   "metadata": {},
   "outputs": [
    {
     "name": "stdout",
     "output_type": "stream",
     "text": [
      "football\n",
      "cricket\n",
      "CRICKET\n",
      "badminition\n"
     ]
    }
   ],
   "source": [
    "game=[\"football\",\"cricket\",\"badminition\"]\n",
    "for r in game:\n",
    "    print(r)\n",
    "    if r==\"cricket\":\n",
    "        print(r.upper())\n",
    "       \n",
    "    if r==\"football\":\n",
    "      print(r.title())\n",
    "    break"
   ]
  },
  {
   "cell_type": "code",
   "execution_count": null,
   "metadata": {},
   "outputs": [
    {
     "name": "stdout",
     "output_type": "stream",
     "text": [
      "banana Tasty\n"
     ]
    }
   ],
   "source": [
    "#nested loop  loop inside loop\n",
    "#a=a.lower()\n",
    "#\n",
    "fruite=[\"apple\",\"banana\",\"orange\"]\n",
    "obj=[\"red\",\"Tasty\",\"big\"]\n",
    "for m in fruits:\n",
    "    for o in obj:\n",
    "        if m ==\"banana\" and o.lower()==\"tasty\":\n",
    "         print(m,o)\n",
    "\n"
   ]
  },
  {
   "cell_type": "markdown",
   "metadata": {},
   "source": []
  },
  {
   "cell_type": "code",
   "execution_count": null,
   "metadata": {},
   "outputs": [
    {
     "name": "stdout",
     "output_type": "stream",
     "text": [
      "1\n",
      "2\n",
      "3\n",
      "4\n",
      "5\n",
      "6\n",
      "7\n",
      "8\n",
      "9\n",
      "10\n",
      "11\n",
      "12\n",
      "13\n",
      "14\n",
      "15\n",
      "16\n",
      "17\n",
      "18\n",
      "19\n",
      "20\n"
     ]
    }
   ],
   "source": [
    "for i in range(1,21):\n",
    "    print(i)"
   ]
  },
  {
   "cell_type": "code",
   "execution_count": null,
   "metadata": {},
   "outputs": [
    {
     "name": "stdout",
     "output_type": "stream",
     "text": [
      "20\n",
      "19\n",
      "18\n",
      "17\n",
      "16\n",
      "15\n",
      "14\n",
      "13\n",
      "12\n",
      "11\n",
      "10\n",
      "9\n",
      "8\n",
      "7\n",
      "6\n",
      "5\n",
      "4\n",
      "3\n",
      "2\n"
     ]
    }
   ],
   "source": [
    "for i in range(20,1,-1):\n",
    "    print(i)"
   ]
  },
  {
   "cell_type": "code",
   "execution_count": null,
   "metadata": {},
   "outputs": [
    {
     "name": "stdout",
     "output_type": "stream",
     "text": [
      "20\n",
      "19\n",
      "18\n",
      "17\n",
      "16\n",
      "15\n",
      "14\n",
      "13\n",
      "12\n",
      "11\n",
      "10\n",
      "9\n",
      "8\n",
      "7\n",
      "6\n",
      "5\n",
      "4\n",
      "3\n",
      "2\n",
      "1\n",
      "0\n"
     ]
    }
   ],
   "source": [
    "\n",
    "i=20\n",
    "while i>=0:\n",
    " print(i)\n",
    " i -=1\n",
    "\n",
    "\n",
    " #if i==0:\n",
    "  #break"
   ]
  },
  {
   "cell_type": "code",
   "execution_count": null,
   "metadata": {},
   "outputs": [
    {
     "name": "stdout",
     "output_type": "stream",
     "text": [
      "sum 18\n",
      "18 is even number\n"
     ]
    }
   ],
   "source": [
    "def name(num1,num2,num3):\n",
    "    sum=num1+num2+num3\n",
    "    mul=num1*num2*num3\n",
    "    sub=num1-num2-num3\n",
    "    return sum,mul,sub\n",
    "\n",
    "sum,mul,sub=name(2,8,8)\n",
    "print(\"sum\",sum)\n",
    "if  sum%2==0:\n",
    "    print(f\"{sum} is even number\")\n",
    "else:\n",
    "    print(f\"{sum} is odd\")"
   ]
  },
  {
   "cell_type": "code",
   "execution_count": 3,
   "metadata": {},
   "outputs": [
    {
     "name": "stdout",
     "output_type": "stream",
     "text": [
      "sum 6\n"
     ]
    }
   ],
   "source": [
    "\n",
    "\n",
    "\n",
    "def ope(a,b):\n",
    "    c=a+b\n",
    "    d=a-b\n",
    "    e=a*b\n",
    "    f=a/b\n",
    "    return c,d,e,f\n",
    "l=int(input(\"First\"))\n",
    "m=int(input(\"second\"))\n",
    "z,o,r,o=ope(l,m)\n",
    "print(\"sum\",z)\n",
    "\n",
    "\n",
    "\n"
   ]
  },
  {
   "cell_type": "markdown",
   "metadata": {},
   "source": [
    "regEx tools for matchinig and handling string search has re built in function re.search()"
   ]
  },
  {
   "cell_type": "code",
   "execution_count": 6,
   "metadata": {},
   "outputs": [
    {
     "name": "stdout",
     "output_type": "stream",
     "text": [
      "It is matched\n",
      "11\n"
     ]
    }
   ],
   "source": [
    "import re #import re package\n",
    "name=\" Demin  is my real name\"\n",
    "for x in name:\n",
    " s1=r\"real\" #define pattern\n",
    "#  if \"my\" in name:\n",
    "#     print(\"found\")\n",
    "#     break\n",
    "\n",
    "find=re.search(s1,name) #search function\n",
    "if find:  #condition call variable from above\n",
    "    print(\"It is matched\")\n",
    "else:\n",
    "    print(\"not found\")\n",
    "\n",
    "# a=re.sub(\"Demin\",\"Demon\",name)  #replace using sub\n",
    "# print(a)\n",
    "\n",
    "print(name.find(\"my\")) #find the indexin start of the word\n"
   ]
  },
  {
   "cell_type": "code",
   "execution_count": null,
   "metadata": {},
   "outputs": [
    {
     "name": "stdout",
     "output_type": "stream",
     "text": [
      "['Hello', 'rai']\n"
     ]
    }
   ],
   "source": [
    "my_string=\"Hello rai\" \n",
    "split_text = my_string.split(\" \")\n",
    "print(split_text)"
   ]
  },
  {
   "cell_type": "code",
   "execution_count": null,
   "metadata": {},
   "outputs": [
    {
     "name": "stdout",
     "output_type": "stream",
     "text": [
      "          * \n",
      "        * * * \n",
      "      * * * * * \n",
      "    * * * * * * * \n",
      "  * * * * * * * * * \n",
      "* * * * * * * * * * * \n"
     ]
    }
   ],
   "source": [
    "a=int(input(\"enter row \"))\n",
    "for i in range(a):\n",
    "   for j in range(a-i-1):\n",
    "     print(\" \",end=\" \")\n",
    "   for j in range(2*i+1):\n",
    "      print(\"*\",end=\" \") \n",
    "   print()\n",
    "\n",
    "\n"
   ]
  },
  {
   "cell_type": "markdown",
   "metadata": {},
   "source": []
  },
  {
   "cell_type": "code",
   "execution_count": null,
   "metadata": {},
   "outputs": [
    {
     "name": "stdout",
     "output_type": "stream",
     "text": [
      "*************\n",
      " ***********\n",
      "  *********\n",
      "   *******\n",
      "    *****\n",
      "     ***\n",
      "      *\n"
     ]
    }
   ],
   "source": [
    "d=int(input(\"any number\"))\n",
    "for i in range(d):\n",
    "    for j in range(i):\n",
    "     print(\" \",end=\"\")\n",
    "    for j in range(2*(d-i)-1):\n",
    "       print(\"*\",end=\"\")\n",
    "    print()"
   ]
  },
  {
   "cell_type": "code",
   "execution_count": null,
   "metadata": {},
   "outputs": [],
   "source": []
  },
  {
   "cell_type": "markdown",
   "metadata": {},
   "source": [
    "if else check condition nwhile for loop repetation"
   ]
  },
  {
   "cell_type": "markdown",
   "metadata": {},
   "source": [
    "list in python\n",
    "mutiple item into single variable,have duplicate items\n",
    "[] change,add,remove\n",
    "len() to find the length of items\n"
   ]
  },
  {
   "cell_type": "code",
   "execution_count": null,
   "metadata": {},
   "outputs": [],
   "source": [
    "#list creation use list() function\n",
    "listq=list()\n",
    "liste=[]\n",
    "\n"
   ]
  },
  {
   "cell_type": "markdown",
   "metadata": {},
   "source": [
    "indexing list\n",
    "variable[index]start for 0 [strt:end:initerval]\n",
    "\n",
    "check if using (if \"item\" in)\n",
    " for i in  range(len(variable))\n",
    " index\n",
    "\n",
    "use range to loop integer range()\n",
    "\n",
    "change value\n",
    "variable[index]=\"change item\"\n",
    "\n",
    "multiple item by single\n",
    "variable[index:index]=[\"change item\"]\n",
    "\n",
    "# exception case!!\n",
    "\n",
    "fruit = [\"apple\", \"banana\", \"cherry\", \"orange\", \"kiwi\", \"mango\"]\n",
    "fruit[-1:-4] = [\"blackcurrant\", \"watermelon\"]\n",
    "print(fruit)\n",
    "\n",
    "intead of replace it insert"
   ]
  },
  {
   "cell_type": "markdown",
   "metadata": {},
   "source": [
    "insert used insert function\n",
    "insert(1(index where to),\"name\")\n",
    "append.(\"\") fixed"
   ]
  },
  {
   "cell_type": "markdown",
   "metadata": {},
   "source": [
    "extend list\n",
    ".extend function\n",
    "variable.extend(vaeiable)\n",
    "\n",
    "remove\n",
    ".remove(\"\")\n",
    ".pop()\n",
    "\n",
    "del vari[index] \n",
    "\n",
    "del list full list delet\n",
    "\n",
    ".clear() item minside list will be delete"
   ]
  },
  {
   "cell_type": "code",
   "execution_count": null,
   "metadata": {},
   "outputs": [],
   "source": [
    "fruit = [\"apple\", \"banana\", \"cherry\", \"orange\", \"kiwi\", \"mango\"]\n",
    "for x in  range(len(fruit)): \n",
    "    print(x)\n",
    "#find present or not\n",
    "    if \"orange\" in fruit:\n",
    "        print(\"it is present\")\n",
    "        break\n",
    "#add    \n",
    "fruit.insert(5,\"pineapple\")\n",
    "print(fruit)\n",
    "\n",
    "#add in  last\n",
    "fruit.append(\"pineapple\")\n",
    "print(fruit)\n",
    "#fruit.clear()\n",
    "\n",
    "#chane item\n",
    "print(fruit)\n",
    "fruit[3]=\"coconut\"\n",
    "print(fruit)\n",
    " \n",
    "#merge\n",
    "animal=[\"dog\",\"cat\",\"lion\"]\n",
    "fruit.extend(animal)\n",
    "print(fruit)"
   ]
  },
  {
   "cell_type": "code",
   "execution_count": null,
   "metadata": {},
   "outputs": [
    {
     "name": "stdout",
     "output_type": "stream",
     "text": [
      "[]\n",
      "apple\n",
      "5\n",
      "[5]\n",
      "banana\n",
      "6\n",
      "[5, 6]\n",
      "cherry\n",
      "6\n",
      "[5, 6, 6]\n",
      "orange\n",
      "6\n",
      "[5, 6, 6, 6]\n",
      "kiwi\n",
      "4\n",
      "[5, 6, 6, 6, 4]\n",
      "mango\n",
      "5\n",
      "[5, 6, 6, 6, 4, 5]\n"
     ]
    }
   ],
   "source": [
    "#replace the lisr with the lenght of each item\n",
    "fruit = [\"apple\", \"banana\", \"cherry\", \"orange\", \"kiwi\", \"mango\"]\n",
    "name=[]\n",
    "print(name)\n",
    "for x in  fruit:\n",
    "    #print(x, len(x))\n",
    "    print(x)\n",
    "    length=len(x)\n",
    "    print(length)\n",
    "    name.append(length)\n",
    "    print(name)"
   ]
  },
  {
   "cell_type": "code",
   "execution_count": null,
   "metadata": {},
   "outputs": [
    {
     "ename": "TypeError",
     "evalue": "'int' object is not iterable",
     "output_type": "error",
     "traceback": [
      "\u001b[1;31m---------------------------------------------------------------------------\u001b[0m\n",
      "\u001b[1;31mTypeError\u001b[0m                                 Traceback (most recent call last)\n",
      "Cell \u001b[1;32mIn[1], line 2\u001b[0m\n",
      "\u001b[0;32m      1\u001b[0m b\u001b[38;5;241m=\u001b[39m[]\n",
      "\u001b[1;32m----> 2\u001b[0m \u001b[43mb\u001b[49m\u001b[38;5;241;43m.\u001b[39;49m\u001b[43mextend\u001b[49m\u001b[43m(\u001b[49m\u001b[38;5;241;43m4\u001b[39;49m\u001b[43m)\u001b[49m\n",
      "\u001b[0;32m      3\u001b[0m b\u001b[38;5;241m.\u001b[39mextend(\u001b[38;5;241m8\u001b[39m)\n",
      "\n",
      "\u001b[1;31mTypeError\u001b[0m: 'int' object is not iterable"
     ]
    }
   ],
   "source": [
    "b=[]\n",
    "b.extend(4)\n",
    "b.extend(8)"
   ]
  },
  {
   "cell_type": "code",
   "execution_count": null,
   "metadata": {},
   "outputs": [
    {
     "name": "stdout",
     "output_type": "stream",
     "text": [
      "initially []\n",
      "apple\n",
      "5\n",
      "[5]\n",
      "banana\n",
      "6\n",
      "[5, 6]\n",
      "cherry\n",
      "6\n",
      "[5, 6, 6]\n",
      "orange\n",
      "6\n",
      "[5, 6, 6, 6]\n",
      "kiwi\n",
      "4\n",
      "[5, 6, 6, 6, 4]\n",
      "mango\n",
      "5\n",
      "[5, 6, 6, 6, 4, 5]\n"
     ]
    }
   ],
   "source": [
    "A=[]\n",
    "print(\"initially\",A)\n",
    "for i in fruit:\n",
    "    print(i)\n",
    "    h=len(i)\n",
    "    print(h)\n",
    "    A.append(h)\n",
    "    print(A)"
   ]
  },
  {
   "cell_type": "code",
   "execution_count": null,
   "metadata": {},
   "outputs": [
    {
     "name": "stdout",
     "output_type": "stream",
     "text": [
      "Game_1= ['baseball']\n",
      "_game4 = ['VOLLEYBALL']\n",
      "_game5 =  ['Basketball']\n",
      "['VOLLEYBALL', 'Basketball']\n",
      "all element have length less oe equal t0 9 =  ['Football', 'cricket', 'baseball']\n",
      "item length is greater than 9 = ['Basketball']\n",
      "['Football', 'VOLLEYBALL', 'cricket', 'baseball', 'Basketball', 'HOCKEY', 'BADMNTON', 'baseball']\n",
      "lengthof items  is = 8\n",
      "lengthof items  is = 10\n",
      "lengthof items  is = 7\n",
      "lengthof items  is = 8\n",
      "lengthof items  is = 10\n",
      "lengthof items  is = 6\n",
      "lengthof items  is = 8\n",
      "lengthof items  is = 8\n",
      "['Football', 'VOLLEYBALL', 'baseball', 'Basketball', 'Basketball', 'HOCKEY', 'BADMNTON', 'baseball']\n",
      "['Football', 'VOLLEYBALL', 'Caroom', 'Basketball', 'Basketball', 'HOCKEY', 'BADMNTON', 'baseball']\n",
      "['Football', 'Chess', 'VOLLEYBALL', 'Caroom', 'Basketball', 'Basketball', 'HOCKEY', 'BADMNTON', 'baseball']\n",
      "['Football', 'Chess', 'Caroom', 'Basketball', 'Basketball', 'HOCKEY', 'BADMNTON', 'baseball', 'Ludo']\n",
      "['Chess', 'Caroom', 'Basketball', 'Basketball', 'HOCKEY', 'BADMNTON', 'baseball', 'Ludo']\n",
      "[4]\n",
      "1\n",
      "1 is not a prime number\n",
      "2\n",
      "2 is a prime number\n",
      "3\n",
      "3 is a prime number\n",
      "4\n",
      "4 is not a prime number\n",
      "2 times 2is 4\n",
      "5\n",
      "5 is a prime number\n",
      "6\n",
      "6 is not a prime number\n",
      "2 times 3is 6\n",
      "7\n",
      "7 is a prime number\n",
      "8\n",
      "8 is not a prime number\n",
      "2 times 4is 8\n",
      "9\n",
      "9 is not a prime number\n",
      "3 times 3is 9\n",
      "10\n",
      "10 is not a prime number\n",
      "2 times 5is 10\n",
      "11\n",
      "11 is a prime number\n",
      "12\n",
      "12 is not a prime number\n",
      "2 times 6is 12\n",
      "13\n",
      "13 is a prime number\n",
      "14\n",
      "14 is not a prime number\n",
      "2 times 7is 14\n",
      "15\n",
      "15 is not a prime number\n",
      "3 times 5is 15\n",
      "16\n",
      "16 is not a prime number\n",
      "2 times 8is 16\n",
      "17\n",
      "17 is a prime number\n",
      "18\n",
      "18 is not a prime number\n",
      "2 times 9is 18\n",
      "19\n",
      "19 is a prime number\n",
      "20\n",
      "20 is not a prime number\n",
      "2 times 10is 20\n",
      "21\n",
      "21 is not a prime number\n",
      "3 times 7is 21\n",
      "22\n",
      "22 is not a prime number\n",
      "2 times 11is 22\n",
      "23\n",
      "23 is a prime number\n",
      "24\n",
      "24 is not a prime number\n",
      "2 times 12is 24\n",
      "25\n",
      "25 is not a prime number\n",
      "5 times 5is 25\n",
      "26\n",
      "26 is not a prime number\n",
      "2 times 13is 26\n",
      "27\n",
      "27 is not a prime number\n",
      "3 times 9is 27\n",
      "28\n",
      "28 is not a prime number\n",
      "2 times 14is 28\n",
      "29\n",
      "29 is a prime number\n",
      "30\n",
      "30 is not a prime number\n",
      "2 times 15is 30\n",
      "31\n",
      "31 is a prime number\n",
      "32\n",
      "32 is not a prime number\n",
      "2 times 16is 32\n",
      "33\n",
      "33 is not a prime number\n",
      "3 times 11is 33\n",
      "34\n",
      "34 is not a prime number\n",
      "2 times 17is 34\n",
      "35\n",
      "35 is not a prime number\n",
      "5 times 7is 35\n",
      "36\n",
      "36 is not a prime number\n",
      "2 times 18is 36\n",
      "37\n",
      "37 is a prime number\n",
      "38\n",
      "38 is not a prime number\n",
      "2 times 19is 38\n",
      "39\n",
      "39 is not a prime number\n",
      "3 times 13is 39\n",
      "40\n",
      "40 is not a prime number\n",
      "2 times 20is 40\n",
      "41\n",
      "41 is a prime number\n",
      "42\n",
      "42 is not a prime number\n",
      "2 times 21is 42\n",
      "43\n",
      "43 is a prime number\n",
      "44\n",
      "44 is not a prime number\n",
      "2 times 22is 44\n",
      "45\n",
      "45 is not a prime number\n",
      "3 times 15is 45\n",
      "46\n",
      "46 is not a prime number\n",
      "2 times 23is 46\n",
      "47\n",
      "47 is a prime number\n",
      "48\n",
      "48 is not a prime number\n",
      "2 times 24is 48\n",
      "49\n",
      "49 is not a prime number\n",
      "7 times 7is 49\n",
      "50\n",
      "50 is not a prime number\n",
      "2 times 25is 50\n",
      "51\n",
      "51 is not a prime number\n",
      "3 times 17is 51\n",
      "52\n",
      "52 is not a prime number\n",
      "2 times 26is 52\n",
      "53\n",
      "53 is a prime number\n",
      "54\n",
      "54 is not a prime number\n",
      "2 times 27is 54\n",
      "55\n",
      "55 is not a prime number\n",
      "5 times 11is 55\n",
      "56\n",
      "56 is not a prime number\n",
      "2 times 28is 56\n",
      "57\n",
      "57 is not a prime number\n",
      "3 times 19is 57\n",
      "58\n",
      "58 is not a prime number\n",
      "2 times 29is 58\n",
      "59\n",
      "59 is a prime number\n"
     ]
    }
   ],
   "source": [
    "Game_1=[\"Football\",\"VOLLEYBALL\",\"cricket\",\"baseball\"]\n",
    "_Game2=[\"Basketball\",\"HOCKEY\",\"BADMNTON\",\"baseball\"]\n",
    "_Game3=[]\n",
    "_game4=[]\n",
    "_game5=[]\n",
    "_game6=[]\n",
    "_game7=[]\n",
    "_game8=[]\n",
    "who=[]\n",
    "# find the same items\n",
    "for i in Game_1:\n",
    "    for j in _Game2:\n",
    "        if i in j:\n",
    "         _Game3.append(i)\n",
    "print(f\"Game_1=\",_Game3)    \n",
    "\n",
    "# find the upper case item and print the item  in the empty list       \n",
    "for k in Game_1:\n",
    "      if k==k.upper():\n",
    "        _game4.append(k)\n",
    "        break\n",
    "      \n",
    "#  find the title case and print it      \n",
    "for l in _Game2:     \n",
    "      if l==l.title():\n",
    "        _game5.append(l)\n",
    "        break\n",
    "print(f\"_game4 =\",_game4)\n",
    "print(f\"_game5 = \",_game5)\n",
    "\n",
    "# add items formm _game5 to _game4\n",
    "_game4.extend(_game5)\n",
    "print(_game4)\n",
    "\n",
    "#find the lenght and store in  dofferent empty list\n",
    "for  d in Game_1:\n",
    "    if (len(d)<=9):\n",
    "        _game6.append(d)\n",
    "print( f\"all element have length less oe equal t0 9 = \",_game6)   \n",
    "\n",
    "for e in _Game2:\n",
    "    if (len(e)>9):\n",
    "        _game7.append(e)\n",
    "print(f\"item length is greater than 9 =\",_game7)\n",
    "\n",
    "#add one list to other\n",
    "Game_1.extend(_Game2)\n",
    "print(Game_1)\n",
    "for q in Game_1:\n",
    "    length=len(q)\n",
    "    print(f\"lengthof items  is =\",length)\n",
    "    \n",
    "# replace the item indexing\n",
    "Game_1[2],Game_1[3],Game_1[6]=Game_1[3],Game_1[4],Game_1[6]\n",
    "print(Game_1)\n",
    "\n",
    "#change item\n",
    "Game_1[2]=\"Caroom\"\n",
    "print(Game_1)\n",
    "\n",
    "#insert or add\n",
    "Game_1.insert(1,\"Chess\")\n",
    "print(Game_1)\n",
    "Game_1.append(\"Ludo\")\n",
    "\n",
    "#delete\n",
    "del Game_1[2]\n",
    "print(Game_1)\n",
    "\n",
    "Game_1.remove(\"Football\")\n",
    "print(Game_1)\n",
    "\n",
    "#even number and made oven number then extend to another list\n",
    "a=int(input(\"enter 1st number\"))\n",
    "b=int(input(\"second number\"))\n",
    "for w in range(a,b):\n",
    "    if w%2==0:\n",
    "        _game8.append(w)\n",
    "    else:\n",
    "        _game5.append(w)\n",
    "print(_game8)\n",
    "\n",
    "\n",
    "\n",
    "        "
   ]
  },
  {
   "cell_type": "code",
   "execution_count": null,
   "metadata": {},
   "outputs": [],
   "source": []
  },
  {
   "cell_type": "markdown",
   "metadata": {},
   "source": []
  },
  {
   "cell_type": "code",
   "execution_count": null,
   "metadata": {},
   "outputs": [
    {
     "name": "stdout",
     "output_type": "stream",
     "text": [
      "0 is not a prime number\n",
      "1 is not a prime number\n",
      "2 is a prime number\n",
      "3 is a prime number\n",
      "4 is not a prime number\n",
      "2 times 2.0 is 4\n",
      "5 is a prime number\n",
      "6 is not a prime number\n",
      "2 times 3.0 is 6\n",
      "7 is a prime number\n",
      "8 is not a prime number\n",
      "2 times 4.0 is 8\n",
      "9 is not a prime number\n",
      "3 times 3.0 is 9\n",
      "10 is not a prime number\n",
      "2 times 5.0 is 10\n",
      "11 is a prime number\n",
      "12 is not a prime number\n",
      "2 times 6.0 is 12\n",
      "13 is a prime number\n",
      "14 is not a prime number\n",
      "2 times 7.0 is 14\n",
      "15 is not a prime number\n",
      "3 times 5.0 is 15\n",
      "16 is not a prime number\n",
      "2 times 8.0 is 16\n",
      "17 is a prime number\n",
      "18 is not a prime number\n",
      "2 times 9.0 is 18\n",
      "19 is a prime number\n",
      "20 is not a prime number\n",
      "2 times 10.0 is 20\n",
      "21 is not a prime number\n",
      "3 times 7.0 is 21\n",
      "22 is not a prime number\n",
      "2 times 11.0 is 22\n",
      "23 is a prime number\n",
      "24 is not a prime number\n",
      "2 times 12.0 is 24\n",
      "25 is not a prime number\n",
      "5 times 5.0 is 25\n",
      "26 is not a prime number\n",
      "2 times 13.0 is 26\n",
      "27 is not a prime number\n",
      "3 times 9.0 is 27\n",
      "28 is not a prime number\n",
      "2 times 14.0 is 28\n",
      "29 is a prime number\n",
      "30 is not a prime number\n",
      "2 times 15.0 is 30\n",
      "31 is a prime number\n",
      "32 is not a prime number\n",
      "2 times 16.0 is 32\n",
      "33 is not a prime number\n",
      "3 times 11.0 is 33\n",
      "34 is not a prime number\n",
      "2 times 17.0 is 34\n",
      "35 is not a prime number\n",
      "5 times 7.0 is 35\n",
      "36 is not a prime number\n",
      "2 times 18.0 is 36\n",
      "37 is a prime number\n",
      "38 is not a prime number\n",
      "2 times 19.0 is 38\n",
      "39 is not a prime number\n",
      "3 times 13.0 is 39\n",
      "40 is not a prime number\n",
      "2 times 20.0 is 40\n",
      "41 is a prime number\n",
      "42 is not a prime number\n",
      "2 times 21.0 is 42\n",
      "43 is a prime number\n",
      "44 is not a prime number\n",
      "2 times 22.0 is 44\n",
      "45 is not a prime number\n",
      "3 times 15.0 is 45\n",
      "46 is not a prime number\n",
      "2 times 23.0 is 46\n",
      "47 is a prime number\n",
      "48 is not a prime number\n",
      "2 times 24.0 is 48\n",
      "49 is not a prime number\n",
      "7 times 7.0 is 49\n",
      "50 is not a prime number\n",
      "2 times 25.0 is 50\n",
      "51 is not a prime number\n",
      "3 times 17.0 is 51\n",
      "52 is not a prime number\n",
      "2 times 26.0 is 52\n",
      "53 is a prime number\n",
      "54 is not a prime number\n",
      "2 times 27.0 is 54\n",
      "55 is not a prime number\n",
      "5 times 11.0 is 55\n",
      "56 is not a prime number\n",
      "2 times 28.0 is 56\n",
      "57 is not a prime number\n",
      "3 times 19.0 is 57\n",
      "58 is not a prime number\n",
      "2 times 29.0 is 58\n",
      "59 is a prime number\n"
     ]
    }
   ],
   "source": [
    "for m in  range(0,60):\n",
    " if  m== 0 or m == 1:\n",
    "    print(m, \"is not a prime number\")\n",
    " elif m> 1:\n",
    "   for i in range(2,m):\n",
    "       if (m % i) == 0:\n",
    "           print(f\"{m} is not a prime number\")\n",
    "           print(f\"{i} times {m/i} is\",m)\n",
    "           break\n",
    "   \n",
    "   else:\n",
    "       print(m,\"is a prime number\")\n"
   ]
  },
  {
   "cell_type": "markdown",
   "metadata": {},
   "source": [
    "Execise:\n",
    "n=4\n",
    "for x in  range(1,1)\n",
    "print(f\"{n} X {x}=\",{n*x})\n",
    "\n"
   ]
  },
  {
   "cell_type": "markdown",
   "metadata": {},
   "source": []
  },
  {
   "cell_type": "code",
   "execution_count": null,
   "metadata": {},
   "outputs": [
    {
     "name": "stdout",
     "output_type": "stream",
     "text": [
      "[12, 24, 36]\n",
      "[]\n",
      "[4, 8, 16, 20, 28, 32, 40]\n",
      "4 is even\n",
      "4\n",
      "8 is even\n",
      "8\n",
      "16 is even\n",
      "16\n",
      "20 is even\n",
      "20\n",
      "28 is even\n",
      "28\n",
      "32 is even\n",
      "32\n",
      "40 is even\n",
      "40\n"
     ]
    }
   ],
   "source": [
    "o=4\n",
    "m=[]\n",
    "k=[]\n",
    "q=[]\n",
    "for x in range(1,11):\n",
    "    d=x*o\n",
    "    if d%3==0:\n",
    "        m.append(d)\n",
    "    elif d%6==0:\n",
    "        k.append(d)\n",
    "    else:\n",
    "        q.append(d)    \n",
    "print(m)\n",
    "print(k)\n",
    "print(q)\n",
    "for g in q:\n",
    "    if g%2==0:\n",
    "        print(f\"{g} is even\")\n",
    "    else:\n",
    "        print(\"odd\")\n",
    "    \n",
    "          \n"
   ]
  },
  {
   "cell_type": "code",
   "execution_count": null,
   "metadata": {},
   "outputs": [],
   "source": []
  },
  {
   "cell_type": "code",
   "execution_count": null,
   "metadata": {},
   "outputs": [
    {
     "name": "stdout",
     "output_type": "stream",
     "text": [
      "Tiger\n",
      "Lion\n",
      "Penguin\n",
      "Cheetah\n"
     ]
    }
   ],
   "source": [
    "animals_1 = [\"Elephant\", \"Tiger\", \"Giraffe\", \"Kangaroo\", \"Dolphin\", \n",
    "           \"Panda\", \"Zebra\", \"Lion\", \"Penguin\", \"Cheetah\"]\n",
    "           \n",
    "animals_2 = [\"Jackal\", \"tiger\",  \"LION\", \"Penguin\", \"Monkey\", \"Cheetah\"]\n",
    "\n",
    "for f in animals_1:\n",
    "    for j in animals_2:\n",
    "        if f.lower() in j.lower():\n",
    "            print(f)"
   ]
  },
  {
   "cell_type": "code",
   "execution_count": null,
   "metadata": {},
   "outputs": [
    {
     "name": "stdout",
     "output_type": "stream",
     "text": [
      "9999\n",
      "4\n"
     ]
    }
   ],
   "source": [
    "number=[4,44,56,79,9999]\n",
    "a=sorted(number)\n",
    "print(a[-1])\n",
    "print(a[0])\n"
   ]
  },
  {
   "cell_type": "code",
   "execution_count": null,
   "metadata": {},
   "outputs": [
    {
     "ename": "SyntaxError",
     "evalue": "invalid syntax (1290524641.py, line 2)",
     "output_type": "error",
     "traceback": [
      "\u001b[1;36m  Cell \u001b[1;32mIn[4], line 2\u001b[1;36m\u001b[0m\n",
      "\u001b[1;33m    list=tuple(list_1)\u001b[0m\n",
      "\u001b[1;37m    ^\u001b[0m\n",
      "\u001b[1;31mSyntaxError\u001b[0m\u001b[1;31m:\u001b[0m invalid syntax\n"
     ]
    }
   ],
   "source": [
    "list_1 = [4,2,52,81,816,66,238,386,23,33,11,78789]\n",
    "for d in  list_1:\n",
    "    if d%2==0:\n",
    "        print(d)\n",
    "        list_1.remove(d)\n",
    "print(list_1)\n"
   ]
  },
  {
   "cell_type": "code",
   "execution_count": null,
   "metadata": {},
   "outputs": [
    {
     "name": "stdout",
     "output_type": "stream",
     "text": [
      "6 5\n"
     ]
    }
   ],
   "source": [
    "#swap\n",
    "a=5\n",
    "b=6\n",
    "a,b = b,a\n",
    "print(a,b)\n"
   ]
  },
  {
   "cell_type": "markdown",
   "metadata": {},
   "source": [
    "Tuple\n",
    "stored multiple elements in  variable\n",
    "it is ordered,unchange , immutable ()\n",
    "allow duplicate elements\n",
    "single value (\"\", tuple)\n",
    "\n",
    "\n",
    "type casting\n",
    "=tuple()\n",
    "=list()\n"
   ]
  },
  {
   "cell_type": "markdown",
   "metadata": {},
   "source": [
    "loop tuple using while loop\n",
    "\n"
   ]
  },
  {
   "cell_type": "code",
   "execution_count": null,
   "metadata": {},
   "outputs": [
    {
     "name": "stdout",
     "output_type": "stream",
     "text": [
      "car\n",
      "bus\n",
      "bike\n",
      "1\n",
      "99\n"
     ]
    }
   ],
   "source": [
    "v=(\"car\",\"bus\",\"bike\",\"1\",\"99\")\n",
    "i=0\n",
    "while i < len(v):\n",
    "    print(v[i])\n",
    "    i=i+1"
   ]
  },
  {
   "cell_type": "markdown",
   "metadata": {},
   "source": [
    "Python set\n",
    "not allow duplicate value, unordered, uniindexed\n",
    "major data type show minor terminate\n",
    "\n",
    ".add()\n",
    "to add in set\n",
    "\n",
    "add two set \n",
    ".update()\n",
    "\n",
    "\n",
    "remove\n",
    ".remove()\n",
    "\n",
    "set.union(set)\n",
    "set.intersection(set)\n",
    "assign  in  third set if done union\n",
    "while update is done in previous set\n",
    "\n",
    "\n"
   ]
  },
  {
   "cell_type": "markdown",
   "metadata": {},
   "source": [
    "dict\n",
    "keys :value\n",
    "it is in ordered\n",
    "key should be unique\n",
    "key cannot de duplicate while valus may be \n",
    "\n",
    "\n",
    "\n",
    "nested dictionary\n",
    "\n"
   ]
  },
  {
   "cell_type": "code",
   "execution_count": null,
   "metadata": {},
   "outputs": [
    {
     "name": "stdout",
     "output_type": "stream",
     "text": [
      "{'student_1': {'name': 'Anil', 'year': 1999, 'Address': 'beltar'}, 'student_2': {'name': 'sita', 'Year': 2000, 'Address': 'basha'}}\n"
     ]
    },
    {
     "data": {
      "text/plain": [
       "'Anil'"
      ]
     },
     "metadata": {},
     "output_type": "display_data"
    }
   ],
   "source": [
    "student_1={\n",
    "    \"name\":\"Anil\",\"year\":1999,\"Address\":\"beltar\"\n",
    "}\n",
    "student_2={\n",
    "    \"name\":\"sita\",\"Year\":2000,\"Address\":\"basha\"\n",
    "}\n",
    "\n",
    "#get keys and values\n",
    "student_1.keys()\n",
    "student_1.values()\n",
    "len(student_1)\n",
    "\n",
    "\n",
    "\n",
    "#nested dict \n",
    "student={\n",
    "    \"student_1\":student_1,\"student_2\":student_2\n",
    "}\n",
    "\n",
    "#access \n",
    "student\n",
    "student_2[\"name\"]\n",
    "student_2.get('name')\n",
    "\n",
    "print(student)\n",
    "student.get(\"student_1\").get(\"name\")  #acess inside the nested values\n"
   ]
  },
  {
   "cell_type": "code",
   "execution_count": null,
   "metadata": {},
   "outputs": [],
   "source": [
    "#The zip() function combines the two lists into pairs of corresponding items (key-value pairs).\n",
    "#“zip_longest(): Makes an iterator that aggregates elements from each of the iterables. If iterables are of uneven length, missing value is filled with fillvalue. Iteration continues until the longest iterable is exhausted.”"
   ]
  },
  {
   "cell_type": "code",
   "execution_count": null,
   "metadata": {},
   "outputs": [],
   "source": []
  },
  {
   "cell_type": "code",
   "execution_count": null,
   "metadata": {},
   "outputs": [
    {
     "name": "stdout",
     "output_type": "stream",
     "text": [
      "the sum of th erange number is : 12\n"
     ]
    }
   ],
   "source": [
    "a=int(input(\"enter the number\"))\n",
    "b=int(input(\"enter the number\"))\n",
    "sum=0\n",
    "for x in range (a,b):\n",
    "    sum=sum+x\n",
    "print(f\"the sum of th erange number is : {sum}\")"
   ]
  },
  {
   "cell_type": "code",
   "execution_count": null,
   "metadata": {},
   "outputs": [],
   "source": []
  },
  {
   "cell_type": "code",
   "execution_count": null,
   "metadata": {},
   "outputs": [
    {
     "name": "stdout",
     "output_type": "stream",
     "text": [
      "['demon', 'rai', [12, 24, 56, [23, 6], 'ram'], 'sam', 'hari']\n",
      "['demon', 'rai', [12, 24, 56, [23, 6, 8888], 'ram'], 'sam', 'hari']\n",
      "['demon', 'rai', [12, 24, 56, [23, 6], 'ram'], 'sam', 'hari']\n"
     ]
    }
   ],
   "source": [
    "list2=['demon','rai',[12,24,56,[23,6,],'ram'],'sam','hari']\n",
    "print(list2)\n",
    "#add \n",
    "list2.index('rai')\n",
    "list2[2].index(56)\n",
    "list2[2][3].insert(2,8888)\n",
    "print(list2)\n",
    "\n",
    "#delete the elemmts\n",
    "del list2[2][3][2]\n",
    "print(list2)"
   ]
  },
  {
   "cell_type": "markdown",
   "metadata": {},
   "source": [
    "set\n"
   ]
  },
  {
   "cell_type": "code",
   "execution_count": null,
   "metadata": {},
   "outputs": [
    {
     "name": "stdout",
     "output_type": "stream",
     "text": [
      "{'Football', 'singing', 'Fising', 'hiking', 'Cricket', 'Dancing'}\n",
      "{'Football', 'singing', 'Fising', 'Cricket', 'Hockey', 'Golf', 'Dancing', 'hiking', 'Chess', 'boxing', 'Volleyball'}\n",
      "{'Football', 'singing', 'Fising', 'Cricket', 'Hockey', 'Golf', 'Dancing', 'hiking', 'Painiting', 'Chess', 'boxing', 'Volleyball'}\n"
     ]
    },
    {
     "data": {
      "text/plain": [
       "set"
      ]
     },
     "metadata": {},
     "output_type": "display_data"
    }
   ],
   "source": [
    "#A student like to do in vacation\n",
    "#B student who like in vacation\n",
    "A={\"Football\",\"Volleyball\",\"Hockey\",\"Chess\",\"Cricket\",\"Golf\",\"boxing\"}\n",
    "B={\"singing\",\"Dancing\",\"hiking\",\"Football\",\"Cricket\",\"Fising\"}\n",
    "\n",
    "#find a union b\n",
    "C=A.union(B)\n",
    "print(B)\n",
    "\n",
    "#intersection A anb B having in common\n",
    "A&B\n",
    "A.intersection(B)\n",
    "\n",
    "#only like A\n",
    "A.difference(B)\n",
    "\n",
    "#only like B\n",
    "B.difference(A)\n",
    "\n",
    "#whether the B is a subset of A\n",
    "B.issubset(A)\n",
    "\n",
    "#checkk disjoint set\n",
    "B.isdisjoint(A)\n",
    "\n",
    "print(C)\n",
    "C.add(\"Painiting\")\n",
    "print(C)\n",
    "\n",
    "C.remove(\"Football\")\n",
    "type(C)"
   ]
  },
  {
   "cell_type": "code",
   "execution_count": 2,
   "metadata": {},
   "outputs": [
    {
     "name": "stdout",
     "output_type": "stream",
     "text": [
      "{'Stu_1': {'Name': 'Demon_rai', 'Age': 24, 'Roll': 100, 'Address': 'Bhojpur'}, 'Stu_2': {'Name': 'Akash_Magar', 'Roll': 10, 'Address': 'Jhapa'}, 'Stu_3': {'Name': 'Ram_Sham', 'Age': 20, 'Roll': 90, 'Address': 'kailali', 'ok': 'Good'}, 'Stu_4': {'Name': 'Shyam_Hari', 'Age': 30, 'Roll': 1, 'Adress': 'Butwal'}, 'Stu_5': {'Name': 'Ram_lal', 'Age': 19, 'Roll': 2, 'Address': 'Kathmandu'}}\n",
      "['Address', 'Age', 'Name']\n",
      "Address\n",
      "Age\n",
      "Name\n",
      "{'Address': 'Kathmandu', 'Age': 19, 'Name': 'Ram_lal'}\n"
     ]
    }
   ],
   "source": [
    "Stu_1={ \"Name\":\"Demon_rai\",\n",
    "       \"Age\":24,\n",
    "       \"Roll\":100,\n",
    "       \"Address\":\"Udayapur\"\n",
    "\n",
    "}\n",
    "Stu_2={\"Name\":\"Akash_Magar\",\n",
    "       \"Age\":29,\n",
    "       \"Roll\":10,\n",
    "       \"Address\":\"Jhapa\"\n",
    "}\n",
    "Stu_3={\"Name\":\"Ram_Sham\",\n",
    "       \"Age\":20,\n",
    "       \"Roll\":90,\n",
    "       \"Address\":\"kailali\"\n",
    "}\n",
    "Stu_4={\"Name\":\"Shyam_Hari\",\n",
    "       \"Age\":30,\n",
    "       \"Roll\":1,\n",
    "        \"Adress\":\"Butwal\"\n",
    "}\n",
    "Stu_5={\"Name\":\"Ram_lal\",\n",
    "       \"Age\":19,\n",
    "       \"Roll\":2,\n",
    "       \"Address\":\"Kathmandu\"\n",
    "\n",
    "}\n",
    "\n",
    "Class_Room={\n",
    "    \"Stu_1\":Stu_1,\n",
    "    \"Stu_2\":Stu_2,\n",
    "    \"Stu_3\":Stu_3,\n",
    "    \"Stu_4\":Stu_4,\n",
    "    \"Stu_5\":Stu_5\n",
    "}\n",
    "\n",
    "#print(Class_Room)\n",
    "Class_Room.keys()\n",
    "Class_Room.values()\n",
    "\n",
    "#change\n",
    "Stu_1[\"Address\"]='Bhojpur'\n",
    "#print(Class_Room)\n",
    "\n",
    "#remove\n",
    "Stu_2.pop(\"Age\")\n",
    "#print(Class_Room)\n",
    "\n",
    "#add  key and values\n",
    "Stu_3.update({\"ok\":\"Good\"})\n",
    "\n",
    "print(Class_Room)\n",
    "\n",
    "#loop through nested dictionaries\n",
    "#for x,de in Class_Room.items():\n",
    " #   print(x)\n",
    "  #  for y in  de:\n",
    "   #     print(f\" {y} :de{y}\")\n",
    "#\n",
    "\n",
    "#extract meintioned keys\n",
    "news={}\n",
    "Keys=[\"Address\",\"Age\",\"Name\"]\n",
    "print(Keys)\n",
    "for k in Keys:\n",
    "    print(k)\n",
    "    news.update({k:Stu_5[k]})\n",
    "print(news)\n",
    "\n",
    "for i in Class_Room:\n",
    "    print(i)\n",
    "for i,j in Class_Room.items():\n",
    "    print(i,j)"
   ]
  },
  {
   "cell_type": "markdown",
   "metadata": {},
   "source": [
    "loop in dict"
   ]
  },
  {
   "cell_type": "code",
   "execution_count": null,
   "metadata": {},
   "outputs": [
    {
     "name": "stdout",
     "output_type": "stream",
     "text": [
      "{'brand': 'Ford', 'model': 'Mutang', 'Year': 1964}\n",
      "{'brand': 'Ford', 'Year': 1964}\n",
      "{'brand': 'Ford', 'Year': 1964, 'Price': 200000}\n"
     ]
    }
   ],
   "source": [
    "dict={\n",
    "    \"brand\":\"Ford\",\n",
    "    \"model\":\"Mutang\",\n",
    "    \"Year\":1964\n",
    "}\n",
    "\n",
    "print(dict)\n",
    "dict.pop(\"model\")   #remove th dict keys\n",
    "print(dict)\n",
    "dict.update({\"Price\":200000})  #update\n",
    "print(dict)\n",
    "\n"
   ]
  },
  {
   "cell_type": "code",
   "execution_count": null,
   "metadata": {},
   "outputs": [
    {
     "name": "stdout",
     "output_type": "stream",
     "text": [
      "brand\n",
      "Year\n",
      "Price\n",
      "brand Ford\n",
      "Year 1964\n",
      "Price 200000\n"
     ]
    }
   ],
   "source": [
    "for i in dict:\n",
    "    print(i)\n",
    "\n",
    "    #only get keys\n",
    "\n",
    "for y in dict:\n",
    "    print(y,dict[y])\n",
    "\n",
    "\n",
    "    "
   ]
  },
  {
   "cell_type": "code",
   "execution_count": null,
   "metadata": {},
   "outputs": [
    {
     "name": "stdout",
     "output_type": "stream",
     "text": [
      "brand Ford\n",
      "Year 1964\n",
      "Price 200000\n"
     ]
    }
   ],
   "source": [
    "for i,j in dict.items():\n",
    "    print(i,j)"
   ]
  },
  {
   "cell_type": "code",
   "execution_count": null,
   "metadata": {},
   "outputs": [],
   "source": [
    "#TO GET INDEX  AND KEYS"
   ]
  },
  {
   "cell_type": "code",
   "execution_count": null,
   "metadata": {},
   "outputs": [
    {
     "name": "stdout",
     "output_type": "stream",
     "text": [
      "0 brand Ford\n",
      "1 Year 1964\n",
      "2 Price 200000\n"
     ]
    }
   ],
   "source": [
    "for index,key in enumerate(dict):\n",
    "    print(index,key,dict[key])"
   ]
  },
  {
   "cell_type": "code",
   "execution_count": null,
   "metadata": {},
   "outputs": [],
   "source": [
    "#copy\n",
    "new=dict.copy()"
   ]
  },
  {
   "cell_type": "code",
   "execution_count": null,
   "metadata": {},
   "outputs": [
    {
     "name": "stdout",
     "output_type": "stream",
     "text": [
      "odd\n",
      "2 is evennumber\n",
      "odd\n",
      "4 is evennumber\n",
      "odd\n",
      "6 is evennumber\n",
      "odd\n",
      "8 is evennumber\n",
      "odd\n",
      "10 is evennumber\n"
     ]
    }
   ],
   "source": [
    "list=[1,2,3,4,5,6,7,8,9,10]\n",
    "for d in  list:\n",
    "    if d%2==0:\n",
    "        print(f\"{d} is evennumber\")\n",
    "    else:\n",
    "        print(\"odd\")"
   ]
  },
  {
   "cell_type": "markdown",
   "metadata": {},
   "source": [
    "list comphersnsion\n",
    "for the fast execute of handling largest amount of data   [] beracket"
   ]
  },
  {
   "cell_type": "markdown",
   "metadata": {},
   "source": [
    "loop in dict"
   ]
  },
  {
   "cell_type": "code",
   "execution_count": null,
   "metadata": {},
   "outputs": [
    {
     "data": {
      "text/plain": [
       "[1, 2, 3, 4, 5, 6, 7, 8, 9, 10]"
      ]
     },
     "metadata": {},
     "output_type": "display_data"
    }
   ],
   "source": [
    "[c for c in list]    #printc for c in list"
   ]
  },
  {
   "cell_type": "code",
   "execution_count": null,
   "metadata": {},
   "outputs": [
    {
     "data": {
      "text/plain": [
       "[2, 4, 6, 8, 10]"
      ]
     },
     "metadata": {},
     "output_type": "display_data"
    }
   ],
   "source": [
    "list=[1,2,3,4,5,6,7,8,9,10]\n",
    "[d for d in list if d%2==0]"
   ]
  },
  {
   "cell_type": "code",
   "execution_count": null,
   "metadata": {},
   "outputs": [],
   "source": [
    "dict compherension\n"
   ]
  },
  {
   "cell_type": "code",
   "execution_count": null,
   "metadata": {},
   "outputs": [
    {
     "name": "stdout",
     "output_type": "stream",
     "text": [
      "1 odd\n",
      "2 even\n",
      "3 odd\n",
      "4 even\n",
      "5 odd\n",
      "6 even\n",
      "7 odd\n",
      "8 even\n",
      "9 odd\n",
      "10 even\n",
      "{1: 1, 3: 27, 5: 3125, 7: 823543, 9: 387420489}\n"
     ]
    }
   ],
   "source": [
    "list=[1,2,3,4,5,6,7,8,9,10]\n",
    "dict={}\n",
    "for x in list:\n",
    "    if x%2==0:\n",
    "        print(f\"{x} even\")\n",
    "    else:\n",
    "        print(f\"{x} odd\")    \n",
    "        dict.update({x:x**x})\n",
    "print(dict)"
   ]
  },
  {
   "cell_type": "code",
   "execution_count": null,
   "metadata": {},
   "outputs": [],
   "source": [
    "dict[x]=x**2\n",
    "dict[x]='even'\n",
    "else\n",
    "0dd\n"
   ]
  },
  {
   "cell_type": "code",
   "execution_count": null,
   "metadata": {},
   "outputs": [
    {
     "data": {
      "text/plain": [
       "{1: 'Odd',\n",
       " 2: 'even',\n",
       " 3: 'Odd',\n",
       " 4: 'even',\n",
       " 5: 'Odd',\n",
       " 6: 'even',\n",
       " 7: 'Odd',\n",
       " 8: 'even',\n",
       " 9: 'Odd',\n",
       " 10: 'even'}"
      ]
     },
     "metadata": {},
     "output_type": "display_data"
    }
   ],
   "source": [
    "{x:\"x**2\" for x in list if x%2==0}\n",
    "{x:\"even\" for x in list if x%2==0}\n",
    "{x:(\"even\" if x%2==0 else \"Odd\") for x in list}\n",
    "\n"
   ]
  },
  {
   "cell_type": "code",
   "execution_count": null,
   "metadata": {},
   "outputs": [
    {
     "name": "stdout",
     "output_type": "stream",
     "text": [
      "[2, 4, 6, 8, 10, 12, 14, 16, 18]\n",
      "[1, 3, 5, 7, 9, 11, 13, 15, 17]\n",
      "1 is not  prime number\n",
      "2 is prime number\n",
      "3 is prime number\n",
      "4  is not prime number\n",
      "5 is prime number\n",
      "6  is not prime number\n",
      "7 is prime number\n",
      "8  is not prime number\n",
      "9  is not prime number\n",
      "10  is not prime number\n",
      "11 is prime number\n",
      "12  is not prime number\n",
      "13 is prime number\n",
      "14  is not prime number\n",
      "15  is not prime number\n",
      "16  is not prime number\n",
      "17 is prime number\n"
     ]
    }
   ],
   "source": [
    "\n"
   ]
  },
  {
   "cell_type": "code",
   "execution_count": 4,
   "metadata": {},
   "outputs": [
    {
     "name": "stdout",
     "output_type": "stream",
     "text": [
      "[92]\n"
     ]
    }
   ],
   "source": [
    "grades = [45, 78, 88, 92, 67, 55, 89, 76, 90, 50]\n",
    "d=[]\n",
    "a=sorted(grades)\n",
    "d.append(a[-1])\n",
    "print(d)"
   ]
  },
  {
   "cell_type": "code",
   "execution_count": null,
   "metadata": {},
   "outputs": [],
   "source": []
  },
  {
   "cell_type": "code",
   "execution_count": null,
   "metadata": {},
   "outputs": [],
   "source": []
  }
 ],
 "metadata": {
  "kernelspec": {
   "display_name": "Python 3",
   "language": "python",
   "name": "python3"
  },
  "language_info": {
   "codemirror_mode": {
    "name": "ipython",
    "version": 3
   },
   "file_extension": ".py",
   "mimetype": "text/x-python",
   "name": "python",
   "nbconvert_exporter": "python",
   "pygments_lexer": "ipython3",
   "version": "3.13.0"
  }
 },
 "nbformat": 4,
 "nbformat_minor": 2
}
