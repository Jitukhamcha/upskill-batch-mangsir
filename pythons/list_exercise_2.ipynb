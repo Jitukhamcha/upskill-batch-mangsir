{
 "cells": [
  {
   "cell_type": "markdown",
   "metadata": {},
   "source": [
    "# Python Programming Assignment: List\n",
    "### Task 1: Given a list of numbers. write a program to turn every item of a list into its square.\n",
    "\n",
    "\n",
    "numbers = [1, 2, 3, 4, 5, 6, 7]\n"
   ]
  },
  {
   "cell_type": "code",
   "execution_count": 1,
   "id": "0988cef4",
   "metadata": {},
   "outputs": [
    {
     "name": "stdout",
     "output_type": "stream",
     "text": [
      "{1: 1, 2: 4, 3: 9, 4: 16, 5: 25, 6: 36, 7: 49}\n"
     ]
    }
   ],
   "source": [
    "number=[1,2,3,4,5,6,7]\n",
    "digit=[]\n",
    "g={}\n",
    "for x in number:\n",
    " #digit.append(x**2)\n",
    "#print(digit)\n",
    "    g.update({x:x**2})\n",
    "print(g)\n",
    "\n",
    "#  digit.append(square)\n",
    "#print(digit)\n"
   ]
  },
  {
   "cell_type": "markdown",
   "id": "85b7cc26",
   "metadata": {},
   "source": [
    "### Task 2: Add new item to list after a specified item\n",
    "\n",
    "Write a program to add item 7000 after 6000 in the following Python List\n",
    "\n",
    "list1 = [10, 20, 300, 400, 5000, 6000, 500, 30, 40]\n"
   ]
  },
  {
   "cell_type": "code",
   "execution_count": 1,
   "id": "9ae9e249",
   "metadata": {},
   "outputs": [
    {
     "name": "stdout",
     "output_type": "stream",
     "text": [
      "[10, 20, 300, 400, 5000, 6000, 7000, 500, 30, 40]\n"
     ]
    }
   ],
   "source": [
    "list1 = [10, 20, 300, 400, 5000, 6000, 500, 30, 40]\n",
    "#print(list1.index(6000))\n",
    "#list1.insert(5,'7000')\n",
    "#print(list1)\n",
    "\n",
    "refrence_index=6000\n",
    "to_value=7000\n",
    "index=list1.index(refrence_index)\n",
    "list1.insert(index+1,to_value)\n",
    "print(list1)"
   ]
  },
  {
   "cell_type": "markdown",
   "id": "f0832a71",
   "metadata": {},
   "source": [
    "### Task 3: Add new item to list after a specified item\n",
    "\n",
    "Write a program to add item 7000 after 6000 in the following Python List\n",
    "\n",
    "list1 = [10, 20, [300, 400, [5000, 6000], 500], 30, 40]\n"
   ]
  },
  {
   "cell_type": "code",
   "execution_count": null,
   "id": "a5c51824",
   "metadata": {},
   "outputs": [
    {
     "name": "stdout",
     "output_type": "stream",
     "text": [
      "[10, 20, [300, 400, [5000, 6000, 9000], 500], 30, 40]\n"
     ]
    }
   ],
   "source": [
    "list1 = [10, 20, [300, 400, [5000, 6000], 500], 30, 40]\n",
    "#qccessinng list inside list use idex index listname[][]\n",
    "#list1[2][2].append('700')\n",
    "#list1[2][2][0]\n",
    "#print(list1)\n",
    "x=int(9000)\n",
    "#list1[2][2].insert(0,7)\n",
    "index=list1[2][2].index(6000)\n",
    "list1[2][2].insert(index+1,x)\n",
    "print(list1)\n",
    "\n",
    "\n",
    "\n"
   ]
  },
  {
   "cell_type": "markdown",
   "id": "d082ef80",
   "metadata": {},
   "source": [
    "\n",
    "### Task 4: Replace list’s item with new value if found\n",
    "You have given a Python list. Write a program to find value 20 in the list, and if it is present, replace it with 200. Only update the first occurrence of an item.\n",
    "\n",
    "list_1 = [5, 10, 15, 20, 25, 50, 20]"
   ]
  },
  {
   "cell_type": "code",
   "execution_count": null,
   "id": "cef4a4a8",
   "metadata": {},
   "outputs": [],
   "source": [
    "list_1 = [5, 10, 15, 20, 25, 50, 20]\n",
    "list_1.index(20)\n",
    "for x in list1:\n",
    "    if x==20:\n",
    "        index=list_1.index(20)\n",
    "        list_1.insert(index,200)\n",
    "print(list_1)"
   ]
  },
  {
   "cell_type": "code",
   "execution_count": null,
   "id": "8b813be6",
   "metadata": {},
   "outputs": [],
   "source": [
    "list_1 = [5, 10, 15, 20, 25, 50, 20]\n",
    "list_2=list_1[:]\n",
    "for x in list_2:\n",
    "    if x==20:\n",
    "        index=list_2.index(20)\n",
    "        list_2.insert(index,200)\n",
    "        list_2.remove(20)\n",
    "print(list_2)"
   ]
  },
  {
   "cell_type": "markdown",
   "id": "043f8657",
   "metadata": {},
   "source": [
    "### Task 5: Calculate sum of all numbers from 1 to a given number\n",
    "Write a Python program to accept a number from a user and calculate the sum of all numbers from 1 to a given number\n",
    "\n",
    "For example, if the user entered 10, the output should be 55 (1+2+3+4+5+6+7+8+9+10)\n"
   ]
  },
  {
   "cell_type": "code",
   "execution_count": null,
   "id": "7dbf1921",
   "metadata": {},
   "outputs": [
    {
     "name": "stdout",
     "output_type": "stream",
     "text": [
      " Sum  of  range between 1 and 6=  15\n"
     ]
    }
   ],
   "source": [
    "n=1\n",
    "b=int(input(\"enter the number\"))+1\n",
    "sum=0\n",
    "for x in range(n,b):\n",
    "   sum=sum+x\n",
    "print(f\" Sum  of  range between {n} and {b}=  {sum}\")\n",
    "\n"
   ]
  },
  {
   "cell_type": "code",
   "execution_count": null,
   "id": "c5acd9c0",
   "metadata": {},
   "outputs": [],
   "source": []
  },
  {
   "cell_type": "markdown",
   "id": "28d671ac",
   "metadata": {},
   "source": [
    "### Task 6: print positive numbers in a list\n",
    "Given a list of numbers, write a Python program to count positive and negative numbers in a List. \n",
    "\n",
    "list1 = [12, -7, 5, 64, -14]"
   ]
  },
  {
   "cell_type": "code",
   "execution_count": 283,
   "id": "aa0e9333",
   "metadata": {},
   "outputs": [
    {
     "name": "stdout",
     "output_type": "stream",
     "text": [
      "12 is positive number  and  count =  1\n",
      "-7 is negative number    and count =  1\n",
      "5 is positive number  and  count =  2\n",
      "64 is positive number  and  count =  3\n",
      "-14 is negative number    and count =  2\n"
     ]
    }
   ],
   "source": [
    "list1 = [12, -7, 5, 64, -14]\n",
    "count=0\n",
    "count2=0\n",
    "for x in list1:\n",
    "    if x<0:\n",
    "        count +=1\n",
    "        print(f\"{x} is negative number    and count = \",count)\n",
    "    else:\n",
    "        count2 +=1\n",
    "        print(f\"{x} is positive number  and  count = \",count2)\n"
   ]
  },
  {
   "cell_type": "markdown",
   "id": "703f2046",
   "metadata": {},
   "source": [
    "### Task 6: Get the Difference\n",
    "\n",
    "Write a program to find the range (difference between the largest and smallest element) of the list.\n",
    "\n",
    "lst = [5, 10, 15, 200, 25, 50, 20]\n",
    "\n",
    "Output: 195"
   ]
  },
  {
   "cell_type": "code",
   "execution_count": 207,
   "id": "bea2061e",
   "metadata": {},
   "outputs": [
    {
     "name": "stdout",
     "output_type": "stream",
     "text": [
      "[5, 10, 15, 20, 25, 50, 200]\n",
      "sum of number betwen the highest and lowest= 325\n"
     ]
    }
   ],
   "source": [
    "lst = [5, 10, 15, 200, 25, 50, 20]\n",
    "a=sorted(lst)\n",
    "print(a)\n",
    "total=0\n",
    "for x in a:\n",
    "    total=total+x\n",
    "print(f\"sum of number betwen the highest and lowest= {total}\")\n",
    "    \n",
    "    \n",
    "\n"
   ]
  },
  {
   "cell_type": "code",
   "execution_count": null,
   "id": "4d607a0f",
   "metadata": {},
   "outputs": [],
   "source": []
  },
  {
   "cell_type": "code",
   "execution_count": null,
   "id": "eb442703",
   "metadata": {},
   "outputs": [],
   "source": []
  }
 ],
 "metadata": {
  "kernelspec": {
   "display_name": "Python 3",
   "language": "python",
   "name": "python3"
  },
  "language_info": {
   "codemirror_mode": {
    "name": "ipython",
    "version": 3
   },
   "file_extension": ".py",
   "mimetype": "text/x-python",
   "name": "python",
   "nbconvert_exporter": "python",
   "pygments_lexer": "ipython3",
   "version": "3.13.0"
  }
 },
 "nbformat": 4,
 "nbformat_minor": 5
}
