{
 "cells": [
  {
   "cell_type": "markdown",
   "id": "2b6c8f91",
   "metadata": {},
   "source": [
    "# Python Basics Exercises"
   ]
  },
  {
   "cell_type": "markdown",
   "id": "79c0d437",
   "metadata": {},
   "source": [
    "## Exercise 1: Variable Naming\n",
    "- **Task**: Create variables using Camel Case, Pascal Case, and Snake Case naming conventions to store your favorite fruit and print them.\n",
    "\n",
    "**Example**:\n",
    "```python\n",
    "favoriteFruitCamelCase = \"Apple\"\n",
    "FavoriteFruitPascalCase = \"Banana\"\n",
    "favorite_fruit_snake_case = \"Cherry\"\n",
    "\n",
    "print(favoriteFruitCamelCase)\n",
    "print(FavoriteFruitPascalCase)\n",
    "print(favorite_fruit_snake_case)\n",
    "```"
   ]
  },
  {
   "cell_type": "code",
   "execution_count": null,
   "id": "f8e83017",
   "metadata": {},
   "outputs": [
    {
     "name": "stdout",
     "output_type": "stream",
     "text": [
      "watermelon\n",
      "Orange\n",
      "pinaple\n"
     ]
    }
   ],
   "source": [
    "# Your code here\n",
    "  #\n",
    "FavouriteFruit='watermelon' #pasacl\n",
    "Favourite_Fruit='pinaple'   #snake\n",
    "favouriteFood='Orange'     #camel\n",
    "print(FavouriteFruit)\n",
    "print(favouriteFood)\n",
    "print(Favourite_Fruit)"
   ]
  },
  {
   "cell_type": "markdown",
   "id": "f08afc8e",
   "metadata": {},
   "source": [
    "## Exercise 2: Variable Assignment\n",
    "- **Task**: Assign the values \"Red\", 3, and \"Car\" to variables `x`, `y`, and `z` in a single line, and then print each variable."
   ]
  },
  {
   "cell_type": "code",
   "execution_count": null,
   "id": "f63fa748",
   "metadata": {},
   "outputs": [
    {
     "name": "stdout",
     "output_type": "stream",
     "text": [
      "Red\n",
      "3\n",
      "'car\n"
     ]
    }
   ],
   "source": [
    "# Your code here\n",
    "x,y,z='Red',3,\"car\"\n",
    "print(x)\n",
    "print(y)\n",
    "print(z)"
   ]
  },
  {
   "cell_type": "markdown",
   "id": "e3ccfb87",
   "metadata": {},
   "source": [
    "## Exercise 3: Changing Variable Types\n",
    "- **Task**: Create a variable `number` with an integer value, then change it to a string, and finally to a float. Print the data type at each step using `type()`."
   ]
  },
  {
   "cell_type": "code",
   "execution_count": 3,
   "id": "323cbce6",
   "metadata": {},
   "outputs": [
    {
     "name": "stdout",
     "output_type": "stream",
     "text": [
      "<class 'int'>\n",
      "<class 'str'>\n",
      "<class 'float'>\n"
     ]
    }
   ],
   "source": [
    "# Your code here\n",
    "a=5\n",
    "print(type(a))\n",
    "a=str(a)\n",
    "print(type(a))\n",
    "a=float(a)\n",
    "print(type(a))\n"
   ]
  },
  {
   "cell_type": "markdown",
   "id": "4bc1fb11",
   "metadata": {},
   "source": [
    "## Exercise 4: Multiple Variables\n",
    "- **Task**: Assign the same value \"Python\" to three variables: `a`, `b`, and `c`. Then, print each variable."
   ]
  },
  {
   "cell_type": "code",
   "execution_count": 5,
   "id": "01bf5bc5",
   "metadata": {},
   "outputs": [
    {
     "name": "stdout",
     "output_type": "stream",
     "text": [
      "python\n",
      "python\n",
      "python\n"
     ]
    }
   ],
   "source": [
    "# Your code ere\n",
    "a=b=c=\"python\";\n",
    "print(a)\n",
    "print(b)\n",
    "print(c)\n"
   ]
  },
  {
   "cell_type": "markdown",
   "id": "c25a6527",
   "metadata": {},
   "source": [
    "## Exercise 5: Unpacking a Collection\n",
    "- **Task**: Unpack the following list into three variables and print them: `fruits = [\"Mango\", \"Grapes\", \"Peach\"]`."
   ]
  },
  {
   "cell_type": "code",
   "execution_count": 7,
   "id": "e4299270",
   "metadata": {},
   "outputs": [
    {
     "name": "stdout",
     "output_type": "stream",
     "text": [
      "mango\n",
      "Grapes\n",
      "Peach\n"
     ]
    }
   ],
   "source": [
    "# Your code here\n",
    "fruits=[\"mango\",\"Grapes\",\"Peach\"]\n",
    "a,b,v=fruits\n",
    "print(a)\n",
    "print(b)\n",
    "print(v)\n"
   ]
  },
  {
   "cell_type": "markdown",
   "id": "75af8381",
   "metadata": {},
   "source": [
    "## Exercise 6: String Concatenation\n",
    "- **Task**: Create three string variables: `part1 = \"Python\"`, `part2 = \" is\"`, and `part3 = \" fun!\"`. Concatenate them and print the result."
   ]
  },
  {
   "cell_type": "code",
   "execution_count": 8,
   "id": "362cfe9b",
   "metadata": {},
   "outputs": [
    {
     "name": "stdout",
     "output_type": "stream",
     "text": [
      "Python is fun!\n"
     ]
    }
   ],
   "source": [
    "# Your code here\\\n",
    "part1=\"Python\"\n",
    "part2=\" is\"\n",
    "part3=\" fun!\"\n",
    "print(part1+part2+part3)\n"
   ]
  },
  {
   "cell_type": "markdown",
   "id": "bd695f4b",
   "metadata": {},
   "source": [
    "# Data Type Exercises"
   ]
  },
  {
   "cell_type": "markdown",
   "id": "fbf34497",
   "metadata": {},
   "source": [
    "## Exercise 7: Checking Data Types\n",
    "- **Task**: Create variables with different data types: `string`, `integer`, `float`, and `boolean`. Use `type()` to print the type of each variable."
   ]
  },
  {
   "cell_type": "code",
   "execution_count": 38,
   "id": "c5258fdc",
   "metadata": {},
   "outputs": [
    {
     "name": "stdout",
     "output_type": "stream",
     "text": [
      "<class 'int'>\n",
      "<class 'str'>\n",
      "<class 'float'>\n",
      "False\n",
      "a is grater\n"
     ]
    }
   ],
   "source": [
    "# Your code here\n",
    "d=3\n",
    "e='cat'\n",
    "m=3.444\n",
    "print(type(d))\n",
    "print(type(e))\n",
    "print(type(m))\n",
    "print(11<9)\n",
    "\n",
    "a=input(\"enter num\")\n",
    "b=input(\"enter number\")\n",
    "if(a==b):\n",
    "    print(\"True\")\n",
    "elif(a>b):\n",
    "    print(\"a is grater\")\n",
    "elif(a<b):\n",
    "     print(\"b is greater\")    \n",
    "else:\n",
    "    print(\"False\")\n",
    "\n",
    "   \n",
    "\n"
   ]
  },
  {
   "cell_type": "markdown",
   "id": "32326c73",
   "metadata": {},
   "source": [
    "## Exercise 8: Numeric Types\n",
    "- **Task**: Create an integer `a`, a float `b`, and a complex number `c`. Print the data type of each."
   ]
  },
  {
   "cell_type": "code",
   "execution_count": null,
   "id": "4bdedeb4",
   "metadata": {},
   "outputs": [
    {
     "name": "stdout",
     "output_type": "stream",
     "text": [
      "<class 'int'>\n",
      "<class 'float'>\n",
      "6.1\n"
     ]
    },
    {
     "data": {
      "text/plain": [
       "complex"
      ]
     },
     "execution_count": 1,
     "metadata": {},
     "output_type": "execute_result"
    }
   ],
   "source": [
    "# Your code herea\n",
    "a=5\n",
    "b=1.1\n",
    "c=5j+7\n",
    "print(type(a))\n",
    "print(type(b))\n",
    "\n",
    "type(c)"
   ]
  },
  {
   "cell_type": "markdown",
   "id": "f3f9e400",
   "metadata": {},
   "source": [
    "## Exercise 9: Type Conversion\n",
    "- **Task**: Convert the integer `10` to a float, the float `8.5` to an integer. Print the converted values and their types."
   ]
  },
  {
   "cell_type": "code",
   "execution_count": 30,
   "id": "7a62e628",
   "metadata": {},
   "outputs": [
    {
     "name": "stdout",
     "output_type": "stream",
     "text": [
      "<class 'float'> = 10.0\n",
      "<class 'int'> = 8\n"
     ]
    }
   ],
   "source": [
    "# Your code here\n",
    "a=10\n",
    "a=float(a)\n",
    "print(type(a),\"=\",a)\n",
    "\n",
    "g=8.5\n",
    "g=int(g)\n",
    "print(type(g),\"=\", g)\n",
    "\n",
    "\n"
   ]
  },
  {
   "cell_type": "markdown",
   "id": "3a1822f4",
   "metadata": {},
   "source": []
  },
  {
   "cell_type": "code",
   "execution_count": null,
   "id": "53a25315",
   "metadata": {},
   "outputs": [],
   "source": []
  }
 ],
 "metadata": {
  "kernelspec": {
   "display_name": "base",
   "language": "python",
   "name": "python3"
  },
  "language_info": {
   "codemirror_mode": {
    "name": "ipython",
    "version": 3
   },
   "file_extension": ".py",
   "mimetype": "text/x-python",
   "name": "python",
   "nbconvert_exporter": "python",
   "pygments_lexer": "ipython3",
   "version": "3.12.7"
  }
 },
 "nbformat": 4,
 "nbformat_minor": 5
}
