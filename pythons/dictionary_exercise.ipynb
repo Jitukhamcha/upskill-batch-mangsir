{
 "cells": [
  {
   "cell_type": "code",
   "execution_count": null,
   "metadata": {},
   "outputs": [],
   "source": []
  },
  {
   "cell_type": "markdown",
   "metadata": {},
   "source": [
    "# Python Programming Assignment: Dictionary\n"
   ]
  },
  {
   "cell_type": "markdown",
   "metadata": {},
   "source": [
    "## Task 1: Employee Performance Evaluation\n",
    "You are given a dictionary where the keys represent employee names, and the values represent their performance scores (out of 100). Write a Python script to perform the following tasks:\n",
    "\n",
    "### Tasks\n",
    "\n",
    "1. **Print all employee names and their scores. Like \"Alice scored 85\"**\n",
    "2. **Find and print the name(s) of the employee(s) with the highest score.**\n",
    "3. **Print the names of employees who scored above the average.**\n",
    "4. **Create a new dictionary that categorizes employees as \"Pass\" (score >= 80) or \"Fail\" (score < 80). Print the new dictionary.**\n"
   ]
  },
  {
   "cell_type": "code",
   "execution_count": 1,
   "metadata": {},
   "outputs": [
    {
     "name": "stdout",
     "output_type": "stream",
     "text": [
      "Alice score 85\n",
      "Bob score 78\n",
      "Charlie score 92\n",
      "Diana score 88\n",
      "Eve score 76\n"
     ]
    }
   ],
   "source": [
    "#1\n",
    "employee_scores = {\n",
    "    \"Alice\": 85,\n",
    "    \"Bob\": 78,\n",
    "    \"Charlie\": 92,\n",
    "    \"Diana\": 88,\n",
    "    \"Eve\": 76\n",
    "}\n",
    "for d,e in employee_scores.items():\n",
    "    print(f\"{d} score {e}\")"
   ]
  },
  {
   "cell_type": "code",
   "execution_count": 2,
   "metadata": {},
   "outputs": [
    {
     "name": "stdout",
     "output_type": "stream",
     "text": [
      "Charlie score the highest which is 92\n"
     ]
    }
   ],
   "source": [
    "#2\n",
    "employee_scores = {\n",
    "    \"Alice\": 85,\n",
    "    \"Bob\": 78,\n",
    "    \"Charlie\": 92,\n",
    "    \"Diana\": 88,\n",
    "    \"Eve\": 76\n",
    "}\n",
    "H=max(employee_scores,key=employee_scores.get)\n",
    "print(f\"{H} score the highest which is {employee_scores[H]}\")  "
   ]
  },
  {
   "cell_type": "code",
   "execution_count": null,
   "metadata": {},
   "outputs": [
    {
     "name": "stdout",
     "output_type": "stream",
     "text": [
      "Alice score 85 which is above average\n",
      "Diana score 88 which is above average\n"
     ]
    }
   ],
   "source": [
    "#3.\n",
    "employee_scores = {\n",
    "    \"Alice\": 85,\n",
    "    \"Bob\": 78,\n",
    "    \"Charlie\": 92,\n",
    "    \"Diana\": 88,\n",
    "    \"Eve\": 76\n",
    "}\n",
    "for x,y in employee_scores.items():\n",
    "    if 80<y<=90:\n",
    "        print(f\"{x} score {y} which is above average\")"
   ]
  },
  {
   "cell_type": "code",
   "execution_count": null,
   "metadata": {},
   "outputs": [
    {
     "data": {
      "text/plain": [
       "{'Alice': 'pass',\n",
       " 'Bob': 'fail',\n",
       " 'Charlie': 'pass',\n",
       " 'Diana': 'pass',\n",
       " 'Eve': 'fail'}"
      ]
     },
     "metadata": {},
     "output_type": "display_data"
    }
   ],
   "source": [
    "#4.\n",
    "employee_scores = {\n",
    "    \"Alice\": 85,\n",
    "    \"Bob\": 78,\n",
    "    \"Charlie\": 92,\n",
    "    \"Diana\": 88,\n",
    "    \"Eve\": 76\n",
    "}\n",
    "{x:(\"pass\" if employee_scores[x]>=80 else \"fail\")for x in  employee_scores}"
   ]
  },
  {
   "cell_type": "markdown",
   "metadata": {},
   "source": [
    "## Task 2: Student Grades Processing\n",
    "You are given a list of student grades. Write Python code using list comprehension to perform the following tasks:\n",
    "\n",
    "### Tasks\n",
    "1. **Create a list of grades increased by 5 points.** \n",
    "\n",
    "Output: [50, 83, 93, 97, 72, 60, 94, 81, 95, 55]\n",
    " \n",
    "2. **Create a list of grades that are passing (≥ 60).**\n",
    "\n",
    "Output: [78, 88, 92, 67, 89, 76, 90]\n",
    "\n",
    "3. **Create a list of grades converted to \"Pass\" or \"Fail\" based on a passing mark of 60.**\n",
    "\n",
    "Output: ['Fail', 'Pass', 'Pass', 'Pass', 'Pass', 'Fail', 'Pass', 'Pass', 'Pass', 'Fail']\n",
    "\n",
    "4. **Find the highest grade.**\n",
    "\n",
    "Output: Highest grade: 92\n",
    "\n",
    "5. **Create a list of tuples where each tuple contains the original grade and the grade category: \"Excellent\" (≥ 90), \"Good\" (70–89), or \"Average\" (< 70).**\n",
    "\n",
    "Output: [    (45, 'Average'),    (78, 'Good'),    (88, 'Good'),    (92, 'Excellent'),    (67, 'Average'),    (55, 'Average'),    (89, 'Good'),    (76, 'Good'),    (90, 'Excellent'),    (50, 'Average')]\n"
   ]
  },
  {
   "cell_type": "code",
   "execution_count": null,
   "metadata": {},
   "outputs": [
    {
     "data": {
      "text/plain": [
       "[50, 83, 93, 97, 72, 60, 94, 81, 95, 55]"
      ]
     },
     "metadata": {},
     "output_type": "display_data"
    }
   ],
   "source": [
    "grades = [45, 78, 88, 92, 67, 55, 89, 76, 90, 50]\n",
    "# 1\n",
    "[x+5 for x in  grades ]"
   ]
  },
  {
   "cell_type": "code",
   "execution_count": 5,
   "metadata": {},
   "outputs": [
    {
     "name": "stdout",
     "output_type": "stream",
     "text": [
      "[50, 83, 93, 97, 72, 60, 94, 81, 95, 55]\n"
     ]
    }
   ],
   "source": [
    "#Another way\n",
    "grades = [45, 78, 88, 92, 67, 55, 89, 76, 90, 50]\n",
    "d=[]\n",
    "for x in grades:\n",
    "    d.append(x+5)\n",
    "print(d)"
   ]
  },
  {
   "cell_type": "code",
   "execution_count": null,
   "metadata": {},
   "outputs": [
    {
     "data": {
      "text/plain": [
       "[78, 88, 92, 67, 89, 76, 90]"
      ]
     },
     "metadata": {},
     "output_type": "display_data"
    }
   ],
   "source": [
    "#2\n",
    "grades = [45, 78, 88, 92, 67, 55, 89, 76, 90, 50]\n",
    "[o for o in grades  if o>=60 ]"
   ]
  },
  {
   "cell_type": "code",
   "execution_count": 4,
   "metadata": {},
   "outputs": [
    {
     "name": "stdout",
     "output_type": "stream",
     "text": [
      "['Fail', 'Pass', 'Pass', 'Pass', 'Pass', 'Fail', 'Pass', 'Pass', 'Pass', 'Fail']\n"
     ]
    }
   ],
   "source": [
    "#3\n",
    "grades = [45, 78, 88, 92, 67, 55, 89, 76, 90, 50]\n",
    "d=[(\"Fail\" if x<=60 else \"Pass\") for x in grades]\n",
    "print(d)"
   ]
  },
  {
   "cell_type": "code",
   "execution_count": null,
   "metadata": {},
   "outputs": [
    {
     "name": "stdout",
     "output_type": "stream",
     "text": [
      "Highest grade 92\n"
     ]
    }
   ],
   "source": [
    "#4\n",
    "d=sorted(grades)\n",
    "print(f\"Highest grade {d[-1]}\")\n",
    "\n"
   ]
  },
  {
   "cell_type": "code",
   "execution_count": null,
   "metadata": {},
   "outputs": [
    {
     "name": "stdout",
     "output_type": "stream",
     "text": [
      "[(45, 'Average'), (78, 'Good'), (88, 'Good'), (92, 'Excellent'), (67, 'Average'), (55, 'Average'), (89, 'Good'), (76, 'Good'), (90, 'Excellent'), (50, 'Average')]\n"
     ]
    }
   ],
   "source": [
    "grades = [45, 78, 88, 92, 67, 55, 89, 76, 90, 50]\n",
    "d=[(x,'Excellent' if x>=90 else \"Good\" if x>=70 and x<=89 else \"Average\")for x in grades]\n",
    "print(d)\n",
    "\n",
    "#elif cant be used instead use if conition "
   ]
  },
  {
   "cell_type": "code",
   "execution_count": 75,
   "metadata": {},
   "outputs": [
    {
     "name": "stdout",
     "output_type": "stream",
     "text": [
      "45 is average\n",
      "78 is Good\n",
      "88 is Good\n",
      "92 is Excellent\n",
      "67 is average\n",
      "55 is average\n",
      "89 is Good\n",
      "76 is Good\n",
      "90 is Excellent\n",
      "50 is average\n"
     ]
    }
   ],
   "source": [
    "# 5. **Create a list of tuples where each tuple contains the original grade and the grade category: \"\n",
    "# Excellent\" (≥ 90), \"Good\" (70–89), or \"Average\" (< 70).**\n",
    "grades = [45, 78, 88, 92, 67, 55, 89, 76, 90, 50]\n",
    "for x in grades:\n",
    "    if x>=90:\n",
    "        print((f\"{x} is Excellent\"))\n",
    "    elif x<=89 and x>=70:\n",
    "        print(f\"{x} is Good\")\n",
    "    else:\n",
    "        print(f\"{x} is average\")\n",
    "\n",
    "    \n",
    "\n",
    "               "
   ]
  },
  {
   "cell_type": "code",
   "execution_count": null,
   "metadata": {},
   "outputs": [],
   "source": []
  }
 ],
 "metadata": {
  "kernelspec": {
   "display_name": "Python 3",
   "language": "python",
   "name": "python3"
  },
  "language_info": {
   "codemirror_mode": {
    "name": "ipython",
    "version": 3
   },
   "file_extension": ".py",
   "mimetype": "text/x-python",
   "name": "python",
   "nbconvert_exporter": "python",
   "pygments_lexer": "ipython3",
   "version": "3.13.0"
  }
 },
 "nbformat": 4,
 "nbformat_minor": 2
}
