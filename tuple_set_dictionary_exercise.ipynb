{
 "cells": [
  {
   "cell_type": "markdown",
   "metadata": {},
   "source": [
    "# Python Programming Assignment: Tuple\n",
    "\n",
    "### Task 1: Write a program to copy elements 44 and 55 from the following tuple into a new tuple."
   ]
  },
  {
   "cell_type": "code",
   "execution_count": null,
   "id": "6d9c7451",
   "metadata": {},
   "outputs": [],
   "source": [
    "tuple1 = (11, 22, 33, 44, 55, 66)\n"
   ]
  },
  {
   "cell_type": "markdown",
   "id": "85b7cc26",
   "metadata": {},
   "source": [
    "### Task 2: Modify the tuple\n",
    "\n",
    "Given is a nested tuple. Write a program to modify the first item (22) of a list inside a following tuple to 222\n"
   ]
  },
  {
   "cell_type": "code",
   "execution_count": null,
   "id": "810175b7",
   "metadata": {},
   "outputs": [],
   "source": [
    "tuple1 = (11, [22, 33], 44, 55)\n"
   ]
  },
  {
   "cell_type": "code",
   "execution_count": null,
   "id": "56999e42",
   "metadata": {},
   "outputs": [],
   "source": []
  },
  {
   "cell_type": "markdown",
   "id": "24d6cc75",
   "metadata": {},
   "source": [
    "# Python Programming Assignment: Set\n"
   ]
  },
  {
   "cell_type": "markdown",
   "id": "f0832a71",
   "metadata": {},
   "source": [
    "### Task 3: Add a list of elements to a set\n",
    "Given a Python list, Write a program to add all its elements into a given set.\n"
   ]
  },
  {
   "cell_type": "code",
   "execution_count": null,
   "id": "a5c51824",
   "metadata": {},
   "outputs": [],
   "source": [
    "sample_set = {\"Yellow\", \"Orange\", \"Black\"}\n",
    "sample_list = [\"Blue\", \"Green\", \"Red\"]"
   ]
  },
  {
   "cell_type": "markdown",
   "id": "4733f6a7",
   "metadata": {},
   "source": []
  },
  {
   "cell_type": "markdown",
   "id": "d082ef80",
   "metadata": {},
   "source": [
    "\n",
    "### Task 4: Return a new set of identical items and unique items from two sets"
   ]
  },
  {
   "cell_type": "code",
   "execution_count": null,
   "id": "cef4a4a8",
   "metadata": {},
   "outputs": [],
   "source": [
    "set1 = {10, 20, 30, 40, 50}\n",
    "set2 = {30, 40, 50, 60, 70}"
   ]
  },
  {
   "cell_type": "markdown",
   "id": "482ac01e",
   "metadata": {},
   "source": []
  },
  {
   "cell_type": "markdown",
   "id": "6b77c7ac",
   "metadata": {},
   "source": [
    "# Python Programming Assignment: Dictionary\n"
   ]
  },
  {
   "cell_type": "markdown",
   "id": "043f8657",
   "metadata": {},
   "source": [
    "### Task 5: Convert two lists into a dictionary\n",
    "Below are the two lists. Write a Python program to convert them into a dictionary in a way that item from list1 is the key and item from list2 is the value"
   ]
  },
  {
   "cell_type": "code",
   "execution_count": null,
   "id": "7dbf1921",
   "metadata": {},
   "outputs": [],
   "source": [
    "keys = ['Ten', 'Twenty', 'Thirty']\n",
    "values = [10, 20, 30]"
   ]
  },
  {
   "cell_type": "markdown",
   "id": "28d671ac",
   "metadata": {},
   "source": [
    "### Task 6:Create a dictionary by extracting the keys from a given dictionary\n",
    "Write a Python program to create a new dictionary by extracting the mentioned keys from the below dictionary.\n",
    "\n",
    "Given dictionary:\n",
    "\n",
    "sample_dict = {\n",
    "    \"name\": \"Kelly\",\n",
    "    \"age\": 25,\n",
    "    \"salary\": 8000,\n",
    "    \"city\": \"New york\"}\n",
    "\n",
    "# Keys to extract\n",
    "keys = [\"name\", \"salary\"]\n",
    "\n",
    "# expected output\n",
    "{'name': 'Kelly', 'salary': 8000}\n"
   ]
  },
  {
   "cell_type": "code",
   "execution_count": null,
   "id": "aa0e9333",
   "metadata": {},
   "outputs": [],
   "source": [
    "sample_dict = {\n",
    "    \"name\": \"Kelly\",\n",
    "    \"age\": 25,\n",
    "    \"salary\": 8000,\n",
    "    \"city\": \"New york\"}"
   ]
  },
  {
   "cell_type": "markdown",
   "id": "703f2046",
   "metadata": {},
   "source": [
    "### Task 6: Check if a value exists in a dictionary\n",
    "Write a Python program to check if value 200 exists in the following dictionary.\n",
    "\n"
   ]
  },
  {
   "cell_type": "code",
   "execution_count": null,
   "id": "bea2061e",
   "metadata": {},
   "outputs": [],
   "source": [
    "sample_dict = {'a': 100, 'b': 200, 'c': 300}\n"
   ]
  },
  {
   "cell_type": "markdown",
   "id": "3457dd3b",
   "metadata": {},
   "source": [
    "### Task 7: Change value of a key in a nested dictionary\n",
    "Write a Python program to change Brad’s salary to 8500 in the following dictionary."
   ]
  },
  {
   "cell_type": "code",
   "execution_count": null,
   "id": "6692bed0",
   "metadata": {},
   "outputs": [],
   "source": [
    "\n",
    "sample_dict = {\n",
    "    'emp1': {'name': 'Jhon', 'salary': 7500},\n",
    "    'emp2': {'name': 'Emma', 'salary': 8000},\n",
    "    'emp3': {'name': 'Brad', 'salary': 500}\n",
    "}"
   ]
  },
  {
   "cell_type": "code",
   "execution_count": 1,
   "id": "114e7c21",
   "metadata": {},
   "outputs": [
    {
     "name": "stdout",
     "output_type": "stream",
     "text": [
      "{'brand': 'ford', 'year': 1964}\n"
     ]
    }
   ],
   "source": [
    "dict = {\n",
    "    \"brand\": \"ford\",\n",
    "    \"model\" : \"mustang\",\n",
    "    \"year\" : 1964\n",
    "}\n",
    "dict.pop(\"model\")\n",
    "print(dict)"
   ]
  },
  {
   "cell_type": "code",
   "execution_count": 2,
   "id": "3b654af1",
   "metadata": {},
   "outputs": [
    {
     "name": "stdout",
     "output_type": "stream",
     "text": [
      "2\n",
      "4\n",
      "6\n",
      "8\n",
      "10\n"
     ]
    }
   ],
   "source": [
    "list1 = [1,2,3,4,5,6,7,8,9,10]\n",
    "for i in list1:\n",
    "    if i%2==0:\n",
    "        print(i)"
   ]
  },
  {
   "cell_type": "code",
   "execution_count": 6,
   "id": "71b5638b",
   "metadata": {},
   "outputs": [
    {
     "data": {
      "text/plain": [
       "[2, 4, 6, 8, 10]"
      ]
     },
     "execution_count": 6,
     "metadata": {},
     "output_type": "execute_result"
    }
   ],
   "source": [
    "[i for i in list1 if i%2==0]"
   ]
  },
  {
   "cell_type": "code",
   "execution_count": 9,
   "id": "7b396b49",
   "metadata": {},
   "outputs": [
    {
     "data": {
      "text/plain": [
       "{2: 4, 4: 16, 6: 36, 8: 64, 10: 100}"
      ]
     },
     "execution_count": 9,
     "metadata": {},
     "output_type": "execute_result"
    }
   ],
   "source": [
    "{i:i**2 for i in list1 if i%2==0}"
   ]
  },
  {
   "cell_type": "code",
   "execution_count": 17,
   "id": "d7928cfe",
   "metadata": {},
   "outputs": [
    {
     "name": "stdout",
     "output_type": "stream",
     "text": [
      "{2: 4, 4: 16, 6: 36, 8: 64, 10: 100}\n"
     ]
    }
   ],
   "source": [
    "dict1={}\n",
    "for x in list1:\n",
    "    if x%2==0:\n",
    "        dict1[x]= x**2\n",
    "print(dict1)"
   ]
  },
  {
   "cell_type": "code",
   "execution_count": 16,
   "id": "b6c8e6cd",
   "metadata": {},
   "outputs": [
    {
     "data": {
      "text/plain": [
       "{1: 'even',\n",
       " 2: 'even',\n",
       " 3: 'even',\n",
       " 4: 'even',\n",
       " 5: 'even',\n",
       " 6: 'even',\n",
       " 7: 'even',\n",
       " 8: 'even',\n",
       " 9: 'even',\n",
       " 10: 'even'}"
      ]
     },
     "execution_count": 16,
     "metadata": {},
     "output_type": "execute_result"
    }
   ],
   "source": [
    "{i:(\"even\" if x%2==0 else \"odd\")for i in list1}"
   ]
  },
  {
   "cell_type": "code",
   "execution_count": null,
   "id": "7f15d2ac",
   "metadata": {},
   "outputs": [],
   "source": []
  }
 ],
 "metadata": {
  "kernelspec": {
   "display_name": "Python 3",
   "language": "python",
   "name": "python3"
  },
  "language_info": {
   "codemirror_mode": {
    "name": "ipython",
    "version": 3
   },
   "file_extension": ".py",
   "mimetype": "text/x-python",
   "name": "python",
   "nbconvert_exporter": "python",
   "pygments_lexer": "ipython3",
   "version": "3.13.0"
  }
 },
 "nbformat": 4,
 "nbformat_minor": 5
}
