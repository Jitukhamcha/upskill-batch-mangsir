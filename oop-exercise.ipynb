{
 "cells": [
  {
   "cell_type": "markdown",
   "metadata": {},
   "source": [
    "# Python Programming Assignment: OOP\n",
    "### Task 1: Write a generic class program concept having three attributes and two methods assuming name of your choices "
   ]
  },
  {
   "cell_type": "code",
   "execution_count": 7,
   "id": "d782a505",
   "metadata": {},
   "outputs": [
    {
     "name": "stdout",
     "output_type": "stream",
     "text": [
      "My name is shirshak\n",
      "Gender is:male\n",
      "address is: budhanilkantha\n"
     ]
    }
   ],
   "source": [
    "class Program:\n",
    "    def __init__(self,name,gender,address):\n",
    "        self.name=name\n",
    "        self.gender=gender\n",
    "        self.address=address\n",
    "    def detail_1(self):\n",
    "        description_1=f\"My name is {self.name}\"\n",
    "        return description_1\n",
    "    def detail_2(self):\n",
    "        description_2=f\"Gender is:{self.gender}\"\n",
    "        return description_2\n",
    "    def detail_3(self):\n",
    "        description_3=f\"address is: {self.address}\"\n",
    "        return description_3\n",
    "obj1=Program(\"shirshak\",\"male\",\"budhanilkantha\")\n",
    "print(obj1.detail_1())\n",
    "print(obj1.detail_2())\n",
    "print(obj1.detail_3())    \n",
    "    \n"
   ]
  },
  {
   "cell_type": "markdown",
   "id": "85b7cc26",
   "metadata": {},
   "source": [
    "### Task 2: Write a Python program to create a class representing a Rectangle. Include methods to calculate its area and perimeter."
   ]
  },
  {
   "cell_type": "code",
   "execution_count": 20,
   "id": "ecf4fd05",
   "metadata": {},
   "outputs": [
    {
     "name": "stdout",
     "output_type": "stream",
     "text": [
      "area of rectangle is:16\n",
      "perimeter of rectangle:20\n"
     ]
    }
   ],
   "source": [
    "class Rectangle:\n",
    "    def __init__(self,length,breadth):\n",
    "        self.length=length\n",
    "        self.breadth=breadth\n",
    "    def cal_1(self):\n",
    "        area=f\"area of rectangle is:{self.length*self.breadth}\"\n",
    "        return area\n",
    "    def cal_2(self):\n",
    "        perimeter=f\"perimeter of rectangle:{2*(self.length+self.breadth)}\"\n",
    "        return perimeter\n",
    "obj1=Rectangle(2,8)\n",
    "print(obj1.cal_1())\n",
    "print(obj1.cal_2())"
   ]
  },
  {
   "cell_type": "markdown",
   "id": "f0832a71",
   "metadata": {},
   "source": [
    "# Python Programming Assignment: File handling\n"
   ]
  },
  {
   "cell_type": "markdown",
   "id": "d082ef80",
   "metadata": {},
   "source": [
    "### Task 3: Write a Python program to create a person class. Include attributes like name, country and birth year. Implement a method to determine the person's age."
   ]
  },
  {
   "cell_type": "code",
   "execution_count": 24,
   "id": "9923c013",
   "metadata": {},
   "outputs": [
    {
     "name": "stdout",
     "output_type": "stream",
     "text": [
      "My name is:Shirshak and i am 23 years old.\n",
      "I live in:Nepal\n"
     ]
    }
   ],
   "source": [
    "class Person:\n",
    "    def __init__(self,name,country):\n",
    "        self.name=name\n",
    "        self.country=country\n",
    "    def person_detail(self,age):\n",
    "        detail=f\"My name is:{self.name} and i am {age} years old.\"\n",
    "        return detail\n",
    "    def person_detail_2(self):\n",
    "        detail_2=f\"I live in:{self.country}\"\n",
    "        return detail_2\n",
    "obj1=Person(\"Shirshak\",\"Nepal\")\n",
    "print(obj1.person_detail(23))\n",
    "print(obj1.person_detail_2())\n"
   ]
  },
  {
   "cell_type": "markdown",
   "id": "043f8657",
   "metadata": {},
   "source": [
    "### Task 4: Design a simple Python program to manage bank accounts using OOP principles. The program should allow users to create accounts, deposit money, withdraw money, and check the balance.\n",
    "\n"
   ]
  },
  {
   "cell_type": "code",
   "execution_count": null,
   "id": "d11c86df",
   "metadata": {},
   "outputs": [],
   "source": [
    "class Bank_detail:\n",
    "    def __init__(self,create_account,deposite,withdrawal,check_baln):\n",
    "        self.create_account=create_account\n",
    "        self.deposte=deposite\n",
    "        self.withdrwal=withdrawal\n",
    "        self.check_baln=check_baln\n",
    "    def detail_1(self)"
   ]
  },
  {
   "cell_type": "code",
   "execution_count": 26,
   "id": "3935c427",
   "metadata": {},
   "outputs": [
    {
     "name": "stdout",
     "output_type": "stream",
     "text": [
      "My name is Shirshak, and I live in Nepal.\n",
      "Shirshak is 24 years old.\n"
     ]
    }
   ],
   "source": [
    "from datetime import date\n",
    "\n",
    "class Person:\n",
    "    def __init__(self, name, country, birth_year):\n",
    "        self.name = name\n",
    "        self.country = country\n",
    "        self.birth_year = birth_year\n",
    "\n",
    "    def calculate_age(self):\n",
    "        current_year = date.today().year  # Get the current year\n",
    "        age = current_year - self.birth_year\n",
    "        return f\"{self.name} is {age} years old.\"\n",
    "\n",
    "# Create an object of the Person class\n",
    "person1 = Person(\"Shirshak\", \"Nepal\", 2000)\n",
    "\n",
    "# Print the details and calculate the age\n",
    "print(f\"My name is {person1.name}, and I live in {person1.country}.\")\n",
    "print(person1.calculate_age())\n"
   ]
  },
  {
   "cell_type": "code",
   "execution_count": null,
   "id": "c1e48870",
   "metadata": {},
   "outputs": [],
   "source": []
  }
 ],
 "metadata": {
  "kernelspec": {
   "display_name": "Python 3",
   "language": "python",
   "name": "python3"
  },
  "language_info": {
   "codemirror_mode": {
    "name": "ipython",
    "version": 3
   },
   "file_extension": ".py",
   "mimetype": "text/x-python",
   "name": "python",
   "nbconvert_exporter": "python",
   "pygments_lexer": "ipython3",
   "version": "3.13.0"
  }
 },
 "nbformat": 4,
 "nbformat_minor": 5
}
