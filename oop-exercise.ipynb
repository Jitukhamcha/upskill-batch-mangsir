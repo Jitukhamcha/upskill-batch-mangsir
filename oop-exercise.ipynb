{
 "cells": [
  {
   "cell_type": "markdown",
   "metadata": {},
   "source": [
    "# Python Programming Assignment: OOP\n",
    "### Task 1: Write a generic class program concept having three attributes and two methods assuming name of your choices "
   ]
  },
  {
   "cell_type": "code",
   "execution_count": null,
   "id": "d782a505",
   "metadata": {},
   "outputs": [
    {
     "data": {
      "text/plain": [
       "' name is : jungkook rapper is : jhope maindancer is : maindancer'"
      ]
     },
     "execution_count": 4,
     "metadata": {},
     "output_type": "execute_result"
    }
   ],
   "source": [
    "class Singer :\n",
    "    def __init__(self,singer, rapper):\n",
    "        self.singer = singer\n",
    "        self.rapper = rapper\n",
    "    \n",
    "    def bangtan (self):\n",
    "        self.description = (\" name is : \" + self.singer) + (\" rapper is : \" + self.rapper)\n",
    "        return self.description\n",
    "    \n",
    "    def run_bts(self,maindancer):\n",
    "        self.description2 = self.description + \" maindancer is : \" + maindancer\n",
    "        return self.description2 \n",
    "\n",
    "obj1 = Singer(\"jungkook\", \"jhope\")\n",
    "obj1.bangtan()\n",
    "obj1.run_bts(\"jimin\")"
   ]
  },
  {
   "cell_type": "markdown",
   "id": "85b7cc26",
   "metadata": {},
   "source": [
    "### Task 2: Write a Python program to create a class representing a Rectangle. Include methods to calculate its area and perimeter."
   ]
  },
  {
   "cell_type": "code",
   "execution_count": 6,
   "id": "ecf4fd05",
   "metadata": {},
   "outputs": [
    {
     "data": {
      "text/plain": [
       "6"
      ]
     },
     "execution_count": 6,
     "metadata": {},
     "output_type": "execute_result"
    }
   ],
   "source": [
    "class Rectangle :\n",
    "    def __init__(self, length, breadth):\n",
    "        self.length = length\n",
    "        self.breadth = breadth\n",
    "    \n",
    "    def cal_area(self):\n",
    "        result = self.length * self.breadth\n",
    "        return result \n",
    "    \n",
    "    def cal_perimeter(self):\n",
    "        result = 2*(self.length + self.breadth)\n",
    "        return result\n",
    "    \n",
    "obj1= Rectangle(2 , 3)\n",
    "obj1.cal_area()"
   ]
  },
  {
   "cell_type": "code",
   "execution_count": 9,
   "id": "4b0b466a",
   "metadata": {},
   "outputs": [
    {
     "data": {
      "text/plain": [
       "12"
      ]
     },
     "execution_count": 9,
     "metadata": {},
     "output_type": "execute_result"
    }
   ],
   "source": [
    "obj1.cal_perimeter()"
   ]
  },
  {
   "cell_type": "markdown",
   "id": "f0832a71",
   "metadata": {},
   "source": [
    "# Python Programming Assignment: File handling\n"
   ]
  },
  {
   "cell_type": "markdown",
   "id": "d082ef80",
   "metadata": {},
   "source": [
    "### Task 3: Write a Python program to create a person class. Include attributes like name, country and birth year. Implement a method to determine the person's age."
   ]
  },
  {
   "cell_type": "code",
   "execution_count": 17,
   "id": "9923c013",
   "metadata": {},
   "outputs": [
    {
     "data": {
      "text/plain": [
       "'my name is :jhope and my country is: southkorea also my birth_year is :1999 my age is:30 '"
      ]
     },
     "execution_count": 17,
     "metadata": {},
     "output_type": "execute_result"
    }
   ],
   "source": [
    "class Person :\n",
    "    def __init__ (self, name, country, birthyear):\n",
    "        self.name = name\n",
    "        self.country = country\n",
    "        self.birthyear = birthyear\n",
    "\n",
    "    def details1(self):\n",
    "        self.details = f\"my name is :{self.name} and my country is: {self.country} also my birth_year is :{self.birthyear}\"\n",
    "        return self.details\n",
    "    \n",
    "    def details2 (self, age):\n",
    "        self.description = self.details + f\" my age is:{age} \"\n",
    "        return self.description\n",
    "\n",
    "object2= Person(\"jhope\",\"southkorea\", 1999)\n",
    "object2.details1()\n",
    "object2.details2(30)"
   ]
  },
  {
   "cell_type": "markdown",
   "id": "043f8657",
   "metadata": {},
   "source": [
    "### Task 4: Design a simple Python program to manage bank accounts using OOP principles. The program should allow users to create accounts, deposit money, withdraw money, and check the balance.\n",
    "\n"
   ]
  },
  {
   "cell_type": "code",
   "execution_count": null,
   "id": "d11c86df",
   "metadata": {},
   "outputs": [],
   "source": [
    "class Bankaccount:\n",
    "    def __init__ (self,owner, balance):\n",
    "        self.owner = owner\n",
    "        self.__balance= balance\n",
    "        \n",
    "    "
   ]
  },
  {
   "cell_type": "code",
   "execution_count": null,
   "id": "3935c427",
   "metadata": {},
   "outputs": [],
   "source": []
  }
 ],
 "metadata": {
  "kernelspec": {
   "display_name": "base",
   "language": "python",
   "name": "python3"
  },
  "language_info": {
   "codemirror_mode": {
    "name": "ipython",
    "version": 3
   },
   "file_extension": ".py",
   "mimetype": "text/x-python",
   "name": "python",
   "nbconvert_exporter": "python",
   "pygments_lexer": "ipython3",
   "version": "3.12.7"
  }
 },
 "nbformat": 4,
 "nbformat_minor": 5
}
